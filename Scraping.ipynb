{
 "cells": [
  {
   "cell_type": "code",
   "execution_count": 2,
   "metadata": {},
   "outputs": [
    {
     "name": "stderr",
     "output_type": "stream",
     "text": [
      "[nltk_data] Downloading package punkt to\n",
      "[nltk_data]     C:\\Users\\ASUS\\AppData\\Roaming\\nltk_data...\n",
      "[nltk_data]   Package punkt is already up-to-date!\n"
     ]
    },
    {
     "name": "stdout",
     "output_type": "stream",
     "text": [
      "('Live Streaming Mola TV, Timnas Indonesia U-19 vs Bosnia, Tonton di Sini', datetime.datetime(2020, 9, 25, 0, 0), [], 'https://www.tribunnews.com/superskor/2020/09/25/live-streaming-mola-tv-timnas-indonesia-u-19-vs-bosnia-tonton-di-sini', 'Selebrasi para pemain Timnas Indonesia U-19 setelah mencetak gol penyeimbang atas Arab Saudi. Garuda Muda paksa imbang 3-3, Jumat (11/9/2020) malam,Berikut ini link live streaming pertandingan antara Timnas Indonesia U19 melawan Bosnia Herzegovina dalam laga ujicoba, tayang Mola TV dan Net TV.\\n\\nTRIBUNNEWS.COM - Berikut ini link live streaming pertandingan antara Timnas Indonesia U19 melawan Bosnia Herzegovina dalam laga ujicoba, tayang Mola TV dan Net TV, malam ini.\\n\\nPertandingan Timnas Indonesia U19 vs Bosnia Herzegovina bakal digelar di Stadion Igraliste NK Polet, Jumat (25/9/2020) malam ini.\\n\\nDuel Timnas Indonesia U19 vs Bosnia Herzegovina juga dapat anda saksikan melalui tayangan Mola TV dan Net TV mulai pukul 21.00 WIB.\\n\\n(Link live streaming Timnas Indonesia vs Bosnia Herzegovina via Mola TV atau Net TV tersedia di akhir).\\n\\nPelatih Timnas Indonesia U19, Shin Tae Yong mengindikasikan akan melakukan rotasi pemain dalam laga melawan Bosnia Herzegovina.\\n\\nSalah satu alasan utama Shin Tae-yong melakukan rotasi pemain adalah untuk memantau perkembangan setiap pemain asuhannya dalam laga pemusatan latihan kali ini.\\n\\n\"Melawan Bosnia Herzegovina, kembali kami ingin terus melihat perkembangan pemain,\" ujar Shin Tae-yong dilansir laman resmi PSSI.\\n\\n\"Kami akan memberikan kesempatan kepada pemain yang belum pernah bermain untuk tampil,\" kata pelatih asal Korea Selatan tersebut.\\n\\nBaca: Siap Turunkan Jack Brown, Shin Tae-yong Rotasi Pemain saat Timnas U-19 Indonesia Lawan Bosnia\\n\\nLebih lanjut, rotasi pemain yang dilakukan Shin Tae-yong diharapkan bisa memberikan kesempatan bagi setiap pemain untuk membuktikan kualitas terbaiknya.\\n\\n\"Rotasi ini kami lakukan dengan bertujuan kami dapat melihat perkembangan seluruh pemain saat tampil di lapangan,\" tegas Shin Tae-yong.\\n\\n\"Kondisi pemain saat ini sudah siap menjalani laga uji coba,\" tambahnya.')\n"
     ]
    },
    {
     "name": "stderr",
     "output_type": "stream",
     "text": [
      "[nltk_data] Downloading package punkt to\n",
      "[nltk_data]     C:\\Users\\ASUS\\AppData\\Roaming\\nltk_data...\n",
      "[nltk_data]   Package punkt is already up-to-date!\n"
     ]
    },
    {
     "name": "stdout",
     "output_type": "stream",
     "text": [
      "('Tito Usul Penanganan Dampak Covid-19 Jadi Tema Debat Pilkada Serentak 2020', None, [], 'https://www.tribunnews.com/pilkada-2020/2020/09/25/tito-usul-penanganan-dampak-covid-19-jadi-tema-debat-pilkada-serentak-2020', 'Laporan Wartawan Tribunnews, Larasati Dyah Utami\\n\\nTRIBUNNEWS.COM, JAKARTA –- Menteri Dalam Negeri, Tito Karnavian mengusulkan penanganan dampak Covid-19 jadi tema sentral debat dalam Pemilihan Kepala Daerah (Pilkada) Serentak 2020.\\n\\nIa menyampaikan usulan tersebut kepada Komisi Pemilihan Umum (KPU).\\n\\n“Saya sudah mengusulkan kepada KPU untuk menjadi materi debat utama, yaitu peran kepala daerah dalam penanganan pandemi covid-19 dan dampak sosial ekonominya,” kata Tito saat melantik penjabat sementara di lingkungan Kemendagri, Jumat (25/9/2020)\\n\\nCalon daerah diharapkan terpacu untuk adu gagasan menghadapi keadaan riil yang dihadapi masyarakat Indonesia saat ini.\\n\\nApalagi belum ada otoritas global yang bisa memprediksi kapan pandemi akan berakhir.\\n\\n“Kita berdoa pandemi akan segera berakhir, apalagi jika ditemukan vaksin. Mudah-mudahan segera membaik,” katanya\\n\\nMenurutnya para calon kepala daerah yang akan dilantik nantinya pada bulan Februari atau Juni 2021 akan menghadapi situasi yang nyata.\\n\\nMasalah yang akan dihadapi para kepala daerah terpilih nantinya terkait dampak sosial, termasuk masalah pengangguran dan adanya pertumbuhan tingkat kemiskinan, serta dampak ekonomi yang dihadapi perusahaan maupun rumah tangga.\\n\\n“Maka dari itu materi debat yang saya sampaikan ke KPU yaitu mengenai gagasan untuk membuat pandemi covid-19 yang dapat dikendalikan di wilayah masing-masing. Ini menjadi tantangan yang sebenarnya,” kata Tito.\\n\\nLangkah 309 daerah yang akan melaksanakan Pilkada menurutnya penting untuk mendukung langkah pemerintahan pusat.\\n\\nMenjaga kerumunan sosial merupakan faktor utama dalam pelaksanaan Pilkada kali ini. Oleh karena itu ia meminta para Paslon peserta Pilkada mematuhi protokol Covid-19.\\n\\n“Sedapat mungkin kerumunan sosial tidak terjadi. Kalau ada juga dibatasi betul. Tapi kami mendorong menggunakan media daring, baik media konvensional, TV, Radio, media cetak maupun online dan lain-lain. Ini yang kita harapkan, adanya perubahan tata cara kampanye di tengah pandemi covid-19,” kata Tito')\n"
     ]
    },
    {
     "name": "stderr",
     "output_type": "stream",
     "text": [
      "[nltk_data] Downloading package punkt to\n",
      "[nltk_data]     C:\\Users\\ASUS\\AppData\\Roaming\\nltk_data...\n",
      "[nltk_data]   Package punkt is already up-to-date!\n"
     ]
    },
    {
     "name": "stdout",
     "output_type": "stream",
     "text": [
      "('Inilah Sosok Jenderal TNI yang Jadi Orang Pertama Melarang Penayangan Film G30S/PKI', datetime.datetime(2020, 9, 25, 0, 0), [], 'https://www.tribunnews.com/nasional/2020/09/25/inilah-sosok-jenderal-tni-yang-jadi-orang-pertama-melarang-penayangan-film-g30spki', 'TRIBUNNEWS.COM, JAKARTA - Setiap tanggal 30 September selama era Orde Baru, film \"Pengkhianatan G30S/PKI\" selalu diputar di TVRI stasiun televisi milik pemerintah.\\n\\nNamun hal itu berubah setelah reformasi. Menteri Penerangan kala itu yang juga merupakan jenderal dari TNI, Letjen Muhammad Yunus Yosfiah memutuskan untuk menghentikan penayangan \"film wajib\" tersebut.\\n\\nYunus mencatatkan diri sebagai orang yang pertama membuat aturan bahwa film Pengkhianatan G30S/PKI tak lagi wajib diputar.\\n\\nBaca: Isu PKI dan Komunis Cuma Buat Jualan Politik, Kurang Kreatif dan Inovatif\\n\\nMemang, pada periode kepemimpinan Presiden Soharto, sebuah film legendaris berjudul Penumpasan Pengkhianatan G30S/PKI atau lazim dikenal dengan nama Pengkhianatan G30S/PKI wajib diputar di seluruh bioskop dan stasiun televisi Tanah Air.\\n\\nFilm produksi Perum Produksi Film Negara (PPFN) tahun 1984 ini disutradari dan ditulis oleh Arifin C Noer.\\n\\nKala itu, ia menghabiskan waktu dua tahun untuk memproduksi film yang menghabiskan anggaran Rp 800 juta tersebut.\\n\\nSetelah selesai, film berdurasi 3 jam itu lalu ditayangkan dan diputar secara terus menerus menjelang peringatan Hari Kesaktian Pancasila selama 13 tahun.\\n\\nBaca: Bantah Dicopot Karena Putar Film G30S/PKI, Gatot Nurmantyo : Sudah Waktunya Berhenti\\n\\nKemudian, peristiwa reformasi mengubah kembali arah sejarah Bangsa Indonesia.\\n\\nSelang empat bulan setelah jatuhnya Soeharto, Departemen Penerangan memutuskan tidak lagi memutar film ini.\\n\\nArsip pemberitaan Harian Kompas 30 September 1998 menyebutkan, kala itu, Departemen Penerangan beralasan, film ini sudah terlalu sering ditayangkan.')\n"
     ]
    },
    {
     "name": "stderr",
     "output_type": "stream",
     "text": [
      "[nltk_data] Downloading package punkt to\n",
      "[nltk_data]     C:\\Users\\ASUS\\AppData\\Roaming\\nltk_data...\n",
      "[nltk_data]   Package punkt is already up-to-date!\n"
     ]
    },
    {
     "name": "stdout",
     "output_type": "stream",
     "text": [
      "('Pernikahan Makin Dekat, Nikita Willy Prewedding Kenakan Adat Lampung, Pakai Siger Pepadun', datetime.datetime(2020, 9, 25, 0, 0), [], 'https://www.tribunnews.com/seleb/2020/09/25/pernikahan-makin-dekat-nikita-willy-prewedding-kenakan-adat-lampung-pakai-siger-pepadun', \"TRIBUNNEWS.COM - Mendekati hari pernikahan, Nikita Willy mengunggah potret preweddingnya bersama Indra Priawan.\\n\\nKeduanya tampak serasi mengenakan busana adat Lampung.\\n\\nPada unggahannya, Jumat (25/9/2020), Nikita menuliskan caption 'Siger Pepadun'.\\n\\nDikutip dari Wikipedia, Siger merupakan mahkota pengantin wanita Lampung yang berbentuk segitiga, berwarna emas dan biasanya memiliki cabang atau lekuk berjumlah sembilan atau tujuh.\\n\\nSementara Pepadun berarti memiliki lekuk sembilan.\\n\\nSeperti terlihat pada foto, mahkota yang ada di kepala Nikita berlekuk sembilan.\\n\\nUntuk pemotretan spesialnya ini, Nikita dirias oleh make up artist Bubah Alfian.\\n\\n• Jarang Foto Berdua, Tasya Kamila Sengaja Sempatkan Foto dengan Randi Bachtiar, Intip Potretnya\\n\\n• Fanny Fabriana Minta Doa Penyakit Putri Sulungnya segera Diangkat, Salut Putrinya Tetap Ceria\\n\\n• Tes Kepribadian - Apa yang Pertama Kali Kamu Lihat, Wolverine atau Batman? Ungkap Keunikanmu\\n\\n• Dulu Lucu Kini Nino Kuya Tampil Gondrong, Astrid Beberkan Alasan Haru Putranya agar Terkesan Garang\\n\\n• Audi Marissa Sudah Menikah, Billy Davidson Ungkap Pengalamannya Pacaran Beda Keyakinan dengan Mantan\\n\\nPada video unggahan Bubah Alfian, tampak Nikita Willy dengan perhiasan berwarna emas.\\n\\nNikita juga tampak melenggak-lenggokkan tubuhnya dengan anggun.\\n\\nBts Prewedding photoshoot\\n\\nBACA SELENGKAPNYA >>>\")\n"
     ]
    },
    {
     "name": "stderr",
     "output_type": "stream",
     "text": [
      "[nltk_data] Downloading package punkt to\n",
      "[nltk_data]     C:\\Users\\ASUS\\AppData\\Roaming\\nltk_data...\n",
      "[nltk_data]   Package punkt is already up-to-date!\n"
     ]
    },
    {
     "name": "stdout",
     "output_type": "stream",
     "text": [
      "('PMI Distribusikan 5.000 Liter Air Bersih Pada Korban Terdampak Banjir Bandang di Sukabumi', datetime.datetime(2020, 9, 25, 0, 0), [], 'https://www.tribunnews.com/regional/2020/09/25/pmi-distribusikan-5000-liter-air-bersih-pada-korban-terdampak-banjir-bandang-di-sukabumi', 'PMI Distribusikan 5000 Liter Air Bersih Pada Korban Terdampak Banjir Bandang di Kab. Sukabumi, Jumat (25/9/2020).\\n\\nLaporan Wartawan Tribunnews, Larasati Dyah Utami\\n\\nTRIBUNNEWS.COM –-Sebanyak 5000 air bersih didistribusikan Palang Merah Indonesia (PMI) kepada korban terdampak banjir bandang di Kabupaten Sukabumi, Jumat (25/9/2020).\\n\\nSekjen PMI, Sudirman Said mengatakan kebutuhan akan air sangat penting dalam setiap bencana karena merupakan kebutuhan dasar.\\n\\n\"Air bersih sangat penting, warga terdampak bisa menggunakan untuk melakukan aktivitas sehari hari, untuk cuci dan masak, dan tentunya untuk menjaga masyarakat untuk terhindar dari penyakit pasca banjir,\" kata Sudirman dalam keterangannya, Jumat (25/9/2020).\\n\\nAda sekiranya 200 Kepala Keluarga (KK) warga Desa Kuta Jaya, Kec. Cicurug, Kab.Sukabumi yang menjadi korban terdampak banjir bandang.\\n\\nBaca: Kerugian Pasca Banjir Bandang Sukabumi, 151 Rumah Rusak Sedang dan 82 Rusak Berat\\n\\nSelain untuk memenuhi kebutuhan dasar, air juga mengurangi dampak penyakit pasca banjir\\n\\n“Akibat banjir bandang, banyak fasilitas warga yang rusak, seperti sumur yang terendam material banjir atau lumpur, untuk itu PMI selain membantu upaya evakuasi dan pelayanan kesehatan, akan terus membantu kebutuhan masyarakat terdampak banjir akan air bersih,” tambah Sudirman Said.\\n\\nMayoritas warga di Desa Kuta Jaya menggunakan air bersih dari resapan air gunung sebelum terjadinya banjir bandang berdasarkan hasil asesmen yang dilakukan PMI.\\n\\nAkibat banjir bandang tersebut warga di Desa Kuta Jaya menjadi kekurangan air bersih karena sumber air mereka ikut tercemar lumpur.\\n\\n“Karena banjir jadi warga kesusahan untuk mendapatkan air bersih,” katanya\\n\\nBaca: Banjir Sentimen Negatif Tekan IHSG, Sektor Pertanian dan Pertambangan Ambruk\\n\\nSebanyak 939 jiwa dan 284 KK terkena dampak dari banjir bandang yang melanda wilayah Kab. Sukabumi pada Senin (21/9/2020).\\n\\nSementara itu, 283 rumah yang mengalami kerusakan diantaranya 151 rusak ringan, 50 rusak sedang, 82 rusak berat, yang tersebar di wilayah Kecamatan Cidahu, Kec. Parungkuda dan Kec. Cicurug.\\n\\n“Dalam respon bencana banjir bandang Kab. Sukabumi juga terus berkoordinasi dengan lintas sektor seperti BPBD Kab. Sukabumi dan Dinas Kesehatan,” kata Sudirman')\n"
     ]
    },
    {
     "name": "stderr",
     "output_type": "stream",
     "text": [
      "[nltk_data] Downloading package punkt to\n",
      "[nltk_data]     C:\\Users\\ASUS\\AppData\\Roaming\\nltk_data...\n",
      "[nltk_data]   Package punkt is already up-to-date!\n"
     ]
    },
    {
     "name": "stdout",
     "output_type": "stream",
     "text": [
      "('Iwan Fals: Yang Menangis Tinggalkan Diriku, Yang Menangis Lupakanlah Aku', datetime.datetime(2020, 9, 25, 0, 0), [], 'https://www.tribunnews.com/seleb/2020/09/25/chord-mata-dewa-iwan-fals-yang-menangis-tinggalkan-diriku-yang-menangis-lupakanlah-aku', \"Aksi panggung musisi Iwan Fals saat tampil pada konser yang bertajuk 'Konser Untukmu Indonesia' di Istora Senayan, Jakarta Pusat, Sabtu (21/11/2015) malam. Iwan Fals membuka konser dengan menyanyikan lagu hitsnya yang berjudul 'Pesawat Tempur' yang sukses menyulut adrenalin para penonton. Tribunnews/Jeprima\\n\\nTRIBUNNEWS.COM - Berikut chord Mata Dewa, lagu yang dipopulerkan oleh Iwan Fals.\\n\\nLagu Mata Dewa ini termuat di album Mata Dewa Iwan Fals yang dirilis pada 1989.\\n\\nIwan Fals dalam sebuah konser mengatakan lagu ini menceritakan tentang sepasang kekasih yang sedang duduk di pantai menikmati matahari terbenam.\\n\\nLaki-laki tersebut takjub akan keindahan matahari hingga meninggalkan kekasihnya dan mencoba mendekati matahari.\\n\\nSang wanitapun merasa ketakutan dan menangis karena kekasihnya semakin jauh dari tepi pantai hingga akhirnya tenggelam bersama matahari.\\n\\nBerikut chord Mata Dewa dari Iwan Fals\\n\\nIntro : E C#m A B 2X\\n\\n\\n\\nE F#m\\n\\nDi atas pasir senja pantai Kute\\n\\nA B\\n\\nSaat kau rebah di bahu kiriku\\n\\nE F#m\\n\\nHelai rambutmu halangi khusukku\\n\\nA B\\n\\nNikmati ramah mentari yang pulang\\n\\n\\n\\nE B\\n\\nSeperti mata dewa\\n\\nA B\\n\\nSeperti mata dewa\\n\\nE B\\n\\nSeperti mata dewa\\n\\nA B\\n\\nSeperti mata dewa\\n\\n\\n\\nAku berdiri tinggalkan dirimu\\n\\nWaktu sinarnya jatuh di jiwaku\\n\\nGemuruh ombak sadarkan sombongku\\n\\nAjaklah aku wahai sang perkasa\\n\\nSeperti mata dewa 4X\\n\\n\\n\\nE G#m A B\\n\\nYang menangis tinggalkan diriku\\n\\nE C#m A B\\n\\nYang menangis lupakanlah aku\\n\\nE G#m A B\\n\\nYang menangis tinggalkan diriku\\n\\nE C#m A B\\n\\nYang menangis lupakanlah aku\\n\\nE B A B E\\n\\nSenja di hati\\n\\n\\n\\nE B A B E\\n\\n\\n\\nLidah gelombang jilati batinku\\n\\nBelaian karang sampai ke jantungku\\n\\nJingga terbakar ajak aku pergi\\n\\nKasihku tulus setulus indahmu\\n\\nSeperti mata dewa 4X\\n\\n(Tribunnews.com)\")\n"
     ]
    },
    {
     "name": "stderr",
     "output_type": "stream",
     "text": [
      "[nltk_data] Downloading package punkt to\n",
      "[nltk_data]     C:\\Users\\ASUS\\AppData\\Roaming\\nltk_data...\n",
      "[nltk_data]   Package punkt is already up-to-date!\n"
     ]
    },
    {
     "name": "stdout",
     "output_type": "stream",
     "text": [
      "(\"Sempat Diisukan Dekat, Rizky Febian Beri Pesan untuk Anya Geraldine: 'Aku Harap Kamu Bisa Jaga Diri'\", datetime.datetime(2020, 9, 25, 0, 0), [], 'https://style.tribunnews.com/2020/09/25/sempat-diisukan-dekat-rizky-febian-beri-pesan-untuk-anya-geraldine-aku-harap-kamu-bisa-jaga-diri', 'TRIBUNSTYLE.COM - Sempat dikabarkan dekat, Rizky Febian beri pesan untuk Anya Geraldine, putra Sule ingin sang selebgram jaga diri.\\n\\nRizky Febian memang sempat dikabarkan dekat dengan selebgram Anya Geraldine.\\n\\nKedekatan mereka santer terdengar sejak Anya Geraldine membintang video klip Rizky Febian.\\n\\nKedekatan keduanya sempat dituding jadi penyebab Anya Geraldine putus dari Ovi Rangkuti.\\n\\nNamun, Anya Geraldine membantah bahwa Rizky Febian lah yang menjadi penyebab hubungannya berakhir.\\n\\n• Idamkan Wanita Seperti Nagita Slavina, Rizky Febian sampai Tanya Raffi Ahmad: Gimana Cara Dapetin?\\n\\n• Gara-gara Tudingan Rebut Anya Geraldine, Rizky Febian Mengaku Sule Sampai Dapat Ancaman Pembunuhan\\n\\nRizky Febian dan Anya Geraldine (Instagram @rizkyfbian)\\n\\nRizky Febian dan Anya Geraldine juga membantah bahwa mereka tengah menjalin hubungan.\\n\\nPutra komedian Sule itu mengaku sebagai sahabat Anya Geraldine.\\n\\nSebagai sahabat, Rizky Febian pun memberi pesan untuk Anya Geraldine, termasuk dalam hal asmara.\\n\\nHal itu terlihat di video yang diunggah di kanal YouTube RANS Entertainment pada Rabu (23/9/2020) lalu.\\n\\nSebelumnya, Rizky Febian mengungkapkan Anya Geraldine merupakan orang yang baik dan ramah dengan siapa pun.')\n"
     ]
    },
    {
     "name": "stderr",
     "output_type": "stream",
     "text": [
      "[nltk_data] Downloading package punkt to\n",
      "[nltk_data]     C:\\Users\\ASUS\\AppData\\Roaming\\nltk_data...\n",
      "[nltk_data]   Package punkt is already up-to-date!\n"
     ]
    },
    {
     "name": "stdout",
     "output_type": "stream",
     "text": [
      "('Pemuda 19 Tahun di Belitung Tepergok Ingin Mencuri Uang Warung Lalu Sembunyi di Semak-semak', datetime.datetime(2020, 9, 25, 0, 0), [], 'https://belitung.tribunnews.com/2020/09/25/pemuda-19-tahun-di-belitung-tepergok-ingin-mencuri-uang-warung-lalu-sembunyi-di-semak-semak', 'POSBELITUNG.CO, BELITUNG - Seorang pemuda bernama Jaka Huditian, warga Jalan Air Serkuk RT 25/12 Kelurahan Air Saga, Tanjungpandan, Belitung, Jumat (25/9/2020) harus berurusan dengan aparat kepolisian.\\n\\nLelaki 19 tahun tersebut harus menjalani proses hukum lantaran mencuri uang.\\n\\nPelaku mencuri uang di warung milik korban, Hendra Arisandi, yang beralamat di Jalan Aik Ranggong RT 27/12 Desa Air Saga, Tanjungpandan.\\n\\nKorban saat itu sedang menonton televisi sembari membuat saringan ikan.\\n\\nKorban curiga setelah terdengar ada suara seperti pintu yang sedang dirusak.\\n\\nSumber suara itu adalah dari warungnya.\\n\\nKorban pun mengeceknya.\\n\\n\"Saat dicek, ternyata pelaku ingin mencuri. Korban dan pelaku ini tidak saling kenal dan langsung korban berteriak, bahwa ada maling. Saat itu pelaku langsung lari, dan korban langsung mengejarnya,\" ujar Kasat Reskrim Polres Belitung AKP Chandra Satria Perdana kepada Posbelitung.co, Jumat (25/9/2020).\\n\\nSembari mengejar pelaku, kata Chandra, korban lantas meminta tolong kepada warga sekitar.\\n\\nTanpa lama, sekitar 300 meter dari Tempat Kejadian Perkara (TKP), pelaku ditemukan oleh korban sedang bersembunyi di semak belukar.\\n\\n\"Masyarakat dan korban yang menemukan, setelah itu baru pelaku diserahkan kepada kami. Untuk modus pelaku, diduga berniat ingin mengambil barang atau uang yang ada didalam warung tersebut,\" ujarnya.\\n\\nUntuk barang bukti, kata Chandra, polisi berhasil mengamankan berupa satu buah parang dengan gagang berwarna biru, satu buah palu berwarna abu-abu, dua buah obeng dengan gagang warna hitam, satu buah kaleng lem sepatu, dan satu buah celana lepis berwarna hitam.\\n\\n\"Untuk kejadian sekitar pukul 00.30 WIB Kamis dini hari. Untuk pelaku sekarang sudah diserahkan kepada kami, untuk ditindaklanjuti,\" ungkap\\n\\nPolisi mengenakan pelaku dengan pasal 362 KUHPidana Jo 53. (posbelitung.co/disa Aryandi)')\n"
     ]
    },
    {
     "name": "stderr",
     "output_type": "stream",
     "text": [
      "[nltk_data] Downloading package punkt to\n",
      "[nltk_data]     C:\\Users\\ASUS\\AppData\\Roaming\\nltk_data...\n",
      "[nltk_data]   Package punkt is already up-to-date!\n"
     ]
    },
    {
     "name": "stdout",
     "output_type": "stream",
     "text": [
      "('Jamin Vicky Prasetyo Dapat Program TV Setelah Bebas dari Bui, Ruben Onsu: Gua Pasti Bawa Lu', datetime.datetime(2020, 9, 25, 0, 0), [], 'https://bogor.tribunnews.com/2020/09/25/jamin-vicky-prasetyo-dapat-program-tv-setelah-bebas-dari-bui-ruben-onsu-gua-pasti-bawa-lu', 'Ruben Onsu jamin Vicky Prasetyo akan dapat program TV lagi setelah bebas dari penjara\\n\\nTRIBUNNEWSBOGOR.COM - Ruben Onsu jamin Vicky Prasetyo akan dapat program TV lagi setelah bebas dari penjara.\\n\\nHal ini sudah diungkapkan Ruben Onsu saat Vicky Prasetyo masih ditahan di dalam sel.\\n\\nSebelumnya, Vicky Prasetyo bercerita bahwa selama mendekam di Rutan Salemba, ia dibantu beberapa teman artis.\\n\\nSatu diantara artis yang membantunya adalah Ruben Onsu.\\n\\nVicky Prasetyo mengaku, Ruben Onsu pernah memberinya surat dan sejumlah uang untuk makan.\\n\\nSurat tersebut berisi tentang kata-kata semangat dan harapan semoga Vicky Prasetyo semakin dekat dengan Tuhan.\\n\\nMenanggapi cerita Vicky Prasetyo, Ruben Onsu tersenyum saat diwawancara jurnalis.\\n\\nDilansir TribunnewsBogor.com dari YouTube KH Infotainment, Ruben Onsu mengatakan jika seseorang sedang dalam keadaan susah, yang dibutuhkan adalah dukungan.\\n\\n\"Dia itu kan menanggung banyak keluarganya, semua bertumpu sama dia,\" kata Ruben Onsu.\\n\\n• Vicky Prasetyo Akui Dapat Bantuan dari Ruben Onsu hingga Denny Cagur Selama di Penjara\\n\\nIa melanjutkan, selama berada di dalam penjara, Vicky Prasetyo tidak bisa bekerja, sehingga tak mendapat penghasilan untuk keluarga.')\n"
     ]
    },
    {
     "name": "stderr",
     "output_type": "stream",
     "text": [
      "[nltk_data] Downloading package punkt to\n",
      "[nltk_data]     C:\\Users\\ASUS\\AppData\\Roaming\\nltk_data...\n",
      "[nltk_data]   Package punkt is already up-to-date!\n"
     ]
    },
    {
     "name": "stdout",
     "output_type": "stream",
     "text": [
      "('Download Lagu Didi Kempot Pamer Bojo, Lengkap dengan Lirik dan Chord Gitar', datetime.datetime(2020, 9, 25, 0, 0), [], 'https://bogor.tribunnews.com/2020/09/25/download-lagu-didi-kempot-pamer-bojo-lengkap-dengan-lirik-dan-chord-gitar', 'TRIBUNNEWSBOGOR.COM - Berikt adalah link download lagu Didi Kempot Pamer Bojo lengkap dengan chord gitar dan liriknya.\\n\\nLink download lagu Didi Kempot Pamer Bojo tersedia di akhir artikel.\\n\\nSelain link download lagu Didi Kempot Pamer Bojo, tersedia juga lirik dan chordnya.\\n\\nLagu Pamer Bojo merupakan lagu yang dinyanyikan dan diciptakan sendiri oleh sang maestro Didi Kempot.\\n\\nVideo klip lagu Pamer Bojo pertama kali dibagikan oleh akun YouTube Didi Kempot Official Channel pada 23 November 2018.\\n\\nBerikut adalah chord gitar dan lirik Pamer Bojo Didi Kempot :\\n\\nPamer Bojo - Didi Kempot\\n\\n[Verse]\\n\\nC F C\\n\\nKoyo ngene rasane wong nandang kangen\\n\\nAm Em\\n\\nRino wengi atiku rasane peteng')\n"
     ]
    },
    {
     "name": "stderr",
     "output_type": "stream",
     "text": [
      "[nltk_data] Downloading package punkt to\n",
      "[nltk_data]     C:\\Users\\ASUS\\AppData\\Roaming\\nltk_data...\n",
      "[nltk_data]   Package punkt is already up-to-date!\n"
     ]
    },
    {
     "name": "stdout",
     "output_type": "stream",
     "text": [
      "('Andrea Dovizioso Bingung Performanya Buruk, Namun Sukses Duduk di Peringkat Teratas Klasemen', datetime.datetime(2020, 9, 25, 0, 0), [], 'https://wartakota.tribunnews.com/2020/09/25/andrea-dovizioso-bingung-performanya-buruk-namun-sukses-duduk-di-peringkat-teratas-klasemen', 'WARTAKOTALIVE.COM, ITALIA - Pebalap pabrikan Ducati, Andrea Dovizioso, mengaku bingung bisa menduduki urutan pertama klasemen sementara pebalap MotoGP musim ini.\\n\\nPadahal, performanya musim ini terbilang jelek.\\n\\nAbsennya pebalap Repsol Honda, Marc Marquez untuk sementara waktu karena cedera membuat pebalap asal Italia itu menjadi salah satu nama yang difavoritkan untuk merebut gelar juara musim ini.\\n\\nMeski salah satu rival terkuatnya sudah menepi, tidak serta-merta menjamin Dovizioso bisa tampil trengginas bersama motor Desmosedici GP20 pada setiap seri balap MotoGP 2020.\\n\\nDirektur Olahraga Ducati, Paolo Ciabatti, memberikan selamat kepada pebalapnya, Andrea Dovizioso. (motorbox.com)\\n\\n\"Sangat terkejut, namun seperti semua orang saya rasa, terlepas dari hasil Austria dan balapan pertama di Jerez,\" katanya dilansir dari laman resmi MotoGP.\\n\\nHingga MotoGP 2020 menyelesaikan balapan ketujuh, Dovizioso baru membukukan total dua kali podium dengan satu kemenangan saat membalap di Red Bull Ring, Austria.\\n\\nMenjelang bergulirnya seri MotoGP Catalunya 2020 akhir pekan ini, pebalap berusia 34 tahun ini harus bekerja lebih keras lagi jika posisinya sebagai pemuncak klasemen sementara tak ingin tergusur.\\n\\nDovizioso kini mengumpulkan total 84 poin atau hanya unggul satu poin saja atas rider Petronas Yamaha SRT, Fabio Quartararo, yang berada satu setrip di bawahnya.\\n\\nTak hanya dengan Quartararo, posisi Dovizioso masih rawan tergusur bahkan oleh Pol Espargaro sekalipun yang kini menduduki di peringkat ke-10 dengan perbedaan hanya 27 poin.\\n\\nAndrea Dovizioso (Daily Star)\\n\\n\"Saya tidak pernah tampil kuat dan cepat seperti pada masa lalu, saya terkejut masih memimpin kejuaraan ini, namun ini musim yang gila, semua rider kesulitan,\" tuturnya.')\n"
     ]
    },
    {
     "name": "stderr",
     "output_type": "stream",
     "text": [
      "[nltk_data] Downloading package punkt to\n",
      "[nltk_data]     C:\\Users\\ASUS\\AppData\\Roaming\\nltk_data...\n",
      "[nltk_data]   Package punkt is already up-to-date!\n"
     ]
    },
    {
     "name": "stdout",
     "output_type": "stream",
     "text": [
      "('Harga Terjangkau, Kelas Online R Fitness Dorong Masyarakat Tetap Aktif Olahraga di Rumah', datetime.datetime(2020, 9, 25, 0, 0), [], 'https://wartakota.tribunnews.com/2020/09/25/harga-terjangkau-kelas-online-r-fitness-dorong-masyarakat-tetap-aktif-olahraga-di-rumah', 'Kelas online R Fitness bertajuk \\'Level-Up #DIRUMAHBANGET\\' menawarkan fasilitas dan pengalaman olahraga bersama instruktur pilihan secara online.\\n\\n“Melalui aplikasi resmi R Fitness yang bisa didownload melalui Play store dan App Store, Legends bisa mengikuti berbagai program baik yang reguler ataupun yang berbentuk event dengan harga sangat terjangkau...\"\\n\\nWARTAKOTALIVE.COM, JAKARTA - Masa pandemi masih belum berakhir dan pembatasan sosial berskala besar (PSBB) kembali diberlakukan di Jakarta, tapi bukan berarti jadi legitimasi bagai Anda untuk mager alias malas bergerak.\\n\\nMeski di rumah saja, namun aktifitas terutama olah raga bisa Anda lakukan juga, salah satunya dengan mengikuti kelas online R Fitness.\\n\\nMelalui kelas online, R Fitness punya kesempatan untuk terus berkembang dan melayani kebutuhan Legends (sebutan pelanggan setia R Fitness) dengan tetap mematuhi protokol kesehatan yang dianjurkan oleh pemerintah.\\n\\nPada kesempatan kali ini, R Fitness menginisiasi sebuah program yang diharapkan dapat memberikan dampak positif terhadap kegiatan sehari-hari di tengah kondisi yang sedang dialami.\\n\\n• Berikut Tips Sukses Ari Wibowo Menjaga Kesehatan dan Kebugaran Tubuhnya di Usia 49 Tahun\\n\\n• Jelang Marathon Virtual, Ini Jenis Latihan Rutin Daniel Mananta dan Manfaat 5 Jenis Pakaian Dry-Ex\\n\\nInstruktur pilihan\\n\\nCOO & Co-Founder R Fitness Adhitya Lesmana mengungkapkan, sebuah kelas online bertajuk \\'Level-Up #DIRUMAHBANGET\\' yang dirilis oleh R Fitness secara live melalui platform aplikasi Zoom, menawarkan fasilitas dan pengalaman olahraga bersama instruktur pilihan secara online.\\n\\nKelas Level Up #DIRUMAHBANGET nantinya dapat diikuti dengan mendaftar melalui aplikasi R Fitness.\\n\\n“Melalui aplikasi resmi R Fitness yang bisa didownload melalui Play store dan App Store, Legends bisa mengikuti berbagai program baik yang reguler ataupun yang berbentuk event dengan harga sangat terjangkau, mulai dari Rp 20.000 per sesi,” ujar Adhitya dalam keterangan resminya, Jumat (25/9/2020).\\n\\n• Tahan Air dan Debu, Ini Spesifikasi Lengkap dan Harga Samsung Galaxy S20 FE, Perbedaan dengan S20?\\n\\n• Resmi, Harga iPhone SE 2020 di Indonesia Mulai Rp 7 Jutaan, Ada 3 Varian, Ini Spesifikasinya\\n\\nKelas Yoga dan Meditasi\\n\\nIa menambahkan, dalam kelas online ini, Legends dapat mencoba kelas Meditasi dan Yoga untuk membuat suasana hati lebih tenang, atau kelas Pound dan Strong yang energik sebagai media untuk melepaskan stres yang dirasakan.\\n\\n“Tidak hanya itu saja, beberapa kelas lain yang tak kalah menarik juga disuguhkan pada masyarakat sekaligus agar mengenalkan kelas R Fitness ke lapisan masyarakat yang lebih luas,” sebutnya.\\n\\n• Harga Rp 800 Ribuan, Nokia C1 dengan Google Assistant dan Bisa Simpan 3.000 Lagu, Ini Spesifikasinya\\n\\n• Tahan Air dan Debu, Ini Keunggulan, Harga dan Spesifikasi Lengkap Samsung Galaxy S20 FE di Indonesia\\n\\nPrivate group\\n\\nR Fitness juga menyelenggarakan program private group session untuk tingkat korporasi dan saat ini sudah ada beberapa Multinational Companies yang sudah menikmati private group session bersama R Fitness.\\n\\n“Inovasi kelas digital yang kami lakukan merupakan bentuk komitmen kami untuk terus mendampingi Legends dan masyarakat umum dimanapun mereka berada,” ungkap Adhitya.\\n\\nKelas gratis\\n\\nUntuk meramaikan kampanye #DIRUMAHBANGET R Fitness juga akan memberikan kelas gratis setiap minggunya yang bernama #SantaySunday, di mana Legends dapat menikmati quality time bersama keluarga sembari berolahraga bersama.')\n"
     ]
    },
    {
     "name": "stderr",
     "output_type": "stream",
     "text": [
      "[nltk_data] Downloading package punkt to\n",
      "[nltk_data]     C:\\Users\\ASUS\\AppData\\Roaming\\nltk_data...\n",
      "[nltk_data]   Package punkt is already up-to-date!\n"
     ]
    },
    {
     "name": "stdout",
     "output_type": "stream",
     "text": [
      "('Pradi Supriatna Kembalikan Mobil Dinas Pemkot Depok, Jalani Aktivitas dengan Naik Vespa Tahun 70-an', datetime.datetime(2020, 9, 25, 0, 0), [], 'https://wartakota.tribunnews.com/2020/09/25/pradi-supriatna-kembalikan-mobil-dinas-pemkot-depok-jalani-aktivitas-dengan-naik-vespa-tahun-70-an', 'Wakil Wali Kota Depok, Pradi Supriatna, naik motor Vesta tahun 70-an saat bekerja\\n\\nWARTAKOTALIVE.COM, DEPOK - Ingin memberikan contoh yang baik, calon Wali Kota Depok, Pradi Supriatna, mengembalikan mobil dinas.\\n\\nPria kelahiran Depok, 9 Oktober 1970 itu mengembalikan mobil dinas jelang cuti pada masa kampanye Pilkada Depok yang dimulai 26 September 2020.\\n\\nWakil Wali Kota Depok, Pradi Supriatna, mengembalikan mobil dinasnya pada Jumat (25/9/2020) petang.\\n\\nAda empat kendaraan yang dikembalikan Pradi kepada negara.\\n\\n“Selama ini negara memberikan fasilitas pada saya, diantaranya kendaraan untuk operasional. Di saya ada roda empat (mobil) dua unit dan motor dua unit. Rencananya sore ini akan saya kembalikan semua kepada negara,” kata Pradi.\\n\\nSetelah itu, politikus Gerindra ini akan melanjutkan aktivitas dengan kendaraan pribadi, salah satu yang jadi andalannya adalah Vespa tahun 1970-an.\\n\\n“Langkah berikutnya kita akan ikuti aturan yang sudah diberikan KPU pada kami, di antaranya sosialisasi kami pada msyarakat dalam menyampaikan visi misi program-program kami kedepan, semua ini akan kami laporkan, termasuk pada Bawaslu.”\\n\\nDengan demikian, kata Pradi, dipastikan masa cuti tersebut bakal membuat dirinya tambah sibuk.\\n\\n“Ini bukan ngisi waktu luang malah, karena ini sudah masuk masa sosialisasi kampanye, masyarakat banyak ingin ditemui,” ujarnya\\n\\nNamun disisi lain, Pradi mengakui, masa cuti ini akan dimanfatkannya untuk mengganti waktu yang selama ini sedikit bersama keluarga.')\n"
     ]
    },
    {
     "name": "stderr",
     "output_type": "stream",
     "text": [
      "[nltk_data] Downloading package punkt to\n",
      "[nltk_data]     C:\\Users\\ASUS\\AppData\\Roaming\\nltk_data...\n",
      "[nltk_data]   Package punkt is already up-to-date!\n"
     ]
    },
    {
     "name": "stdout",
     "output_type": "stream",
     "text": [
      "('Skuad Cagliari Gembira Diego Godin Datang karena Mereka Yakin Performa Tim Bakal Meningkat', datetime.datetime(2020, 9, 25, 0, 0), [], 'https://wartakota.tribunnews.com/2020/09/25/skuad-cagliari-gembira-diego-godin-datang-karena-mereka-yakin-performa-tim-bakal-meningkat', 'WARTAKOTALIVE.COM, ITALIA - Penyerang Cagliari, Giovanni Simeone, mengatakan kedatangan Diego Godin dari Inter Milan membuatnya antusias dan berharap bisa bermain dengan pemain Uruguay itu.\\n\\n“Idola bagi semua penggemar Atletico, dia adalah simbol bagi kami para penggemar. Dia meninggalkan jiwanya di sana. Dia juga meninggalkan sesuatu di Inter,\"kata Simeone kepada Radiolina.\\n\\n“Dia memiliki karier yang penting dan merupakan pemain yang meninggalkan segalanya di lapangan,\" katanya.\\n\\n\"Saya senang dia akan datang ke sini. Itu membuat saya antusias dan memberi saya keinginan untuk bertarung di lapangan bersamanya,\" lanjutnya.\\n\\n\"Saat saya masih kecil, saya melihatnya di lapangan di Atletico, sekarang kami akan bermain bersama dan bertarung bersama,\" tutur Simeone.\\n\\nStriker Atletico Madrid, David Villa (kanan), bersama Diego Godin (tengah) dan Raul Garcia (kiri) merayakan gol ke gawang Sevilla pada laga Liga BBVA di Stadion Vicente Calderon, Madrid, Minggu (19/1/2014). (Kompas.com/AFP PHOTO)\\n\\nSekitar 10 hari menjelang penutupan bursa transfer musim panas, Inter Milan terlihat aktif melepas sejumlah pemain yang menjadi surplus di tim mereka.\\n\\nSetelah resmi merekrut Arturo Vidal pada 22 September lalu, aktivitas transfer masuk Inter kelihatan sudah cukup.\\n\\nSetiap posisi di tim mereka kini sudah diisi minimal dua pemain dengan kemampuan yang tidak jauh berbeda.\\n\\nSkuad Inter malah kini kelihatan gemuk sehingga perlu melepas sejumlah pemain. Hal itulah yang sedang dikejar dilakukan La Beneamata di bursa transfer Liga Italia yang akan ditutup pada 5 Oktober mendatang.\\n\\nPada Jumat (25/9) dini hari WIB, Inter Milan sudah resmi melepas Diego Godin ke Cagliari.')\n"
     ]
    },
    {
     "name": "stderr",
     "output_type": "stream",
     "text": [
      "[nltk_data] Downloading package punkt to\n",
      "[nltk_data]     C:\\Users\\ASUS\\AppData\\Roaming\\nltk_data...\n",
      "[nltk_data]   Package punkt is already up-to-date!\n"
     ]
    },
    {
     "name": "stdout",
     "output_type": "stream",
     "text": [
      "('Presiden Jokowi Resmikan Jalan Tol Pekanbaru-Dumai', datetime.datetime(2020, 9, 25, 0, 0), [], 'https://wartakota.tribunnews.com/2020/09/25/presiden-jokowi-resmikan-jalan-tol-pekanbaru-dumai', 'Wartakotalive.com, Jakarta - Presiden Joko Widodo (Jokowi) berharap jalan tol Pekanbaru-Dumai yang baru saja diresmikan dapat meningkatkan konektivitas antara ibu kota Provinsi Riau, Pekanbaru dengan Kota Dumai.\\n\\nApalagi Dumai merupakan kota pelabuhan dengan industri perminyakan, agribisnis, dan perkebunan.\\n\\n\"Jalan tol memperpendek jarak tempuh kota Pekanbaru-Dumai, dari sebelumnya 200 km jika lewat jalan nasional, menjadi hanya 131 Km jika ditempuh melalui jalan tol ini,\" kata Jokowi dalam acara peresmian Tol Pekanbaru-Dumai secara virtual, Jumat (25/9/2020).\\n\\nDengan meningkatnya konektivitas antarkota, menurut Jokowi, maka truk pengangkut sawit, minyak, logistik, dan penumpang akan lebih efisien waktunya.\\n\\nJokowi berpesan kepada pemerintah daerah dan masyarakat Riau agar dapat memanfaatkan infrastruktur ini sebaik-baiknya.\\n\\nJalan tol dapat dijadikan modal untuk mengembangkan lagi peluang usaha yang ada di wilayah Riau.\\n\\n\"Sehingga dapat meningkatkan pemerataan kesejahteraan masyarakat,\" katanya.\\n\\nArtikel ini telah tayang di Tribunnews.com dengan judul Diresmikan Jokowi, Tol Pekanbaru-Dumai Pangkas Jarak 69 Kilometer')\n"
     ]
    },
    {
     "name": "stderr",
     "output_type": "stream",
     "text": [
      "[nltk_data] Downloading package punkt to\n",
      "[nltk_data]     C:\\Users\\ASUS\\AppData\\Roaming\\nltk_data...\n",
      "[nltk_data]   Package punkt is already up-to-date!\n"
     ]
    },
    {
     "name": "stdout",
     "output_type": "stream",
     "text": [
      "('Antisipasi Banjir pada Musim Penghujan, Sigit Wijatmoko Minta Warga Jakarta Utara Ikut Turun Tangan', datetime.datetime(2020, 9, 25, 0, 0), [], 'https://wartakota.tribunnews.com/2020/09/25/antisipasi-banjir-pada-musim-penghujan-sigit-wijatmoko-minta-warga-jakarta-utara-ikut-turun-tangan', 'WARTAKOTALIVE.COM, TANJUNGPRIOK - Antisipasi banjir jelang musim penghujan, Wali Kota Jakarta Utara Sigit Wijatmoko meminta peran serta masyarakat dalam upaya penanganan banjir di lingkungan rumah.\\n\\nDirinya pun meminta agar semua pihak dapat mengedukasi masyarakat agar aktif terlibat dalam penanganan banjir di wilayah Jakarta Utara.\\n\\n“Kita harus bisa menggerakkan dan mengedukasi masyarakat untuk ikut terlibat dalam penanganan banjir ini,” kata Sigit dikonfirmasi pada Jumat (25/9/2020).\\n\\nMenurut Sigit, semua pihak memiliki tanggung jawab yang setara untuk mengawasi lingkungannya masing-masing.\\n\\nTerlebih kondisi saluran air hingga sungai ketika musim penghujan.\\n\\n\"Warga maupun pejabat setempat seperti lurah dan camat dapat sebagai mata-mata yang langsung melihat situasi, atau kondisi saluran dan kali di wilayahnya masing-masing,\" ungkap Sigit.\\n\\n• Gelar Rekontruksi Kasus Aborsi Ilegal, Polisi Saksikan Sebuah Adegan Mengerikan\\n\\nBersamaan dengan hal tersebut, Sigit menegaskan kepada seluruh pihak agar dapat tetap menjaga protokol kesehatan selama beraktivitas.\\n\\nSebab, pandemi covid-19 katanya kini menjadi tantangan tersendiri bagi pemerintah maupun masyarakat dalam melakukan penataan lewat kerja bakti bersama.\\n\\n• Membantu Warga Terdampak Bencana di Bogor, Kabomania Gelar Aksi Penggalangan Dana\\n\\n\"Melihat kondisi nyata masyarakat masih dalam kondisi pandemi, diperlukan penanganan khusus agar tidak terjadi penyebaran covid-19,\" ungkap Sigit.\\n\\n\"Artinya kita harus bisa menghindari bahwa sebuah proses yang mulia ini jangan menjadi sebuah epicentrum baru penularan covid-19,\" tambahnya.\\n\\n• Bantuan Uang Tunai Rp 500.000 Cair September 2020, Berikut Link Pendaftaran dan Cara Mendapatkannya\\n\\nSementara itu, guna mencegah penyebaran covid-19, Sigit menginstruksikan kepada seluruh pihak untuk menjalani rapid test sebelum terjun dalam penanganan banjir.\\n\\n\"Kita bicara akan proteksi dari penanganan banjir maupun proteksi penyebaran Covid-19. Untuk itu kita harus membangkitkan segala potensi yang ada, mengajak semua pihak terlibat,” kata Sigit. (jhs)')\n"
     ]
    },
    {
     "name": "stderr",
     "output_type": "stream",
     "text": [
      "[nltk_data] Downloading package punkt to\n",
      "[nltk_data]     C:\\Users\\ASUS\\AppData\\Roaming\\nltk_data...\n",
      "[nltk_data]   Package punkt is already up-to-date!\n"
     ]
    },
    {
     "name": "stdout",
     "output_type": "stream",
     "text": [
      "('Pelatih AC Milan Puas Loihat Performa Hakan Calhanoglu saat Tanding Melawan Bodo/Glimt', datetime.datetime(2020, 9, 25, 0, 0), [], 'https://wartakota.tribunnews.com/2020/09/25/pelatih-ac-milan-puas-loihat-performa-hakan-calhanoglu-saat-tanding-melawan-bodoglimt', 'WARTAKOTALIVE.COM, ITALIA - Gelandang AC Milan, Hakan Calhanoglu, tampil luar biasa saat timnya menjamu Bodo/Glimt pada babak kualifikasi III Liga Europa, Jumat (25/9) dini hari WIB.\\n\\nPada pertandingan tersebut pemain asal Turki ini mencetak dua gol dari skor 3-2 untuk kemenangan Milan.\\n\\nSelain mencetak dua gol, Calhanoglu juga membuat satu assist bagi gol Lorenzo Colombo dalam pertandingan tersebut.\\n\\nPemain berusia 26 tahun ini mengonfirmasi penampilan level topnya yang muncul sejak kompetisi digelar lagi setelah lockdown pada medio Juni lalu.\\n\\nHakan Calhanoglu (Ttuttosport)\\n\\nDalam 12 pertandingan terakhir Liga Italia 2019-2020, ketika AC Milan berhasil menjalani streak tidak terkalahkan, Calhanoglu mengemas enam gol dan delapan assist. Kini di kompetisi 2020-2021, Calhanoglu sudah mengoleksi tiga gol dan dua assist dari tiga pertandingan yang sudah dilaluinya.\\n\\nSebelum ini, Calhanoglu menyumbang satu gol dan satu assist ketika AC Milan mengalahkan Shamrock Rovers di babak kualifikasi II Liga Europa.\\n\\nSekarang dalam total 15 pertandingan terakhir yang dilakoninya di semua kompetisi, Calhanoglu berkontribusi sembilan gol dan 10 assist.\\n\\nAC Milan kembali memiliki pemain nomor 10 top yang disebut pelatih Stefano Pioli kini menjadi titik referensi tim.\\n\\n\"Dia pantas banyak mendapatkan kredit untuk kemenangan ini,\" katanya usai laga melawan Bodo/Glimt seperti dikutip dari Football Italia.\\n\\nStefano Pioli (The Sun)\\n\\n\"Dia pemain yang murah hati dengan kualitas tinggi, dia bekerja untuk tim. Tidak mudah untuk mengharapkan dia selalu mencetak dua gol, tetapi saya menunggu penampilan seperti ini. Dia memiliki kualitas untuk menjadi protagonis tim ini,\" imbuh Pioli\\n\\nDengan rata-rata terlibat dalam 1,27 gol per penampilan, kontribusi Calhanoglu dalam tiga bulan terakhir dua kali lipat lebih banyak daripada Kaka, pemain nomor 10 top terakhir yang dimiliki AC Milan.\\n\\nSelama kariernya di AC Milan, Kaka mengemas 104 gol dan 85 assist dari 307 laga atau rata-rata terlibat dalam 0,61 gol per penampilan.\\n\\nItu berarti bisa dibilang sementara Hakan Calhanoglu sedang on fire seperti ini, AC Milan ibarat memiliki dua orang Kaka di dalam tim.')\n"
     ]
    },
    {
     "name": "stderr",
     "output_type": "stream",
     "text": [
      "[nltk_data] Downloading package punkt to\n",
      "[nltk_data]     C:\\Users\\ASUS\\AppData\\Roaming\\nltk_data...\n",
      "[nltk_data]   Package punkt is already up-to-date!\n"
     ]
    },
    {
     "name": "stdout",
     "output_type": "stream",
     "text": [
      "(\"Chord Kunci Gitar 'Andaikan Kau Datang Kembali'\", datetime.datetime(2020, 9, 25, 0, 0), [], 'https://palu.tribunnews.com/2020/09/25/chord-kunci-gitar-andaikan-kau-datang-kembali-koes-plus-terlalu-indah-dilupakan', \"TRIBUNPALU.COM - Berikut chord kunci gitar dan lirik lagu 'Andaikan Kau Datang Kembali' - Koes Plus.\\n\\nIntro : G Am G Am G\\n\\nG Am\\n\\n…Terlalu indah dilupakan...\\n\\nD G\\n\\n…Terlalu sedih dikenangkan..\\n\\nC G\\n\\n…Setelah aku jauh berjalan..\\n\\nD G Bm-C D-G\\n\\nDan kau..ku tinggalkan...\\n\\nG Am\\n\\n…Betapa hatiku bersedih..\\n\\nD G\\n\\n…Mengenang kasih dan sayangmu..\\n\\nC G\\n\\n…Setulus pesanmu kepadaku..\\n\\nD G Bm-C D-G\\n\\nEngkau ….kan menunggu..\\n\\n[Reff:]\\n\\nG Am\\n\\n…Andaikan kau datang kembali…\\n\\nD G\\n\\n…Jawaban apa yang kan ku beri…\\n\\nC G\\n\\n…Adakah jalan yang kau temui\\n\\nD G Bm-C D-G\\n\\nUntuk kita… kembali lagi…\\n\\nG Am\\n\\n…Bersinarlah bulan purnama...\\n\\nD G\\n\\n…Seindah serta tulus cintanya..\\n\\nC G\\n\\n…Bersinarlah terus sampai nanti\\n\\nD G Bm-C D-G\\n\\nLagu ini….. ku akhiri...\\n\\nG Am\\n\\n…Betapa hatiku bersedih..\\n\\nD G\\n\\n…Mengenang kasih dan sayangmu..\\n\\nC G\\n\\n…Setulus pesanmu kepadaku..\\n\\nD G Bm-C D-G\\n\\nEngkau ….kan menunggu..\\n\\n• Chord Kunci Gitar Tak Seindah Cinta yang Semestinya - Naff: Meski Tak Seindah yang Kau Mau\\n\\n• Chord Gitar Menemaniku – NOAH: Temani Aku yang Terjatuh dan Sentuh Jiwa Sepiku, Terangi Pagiku\\n\\n• Lirik Lagu dan Chord Gitar Setengah Hati - Ada Band: Jelas Sudah Tak Kau Pedulikan Cintaku\")\n"
     ]
    },
    {
     "name": "stderr",
     "output_type": "stream",
     "text": [
      "[nltk_data] Downloading package punkt to\n",
      "[nltk_data]     C:\\Users\\ASUS\\AppData\\Roaming\\nltk_data...\n",
      "[nltk_data]   Package punkt is already up-to-date!\n"
     ]
    },
    {
     "name": "stdout",
     "output_type": "stream",
     "text": [
      "('Hari Tani Nasional, Vicky Shu Kenang Sesi Pemotretan Pre-Weddingnya yang Berkonsep Pertanian', datetime.datetime(2020, 9, 25, 0, 0), [], 'https://palu.tribunnews.com/2020/09/25/hari-tani-nasional-vicky-shu-kenang-sesi-pemotretan-pre-weddingnya-yang-berkonsep-pertanian', 'Vicky Shu, Ade Imam Prabowo, bersama kedua anak mereka.\\n\\nTRIBUNPALU.COM - Penyanyi Vicky Shu baru saja merayakan ulang tahun pernikahannya yang ketiga dengan sang suami, Ade Imam Prabowo.\\n\\nDiketahui, Vicky Shu dan Ade Imam Prabowo menikah pada 23 September 2017 silam dan kini telah dikaruniai dua anak laki-laki.\\n\\nAnak pertamanya yang diberi nama Abimanyu Manggala Nugroho Putro, lahir pada 16 Juli 2018.\\n\\nSementara, anak keduanya lahir pada 26 Februari 2020 lalu dan dinamai Guinandra Janadi Nugroho Putro.\\n\\nMasih hangat nuansa ulang tahun pernikahan, Vicky Shu mengenang masa-masa pemotretan pre-wedding bersama Ade Imam Prabowo.\\n\\nVicky Shu pun mengingat kembali sesi pemotretan pre-weddingnya yang dibuat dengan konsep bertani di sawah.\\n\\nHal ini diketahui dari sebuah unggahan di akun Instagramnya, @vickyshu.\\n\\n• Awal Kisah Cinta Sandra Dewi dan Harvey Moeis: Heran, Baru Kenal Seminggu Sudah Mau Diajak Pacaran\\n\\n• Putra Kedua Genap Berusia Enam Bulan, Vicky Shu Berharap Tuntas Beri ASI hingga Usia Dua Tahun\\n\\n• Hari Ayah, Acha Septriasa Sampaikan Terima Kasih kepada Sang Suami: Thank You for Doing Mamas Job\\n\\n• Tak Ingin Jerinx Kembali Terjerat Kasus Hukum, Nora: Saya Akan Ubah Dia Agar TIDAK Terlalu LOS\\n\\nVicky Shu, Ade Imam Prabowo, bersama kedua anak mereka. (Instagram/vickyshu)\\n\\nDalam unggahannya tersebut, Vicky Shu mengisahkan cerita di balik pemilihan tema foto pre-wedding yang dia lakoni tiga tahun lalu itu.\\n\\nMulanya, wanita kelahiran Cilacap, 8 Juli 1987 tersebut mengatakan bahwa pre-wedding tidak harus mahal dan ke luar negeri.\\n\\nPadahal, dirinya dan sang suami punya tips foto pre-wedding hemat di Jepang.')\n"
     ]
    },
    {
     "name": "stderr",
     "output_type": "stream",
     "text": [
      "[nltk_data] Downloading package punkt to\n",
      "[nltk_data]     C:\\Users\\ASUS\\AppData\\Roaming\\nltk_data...\n",
      "[nltk_data]   Package punkt is already up-to-date!\n"
     ]
    },
    {
     "name": "stdout",
     "output_type": "stream",
     "text": [
      "('Instruksikan Sosialisasi Pemanfaatan PBB, Bupati Nganjuk Optimistis Target Pajak 2020 Tercapai', datetime.datetime(2020, 9, 25, 0, 0), [], 'https://surabaya.tribunnews.com/2020/09/25/instruksikan-sosialisasi-pemanfaatan-pbb-bupati-nganjuk-optimistis-target-pajak-2020-tercapai', 'SURYA.CO.ID | NGANJUK - Bupati Nganjuk Nganjuk Novi Rahman Hidhayat menginstruksikan sosialisasi intensif pemanfaatan pajak bumi dan bangunan (PBB) kepada masyarakat.\\n\\nPasalnya, hingga kini masih banyak warga yang belum mengetahui manfaat dan kegunaan dari PBB yang dibayarnya.\\n\\nBupati Nganjuk, Novi Rahman Hidhayat mengatakan, pembangunan di Kabupaten Nganjuk sekarang ini sebagian besar masih mengandalkan pendapatan dari PBB.\\n\\nDemikian apabila pendapatan dari sektor PBB cukup besar maka pembangunan juga semakin banyak dilakukan dengan nilai yang besar pula.\\n\\n\"Untuk itu, silahkan para Camat intensif turun ke masyarakat melakukan sosialisasi kegunaan dan manfaat dari PBB yang dibayarnya,\" kata Novi Rahman Hidhayat, kemarin.\\n\\nDemikian halnya dengan adanya kenaikan Nilai Jual Obyek Pajak (NJOP), dikatakan Novi Rahman Hidhayat, juga harus disosialisasikan kepada masyarakat.\\n\\nDimana selain bisa meningkatkan pendapatan dari sektor PBB, juga akan memberi keuntungan bagi masyarakat. Terlebih dengan adanya Proyek Strategis Nasional (PSN) di Kabupaten Nganjuk maka harga tanah yang dibutuhkan harganya akan lebih tinggi.\\n\\nIni dikarenakan NJOP tahun 2020 yang telah mengalami kenaikan tersebut akan menjadi dasar aprasial taksiran harga tanah.\\n\\n\"Tentunya dengan NJOP yang sudah naik tersebut maka tanah warga akan dibeli lebih mahal, dan itu menjadi keuntungan tersendiri bagi warga yang tanahnya dibutuhkan untuk PSN di Nganjuk,\" ucap Novi Rahman Hidhayat.\\n\\nOleh karena itu, tambah Novi Rahman Hidhayat, seluruh camat harus bisa sosialisasi hal tersebut kepada masyarakat. Terutama pada para Camat yang hingga bulan September 2020 nilai setoran PBB masih dibawah harapan. Karena meski saat ini dalam kondisi pandemi corona akan tetapi itu tidak dijadikan alasan target setoran PBB tidak tercapai.\\n\\n\"Kami optimis melalui sosialisasi intensif kepada masyarakat maka mereka akan melunasi kewajibanya membayar PBB. Dan kami optimis target pendapatan dari PBB tahun ini dapat tercapai,\" tutur Novi Rahman Hidhayat.\\n\\nTarget pendapatan PBB tahun 2020 mencapai sekitar Rp 38 miliar. Dan hingga bulan September ini pendapatan dari PBB baru mencapai 65,4 persen.')\n"
     ]
    },
    {
     "name": "stderr",
     "output_type": "stream",
     "text": [
      "[nltk_data] Downloading package punkt to\n",
      "[nltk_data]     C:\\Users\\ASUS\\AppData\\Roaming\\nltk_data...\n",
      "[nltk_data]   Package punkt is already up-to-date!\n"
     ]
    },
    {
     "name": "stdout",
     "output_type": "stream",
     "text": [
      "('BMKG Tak Tinggal Diam Soal Ancaman Tsunami Megathrust 20 Meter di Selatan Jawa, Ajak Warga Mitigasi', datetime.datetime(2020, 9, 25, 0, 0), [], 'https://kaltim.tribunnews.com/2020/09/25/bmkg-tak-tinggal-diam-soal-ancaman-tsunami-megathrust-20-meter-di-selatan-jawa-ajak-warga-mitigasi', 'Gempa Bumi 8 SR Serta tsunami 10 Meter disebut bakal terjadi di Sulawesi, BMKG beri sejumlah fakta .\\n\\nTRIBUNKALTIM.CO - BMKG tak tinggal diam soal ancaman tsunami megathrust 20 meter di selatan Jawa, ajak Warga mitigasi.\\n\\nHasil penelitian Institut Teknologi Bandung atau ITB soal potensi tsunami di selatan Pulau Jawa mendapat respon dari Badan Meteorologi Klimatologi dan Geofisika.\\n\\nBMKG pun tak menampik potensi gempa bumi disertai tsunami yang mengancam Jawa.\\n\\nNamun, menurut BMKG yang paling penting adalah menyiapkan mitigasi dari gempa bumi dan tsunami tersebut.\\n\\nHasil riset para peneliti Institut Teknologi Bandung ( ITB) terkait adanya potensi tsunami 20 meter di selatan Pulau Jawa menjadi viral dan ramai diperbincangkan masyarakat.\\n\\nHasil riset yang telah diterbitkan dalam jurnal Nature Scientific Report pada (17/9/2020), tersebut dianggap mengkhawatirkan jika benar-benar terjadi nantinya.\\n\\n• Kabulkan Permintaan Prabowo Subianto, Jokowi Angkat Anggota Tim Mawar Jadi Pejabat Penting di Kemhan\\n\\n• Kematian Covid-19 Indonesia 10 Ribu Lebih, Epidemiolog: 3 Besar Asia, Probable - Suspek Tak Dihitung\\n\\n• Soal PKI, Eks Panglima TNI Yakin Peristiwa Kelam Masa Lalu Terulang Jika RUU Kontroversial Disahkan\\n\\n• Jadwal Pencairan BLT BPJS Ketenagakerjaan Tahap 5 Akhir September, Tersisa 2 Juta Penerima, Cek Nama\\n\\nLantas, bagaimana tanggapan Badan Meteorologi Klimatologi dan Geofisika ( BMKG) dengan hasil kajian peneliti ITB tersebut?\\n\\nKepada Kompas.com, Jumat (25/9/2020); Kepala Bidang Mitigasi Gempabumi dan Tsunami BMKG, Dr Daryono, mengatakan, BMKG dalam hal ini mengapresiasi hasil tersebut.\\n\\nDia menjelaskan, BMKG mengapresiasi penelitian tersebut karena kajian ilmiah yang dilakukan ini mampu menentukan potensi magnitudo maksimum gempa megathrust dan skenario terburuk.\\n\\nAkan tetapi, hingga saat ini, teknologi yang ada belum mampu memprediksi dengan tepat dan akurat kapan dan di mana gempa akan terjadi.')\n"
     ]
    },
    {
     "name": "stderr",
     "output_type": "stream",
     "text": [
      "[nltk_data] Downloading package punkt to\n",
      "[nltk_data]     C:\\Users\\ASUS\\AppData\\Roaming\\nltk_data...\n",
      "[nltk_data]   Package punkt is already up-to-date!\n"
     ]
    },
    {
     "name": "stdout",
     "output_type": "stream",
     "text": [
      "('PENYEBAB Insentif Kartu Prakerja Belum Cair, Cara Beri Ulasan Pelatihan hingga Ubah Nomor Rekening', datetime.datetime(2020, 9, 25, 0, 0), [], 'https://kaltim.tribunnews.com/2020/09/25/penyebab-insentif-kartu-prakerja-belum-cair-cara-beri-ulasan-pelatihan-hingga-ubah-nomor-rekening', 'Penyebab insentif Kartu Prakerja belum cair, cara beri ulasan lembaga pelatihan hingga cara ubah nomor rekening\\n\\nTRIBUNKALTIM.CO - Penyebab insentif Kartu Prakerja belum cair, cara beri ulasan lembaga pelatihan hingga cara ubah nomor rekening\\n\\nSetelah dinyatakan lolos sebagai penerima Kartu Prakerja, ada beberapa hal yang harus dilakukan agar memperoleh insentif Prakerja seperti yang disebutkan.\\n\\nJika tidak melakukannya, bisa berakibat insentif tak kunjung cair, berikut beberapa penyebab insentif Kartu Prakerja tak cair, cara beri ulasan pelatihan hingga ubah nomor rekening.\\n\\nSetelah dinyatakan lolos, penerima Kartu Prakerja harus menyelesaikan pelatihan pertama untuk mendapatkan insentif.\\n\\nDalam aturannya, penerima Kartu Prakerja diberi waktu 30 hari untuk memilih pelatihan pertama, terhitung sejak dinyatakan lolos.\\n\\n• LENGKAP LINK dan Cara Daftar Pra Kerja Gelombang 10 dengan Login www.prakerja.go.id, Kapan Dibuka?\\n\\n• PENTING! Cara Agar Lolos Kartu Prakerja Gelombang 10, Cara Mendaftar dengan Login www.prakerja.go.id\\n\\n• Penerima Kartu Prakerja Gelombang 9 Sudah Diumumkan, Kapan Gelombang 10? Cara Daftar dan Kuotanya\\n\\n• Akhirnya Direktur Operasi Kartu Prakerja Beber Soal Gelombang 10, Pendaftar Gagal, hingga Insentif\\n\\nSetelah menyelesaikan rangkaian pelatihan, penerima Kartu Prakerja akan mendapatkan insentif sebesar Rp 600.000 per bulan selama empat bulan.\\n\\nBagaimana jika insentif itu tak kunjung cair meski telah menyelesaikan pelatihan pertama?\\n\\nPenyebab insentif tak kunjung cair\\n\\nDikutip dari laman resmi Kartu Prakerja, ada beberapa hal yang membuat insentif penerima Kartu Prakerja gagal dicairkan.\\n\\nApa saja penyebabnya?')\n"
     ]
    },
    {
     "name": "stderr",
     "output_type": "stream",
     "text": [
      "[nltk_data] Downloading package punkt to\n",
      "[nltk_data]     C:\\Users\\ASUS\\AppData\\Roaming\\nltk_data...\n",
      "[nltk_data]   Package punkt is already up-to-date!\n"
     ]
    },
    {
     "name": "stdout",
     "output_type": "stream",
     "text": [
      "('Jadwal Merawat Tanaman yang Sudah Kamu Tanam, Kunci Jawaban Tema 3 Kelas 4 Halaman 26', datetime.datetime(2020, 9, 25, 0, 0), [], 'https://padang.tribunnews.com/2020/09/25/jadwal-merawat-tanaman-yang-sudah-kamu-tanam-kunci-jawaban-tema-3-kelas-4-halaman-26', 'Jadwal Merawat Tanaman yang Sudah Kamu Tanam\\n\\nTRIBUNPADANG.COM - Buatlah jadwal merawat tanaman yang sudah kamu tanam. Disiplinlah dalam melakukannya.\\n\\nPertanyaan tersebut merupakan soal halaman 26 Tema 3 Kelas 4 SD/MI, Buku Tematik Terpadu Kurikulum 2013 edisi terbaru revisi 2017.\\n\\nHalaman 26 terdapat pada Pembelajaran 4, Subtema 1: Hewan dan Tumbuhan di Lingkungan Rumahku, Tema 3 Peduli Terhadap Makhluk Hidup.\\n\\nDi bawah ini terdapat kunci jawaban Tema 3 Kelas 4 halaman 26.\\n\\nBuatlah jadwal merawat tanaman yang sudah kamu tanam. Disiplinlah dalam melakukannya.\\n\\nJawaban:\\n\\n- Senin: Menyiram tanaman - Menyiram tanaman dan membuang daun-daun yang kering\\n\\n- Selasa: Menyiram tanaman - Menyiram tanaman dan memberi pupuk bagi tanaman yang sudah harus dipupuk\\n\\n- Rabu: Menyiram tanaman - Menyiram tanaman dan membersihkan gulma yang ada di sekitar tanaman\\n\\n- Kamis: Menyiram tanaman - Menyiram tanaman dan membersihkan hama tanaman seperti ulat dan serangga\\n\\n- Jumat: Menyiram tanaman - Menyiram tanaman\\n\\n- Sabtu: Menyiram tanaman - Menyiram tanaman\\n\\n- Minggu: Menyiram tanaman - Menyiram tanaman dan mengganti media tanam yang sudah lama digunakan\\n\\nKlik link di bawah untuk kunci jawaban lengkap Tema 3 Kelas 4 Pembelajaran 4 Subtema 1:\\n\\n• Kunci Jawaban Tema 3 Kelas 4 Halaman 24 25 26 27 28 29 30 Pembelajaran 4 Subtema 1 Buku Tematik\\n\\n• Ketika Lani Menyiram Tanamannya, Apakah Dia Sudah Melaksanakan Kewajibannya?\\n\\n• Mengapa Memperoleh Hak untuk Mendapatkan Tanaman Subur Itu Penting?\\n\\n(TribunPadang.com)')\n"
     ]
    },
    {
     "name": "stderr",
     "output_type": "stream",
     "text": [
      "[nltk_data] Downloading package punkt to\n",
      "[nltk_data]     C:\\Users\\ASUS\\AppData\\Roaming\\nltk_data...\n",
      "[nltk_data]   Package punkt is already up-to-date!\n"
     ]
    },
    {
     "name": "stdout",
     "output_type": "stream",
     "text": [
      "('Kunci Jawaban Tema 3 Kelas 4 Halaman 130 131 132 Evaluasi Buku Tematik Peduli Terhadap Makhluk Hidup', datetime.datetime(2020, 9, 25, 0, 0), [], 'https://padang.tribunnews.com/2020/09/25/kunci-jawaban-tema-3-kelas-4-halaman-130-131-132-evaluasi-buku-tematik-peduli-terhadap-makhluk-hidup', 'Kunci Jawaban Tema 3 Kelas 4 Halaman 130 131 132 Evaluasi Buku Tematik Peduli Terhadap Makhluk Hidup\\n\\nTRIBUNPADANG.COM - Simak di bawah ini kunci jawaban Tema 3 Kelas 4 SD/MI halaman 130, 131, 132, Buku Tematik Terpadu Kurikulum 2013 edisi revisi 2017.\\n\\nHalaman 130 sampai 132 merupakan terdapat sejumlah soal evaluasi Tema 3 Peduli Terhadap Makhluk Hidup.\\n\\nTema 3 ini dibagi menjadi 3 Subtema, yakni Subtema 1: Hewan dan Tumbuhan di Lingkungan Rumahku, Subtema 2: Keberagaman Makhluk Hidup di Lingkunganku, dan Subtema 3: Ayo Cintai Lingkungan.\\n\\nPertanyaan dan soal yang ada pada Evaluasi ini, sering keluar pada Ujian Tengah Semester atau UTS dan Penilaian Tengah Semester (PTS).\\n\\n• Kunci Jawaban Tema 3 Kelas 4 Halaman 101 102 103 104 105 106 Pembelajaran 2 Subtema 3 Buku Tematik\\n\\n• Kunci Jawaban Tema 3 Kelas 4 Halaman 76 77 78 79 81 82 84 85 86 Pembelajaran 5 Subtema 2\\n\\n• Kunci Jawaban Tema 3 Kelas 4 Halaman 71 72 73 74 75 Buku Tematik Pembelajaran 4 Subtema 2\\n\\nKunci jawaban yang tersedia di bawah ini dirangkum dari Buku Siswa dan Buku Guru serta sejumlah sumber lainnya.\\n\\nBerikut kunci jawaban Tema 3 Kelas 4 halaman 130, 131, 132:\\n\\n1. Sebutkan ciri-ciri pertanyaan yang baik untuk wawancara. Berikan contoh.\\n\\nJawaban:\\n\\n- Sesuai dengan topik.\\n\\n- Jawabannya bukan iya dan tidak.\\n\\n- Menggali lebih banyak informasi.\\n\\n- Diawali dengan apa, siapa, di mana, kapan, mengapa, dan bagaimana.\\n\\n- Fokus atau tepat sasaran.\\n\\n- Tata bahasa yang benar.\\n\\n- Antar pertanyaan berkesinambungan.\\n\\nContoh: Apa yang Bapak lakukan untuk menjaga kesuburan kebun milik Bapak?')\n"
     ]
    },
    {
     "name": "stderr",
     "output_type": "stream",
     "text": [
      "[nltk_data] Downloading package punkt to\n",
      "[nltk_data]     C:\\Users\\ASUS\\AppData\\Roaming\\nltk_data...\n",
      "[nltk_data]   Package punkt is already up-to-date!\n"
     ]
    },
    {
     "name": "stdout",
     "output_type": "stream",
     "text": [
      "('Jadwal AC Milan dan Juventus di Liga Italia Pekan Kedua, Simak Jadwal Lengkap Serie A', datetime.datetime(2020, 9, 25, 0, 0), [], 'https://padang.tribunnews.com/2020/09/25/jadwal-ac-milan-dan-juventus-di-liga-italia-pekan-kedua-simak-jadwal-lengkapserie-a', 'Jadwal AC Milan dan Juventus di Liga Italia Pekan Kedua, Simak Jadwal Lengkap Serie A\\n\\nTRIBUNPADANG.COM- AC Milan dan Juventus sama-sama akan melakoni laga tandang pekan kedua Liga Italia 2020/2021.\\n\\nSiapa lawan AC Milan dan Juventus di laga pekan kedua ini?\\n\\nSimak jadwal lengkap Liga Italia Seria A dan pertandingan menarik yang bakal tersaji di pekan ke-2 Liga Italia pada, Sabtu (26/9/2020) hingga Selasa (29/9/2020).\\n\\n• Pelatih AC Milan Sebut Hakan Calhanoglu Pemain Murah Hati dengan Kualitas Tinggi\\n\\n• Lorenzo Colombo, Pemain 18 Tahun AC Milan yang Jadi Aktor Gol Kedua Rossoneri Lawan Bodø/Glimt\\n\\nPertandingan Liga Italia musim ini dapat disaksikan secara live RCTI maupun beIN Sports.\\n\\nSatu di antara pertandingan yang akan menarik untuk disimak ialah laga tandang AC Milan.\\n\\nKlub kota Milano, Italia itu akan bertandang untuk menantang tim promosi, Crotone.\\n\\nLaga Crotone vs AC Milan bakal tersaji di Stadion Ezio Scida, Minggu (27/9/2020).\\n\\nSelain melihat konsistensi AC Milan, laga tandang Rossoneri itu juga akan menjadi peluang Lorenzo Colombo meneruskan tren positifnya.\\n\\nPemain 18 tahun itu diprediksi akan tampil sejak menit awal pertandingan.\\n\\nMengingat dua striker milik AC Milan, Zlatan Ibrahimovic dan Rafael Leao dipastikan belum bsia tampil akibat menjalani isolasi.\\n\\nDi mana keduanya dipastikan positif Covid-19.\\n\\nLantas bagaimana penmpilan Lorenzo Colombo sehingga berpeluang untuk starter di pekan ke-2 Liga Italia?')\n"
     ]
    },
    {
     "name": "stderr",
     "output_type": "stream",
     "text": [
      "[nltk_data] Downloading package punkt to\n",
      "[nltk_data]     C:\\Users\\ASUS\\AppData\\Roaming\\nltk_data...\n",
      "[nltk_data]   Package punkt is already up-to-date!\n"
     ]
    },
    {
     "name": "stdout",
     "output_type": "stream",
     "text": [
      "('Masuki Musim Panen, Petani di Serbajadi, Aceh Timur masih Rontokkan Padi Secara Manual', datetime.datetime(2020, 9, 25, 0, 0), [], 'https://aceh.tribunnews.com/2020/09/25/masuki-musim-panen-petani-di-serbajadi-aceh-timur-masih-rontokkan-padi-secara-manual', 'Camat Serbajadi, Ketua KTNA, Kepala BPP, Manteri Tani, pengurus dan anggota Kelompok Tani Musara Jadi, merontokkan padi Gogo secara manual saat panen perdana di kecamatan itu, Selasa (27/9/2020) lalu.\\n\\n\"Sejak tanam April-Juni 2020 lalu, kini padi sudah memasuki musim panen sampai November 2020 mendatang. Namun, sayangnya petani belum memiliki fasilitas alat panen padi theresher, sehingga padi hasil panen dirontok secara manual dengan dibanting,\" ungkap Bukhari.\\n\\nLaporan Seni Hendri l Aceh Timur\\n\\nSERAMBINEWS.COM, IDI - Sekitar 1.600 hektar lahan padi Gogo lokal di Kecamatan Serbajadi, Aceh Timur, mulai memasuki musim panen.\\n\\nHal itu dikatakan oleh Ketua Kontak Tani Nelayan Andalan (KTNA), Kecamatan Serbajadi, Aceh Timur, Bukhari Muslim.\\n\\nSelasa (27/9/2020) lalu, jelas Bukhari, Camat Serbajadi, Syahdannur, bersama Kepala BPP, Jumali, Manteri Tani, Sabda, pengurus dan anggota Kelompok Tani Musara Jadi, melakukan panen perdana padi Gogo lokal, di Desa Bunin, kecamatan terkait.\\n\\nKetua KTNA Serbajadi, Aceh Timur, Bukhari, mengatakan ada 15 kelompok tani di kecamatan itu, menanam berbagai jenis padi Gogo lokal dengan luas areal sekitar 1.600 hektar.\\n\\n\"Sejak tanam April-Juni 2020 lalu, kini padi sudah memasuki musim panen sampai November 2020 mendatang. Namun, sayangnya petani belum memiliki fasilitas alat panen padi theresher, sehingga padi hasil panen dirontok secara manual dengan dibanting,\" ungkap Bukhari.\\n\\nKarena itu, ungkap Bukhari, petani mengharapkan Dinas Tanaman Pangan dan Hortikultura Aceh Timur, agar membantu petani mesin perontok padi jenis theresher.\\n\\n• Jalan Penghubung Tokoh II dan Alue Rambot Lembah Sabil Ambruk\\n\\nSyahdannur Camat Serbajadi, mengaku prihatin melihat kondisi petani di kecamatan terkait.\\n\\nKarena itu, ia mendukung permohonan petani yang memohon mesin perontok padi theresher ke dinas terkait.\\n\\nUntuk memajukan dan mensejahterakan petani, sekaligus mendukung program pemerintah meningkatkan ketahanan pangan nasional. (*)\\n\\n• Lampu Jalan Banyak Padam di Aceh Singkil, Ternyata Ini Penyebabnya')\n"
     ]
    },
    {
     "name": "stderr",
     "output_type": "stream",
     "text": [
      "[nltk_data] Downloading package punkt to\n",
      "[nltk_data]     C:\\Users\\ASUS\\AppData\\Roaming\\nltk_data...\n",
      "[nltk_data]   Package punkt is already up-to-date!\n"
     ]
    },
    {
     "name": "stdout",
     "output_type": "stream",
     "text": [
      "('Mendagri Terus Ingatkan Pilkada sebagai Momentum Perang Total Melawan Covid-19', datetime.datetime(2020, 9, 25, 0, 0), [], 'https://aceh.tribunnews.com/2020/09/25/mendagri-terus-ingatkan-pilkada-sebagai-momentum-perang-total-melawan-covid-19', 'Laporan Fikar W Eda | Jakarta\\n\\nSERAMBINEWS.COM, JAKARTA – Menteri Dalam Negeri (Mendagri) Muhammad Tito Karnavian terus mengingatkan bahwa Pilkada merupakan momentum perang total melawan Covid-19.\\n\\nItu ia sampaikan dalam Rapat Koordinasi Pimpinan (Rakorpim) secara virtual Penanganan Covid-19 dan Pemulihan Ekonomi Nasional (PC-PEN) dan Kementerian/Lembaga, Jumat (25/9/2020).\\n\\nSelain itu, Mendagri juga mengapresiasi kerja keras dan bantuan dari Menteri Bidang Politik, Hukum dan Keamanan (Menko Polhukam) Mahfud MD serta KPU, Bawaslu, Paslon, Parpol, TNI dan Polri sehingga tahapan Pilkada berupa pengundian nomor urut pasangan calon (Paslon) di 270 daerah telah terlaksana dan secara umum, aman, tertib, dan mematuhi protokol kesehatan Covid-19.\\n\\n“Ini secara pribadi atas nama Kemendagri kami mengucapkan terima kasih banyak kepada Bapak Menko Polhukam lebih khusus tentunya kepada Bapak Kapolri, Panglima TNI, Bapak Kasad dan terutama jajaran KPU, Bawaslu sehingga semua bergerak tidak hanya dengan menggunakan instrumen PKPU, tapi instrumen-instrumen hukum lainnya,” tandasnya.\\n\\nDengan semangat yang tidak surut untuk menghadapi tantangan berikutnya, Mendagri ingin agar semua pihak tetap berkontribusi dalam menyukseskan tahapan kampanye mendatang yang akan dimulai pada Sabtu 26 September 2020 sampai 5 Desember 2029 atau 71 hari ke depan.\\n\\n• VIDEO Tren Tanaman Hias di Banda Aceh Kian Meningkat, Harga Mulai Ratusan Ribu hingga Jutaan Rupiah\\n\\n• Berbulan-bulan Sekolah di Aceh Singkil Diliburkan, Bupati: Cegah Klaster Baru\\n\\n“Insya Allah kalau kampanye kerumunan sosial tidak terjadi maka ini tidak akan menjadi media penyebaran Covid-19. Untuk itu, mohon bantuan dan terimakasih mohon bantuan kepada jajaran Polri dan TNI, mohon betul, karena ini kekuatan-kekuatan inilah yang sebetulnya menjadi kunci, selain KPU, Bawaslu dan Satpol PP,” ujarnya.\\n\\nSelain itu, Mendagri tetap mendorong sosialisasi 3M (memakai masker, mencuci tangan dan menjaga jarak) bagi para Paslon yang akan segera memasuki massa kampanye mendatang.\\n\\nUntuk itu,KPU telah membuat aturan bagi 741 paslon yang akan berkontestasi agar alat peraga yang akan dibagikan dapat mengutamakan alat-alat pelindung Covid-19 seperti masker, hand sanitizer, sabun, pelindung wajah, tempat cuci tangan dan sarung tangan dengan mencantumkan gambar, nama atau nomor urut Paslon.\\n\\n“Mohon dukungan semua pihak, itulah media kampanye mereka yang kita harapkan, kalau ini terjadi maka akan mendapatkan simpati publik tentang Pilkada ini sekaligus juga akan menjadi gerakan masif yang luar biasa untuk menekan Covid-19,” ungkapnya.\\n\\nLanjutnya, Pilkada juga merupakan program padat karya yang dapat menjadi stimulus untuk mendukung pertumbuhan ekonomi Indonesia. Berdasarkan data dari Kemendagri jumlah anggaran Pemda saat ini adalah: KPU hampir 99 %, Bawaslu sudah mencapai hampir 98%, dan Aparat Keamanan 61,90% . Total anggaran yang terkumpul hampir sebesar 15 Triliun. Selain itu, anggaran yang berasal dari APBN sebesar kurang lebih 4.2 Triliun.\\n\\n“Sebagian besar 60% anggaran itu digunakan untuk para penyelenggara, artinya program padat karya terjadi, 20 % itu untuk alat Pilkada. Kemudian 20% nya untuk pelindung dari Covid-19, itu untuk para petugas penyelenggara, pengamanan, maupun untuk para pemilih di TPS nanti, jadi ini sebetulnya bisa membangkitkan ekonomi,” jelasnya.\\n\\nMendagri juga menghimbau agar daerah segera mempercepat transfer Anggaran Pendapatan dan Belanja Daerah (APBD). Tak hanya itu, Mendagri juga sudah melakukan rapat evaluasi dan menegur daerah-daerah yang transfer APBD nya masih di bawah rata-rata nasional 53,18 %, terutama kepada empat daerah yang yaitu Sulawesi Tenggara, Sulawesi Barat, Aceh dan Papua.\\n\\n“Kami sudah melakukan 3 kali rapat untuk mempercepat selama bulan Agustus dan September. Kami evaluasi dan kami baca-bacakan semua yang bagus maupun yang merah, sehingga yang merah menjadi iklim kompetitif antara wilayah. Jadi sudah terjadi peningkatan yang lumayan bagus untuk belanja pendapatan maupun belanja di daerah,” terangnya.(*)\\n\\n• Lampu Jalan Banyak Padam di Aceh Singkil, Ternyata Ini Penyebabnya\\n\\n• Jejak Gatot Nurmantyo, Dulu Jadi Panglima Jokowi, Kini Kritik Pemerintah dan Jadi Deklarator KAMI\\n\\n• Berbulan-bulan Sekolah di Aceh Singkil Diliburkan, Bupati: Cegah Klaster Baru')\n"
     ]
    },
    {
     "name": "stderr",
     "output_type": "stream",
     "text": [
      "[nltk_data] Downloading package punkt to\n",
      "[nltk_data]     C:\\Users\\ASUS\\AppData\\Roaming\\nltk_data...\n",
      "[nltk_data]   Package punkt is already up-to-date!\n"
     ]
    },
    {
     "name": "stdout",
     "output_type": "stream",
     "text": [
      "('Jalan Penghubung Tokoh II dan Alue Rambot Lembah Sabil Ambruk', datetime.datetime(2020, 9, 25, 0, 0), [], 'https://aceh.tribunnews.com/2020/09/25/jalan-penghubung-tokoh-ii-dan-alue-rambot-lembah-sabil-ambruk', 'Setengah badan jalan penghubung antara Gampong Tokoh II dan Gampong Alue Rambot Kecamatan Lembah Sabil, Abdya amblas ke sungai, Jumat (25/9/2020)\\n\\nLaporan Rahmat Saputra | Aceh Barat Daya\\n\\nSERAMBINEWS.COM, BLANGPIDIE - Badan jalan penghubung antara Gampong Tokoh II dan Gampong Alue Rambot Kecamatan Lembah Sabil, Kabupaten Aceh Barat Daya (Abdya) amblas ke sungai.\\n\\n\"Jalan penghubung ini ambruk pascabanjir hari Rabu kemarin,” ungkap salah seorang warga Gampong Tokoh II, Jamaluddin kepada wartawan, Jumat (25/9/2020).\\n\\nJalan tersebut, merupakan akses bagi warga setempat untuk mengangkut hasil panen kebun dan sawah warga.\\n\\n\"Jalannya memang sering dilalui warga baik roda dua maupun roda empat, apalagi saat musim panen,\" ungkapnya.\\n\\nDia tambahkan, pascadihantam banjir, badan jalan tersebut tidak bisa dilalui oleh kendaraan roda empat.\\n\\n\"Memang kondisinya sangat parah, sebab hampir setengah jalan ambruk, sehingga susah dilalui oleh kenderaan,\" tuturnya.\\n\\nIa berharap kepada pemerintah dan dinas terkait segera memperbaiki jalan tersebut, sehingga jalan tersebut bisa dilalui kembali.\\n\\n\"Kami berharap ini bisa diperbaiki segera,\" pungkasnya.\\n\\n\\n\\nSementara itu, Kabid Rehabilitasi dan Rekontruksi BPBK Abdya, Afrida Surya ST mengaku belum mengetahui persoalan ambruknya jalan tersebut.\\n\\nNamun, ia bgerjanji dalam waktu dekat akan turun ke lokasi untuk memperbaiki jalan tersebut.\\n\\n\"Besok kami akan turun ke lokasi. Kalau memang darurat dan harus ditangani, maka akan diusulkan dana BTT, untuk pembuatan tanggul darurat,\" ujar Kabid Rehabilitasi dan Rekontruksi BPBK Abdya, Afrida Surya ST.(*)\\n\\n• Jejak Gatot Nurmantyo, Dulu Jadi Panglima Jokowi, Kini Kritik Pemerintah dan Jadi Deklarator KAMI\\n\\n• VIDEO Tren Tanaman Hias di Banda Aceh Kian Meningkat, Harga Mulai Ratusan Ribu hingga Jutaan Rupiah\\n\\n• KKB Nyatakan Intan Jaya Sebagai Lokasi Perang Terbuka, Kapolda Papua Ungkap Kekuatan Mereka\\n\\n• Mama Muda Pukul Imam Masjid Pakai Balok saat Shalat, Emosi Suaminya Dinikahkan dengan Wanita Hamil')\n"
     ]
    },
    {
     "name": "stderr",
     "output_type": "stream",
     "text": [
      "[nltk_data] Downloading package punkt to\n",
      "[nltk_data]     C:\\Users\\ASUS\\AppData\\Roaming\\nltk_data...\n",
      "[nltk_data]   Package punkt is already up-to-date!\n"
     ]
    },
    {
     "name": "stdout",
     "output_type": "stream",
     "text": [
      "('5 Fakta Bobby Stuntrider, Pembeli Celana Dalam Rp 50 Juta Dinar Candy, Profesi Hingga Percintaan', datetime.datetime(2020, 9, 25, 0, 0), [], 'https://newsmaker.tribunnews.com/2020/09/25/5-fakta-bobby-stuntrider-pembeli-celana-dalam-rp-50-juta-dinar-candy-profesi-hingga-percintaan', 'TRIBUNSTYLE.COM - Inilah 5 fakta Bobby Stuntrider, YouTuber yang beli celana dalam bekas Dinar Candy seharga Rp 50 juta.\\n\\nDinar Candy belakangan telah menjadi sorotan setelah menjual celana dalam bekasnya.\\n\\nTak main-main, celana dalam bekas DJ seksi itu laku seharga Rp 50 juta.\\n\\nSosok pembelinya diketahui merupakan seorang YouTuber dengan akun bernama Bobby Stuntrider.\\n\\nLantas siapa sebenarnya sosok pembeli celana dalam bekas Dinar Candy ini?\\n\\nDikutip dari berbagai sumber, inilah 5 fakta Bobby Stuntrider YouTuber yang beli celana dalam bekas Dinar Candy seharga Rp 50 juta.\\n\\nSosok pembeli celana dalam Dinar Candy (Suryamalang.com/kolase instagram @dinar_candy/@bobbystuntrider)\\n\\n• Setelah Celana Dalam Laku Rp 50 Juta, Dinar Candy Berniat Jual Bra Miliknya Seharga Rp 100 Juta\\n\\n• SIAPA Bobby Tria Sanjaya Pembeli Celana Dalam Dinar Candy Seharga Rp 50 Juta, Ini Profesinya\\n\\nSeorang stunt rider\\n\\nPria dibalik akun bernama Bobby Stuntrider itu memiliki nama asli Bobby Tria Sanjaya.\\n\\nSesuai nama akunnya, Bobby adalah seorang stunt rider yang kerap menunjukkan aksi-aksinya di atas sepeda motor.\\n\\nIni adalah olahraga ekstrem yang menampilkan manuver akrobatik dengan sepeda motor.\\n\\nHALAMAN SELANJUTNYA ==============>')\n"
     ]
    },
    {
     "name": "stderr",
     "output_type": "stream",
     "text": [
      "[nltk_data] Downloading package punkt to\n",
      "[nltk_data]     C:\\Users\\ASUS\\AppData\\Roaming\\nltk_data...\n",
      "[nltk_data]   Package punkt is already up-to-date!\n"
     ]
    },
    {
     "name": "stdout",
     "output_type": "stream",
     "text": [
      "('REKOR BARU Update Corona Nasional Jumat 25 September 2020: Bertambah 4.823, Total 266.845', datetime.datetime(2020, 9, 25, 0, 0), [], 'https://newsmaker.tribunnews.com/2020/09/25/rekor-baru-update-corona-nasional-jumat-25-september-2020-bertambah-4823-total-266845', 'TRIBUNNEWSMAKER.COM - Update virus corona nasional Jumat 25 September 2020: bertambah 4.823, total 266.845, 196.196 orang dinyatakan sembuh.\\n\\nSejumlah provinsi di Indonesia masih melaporkan penambahan kasus virus corona hingga saat ini.\\n\\nDilansir dari akun Twitter @KawalCOVID19, kasus virus corona di Indonesia bertambah 4.823 pada Jumat (25/9/2020).\\n\\nSehingga, totalnya kini menjadi 266.845 kasus.\\n\\nPasien meninggal dunia bertambah 113, sehingga totalnya 10.218 orang.\\n\\nSedangkan, pasien sembuh dari virus corona bertambah 4.343, totalnya menjadi 196.196.\\n\\nDKI Jakarta menjadi provinsi dengan penambahan kasus baru tertinggi dalam 24 jam terakhir yakni 1.171 kasus.\\n\\nBerikut ini TribunStyle rangkum jumlah kasus baru Covid-19 di 34 provinsi di Indonesia berdasarkan update terbaru yang dirilis akun Twitter @KawalCOVID19:\\n\\n• POPULER Pakar Virologi China Bongkar Asal Virus Corona dari Laboratorium Wuhan, Ungkap Fakta Lain\\n\\n• Kenali Malaise, Gejala Ringan Virus Corona: Timbulkan Rasa Malas, Tapi Beda dengan Kelelahan\\n\\n1. Aceh = 91\\n\\n2. Bali = 144\\n\\nHALAMAN SELANJUTNYA =============>')\n"
     ]
    },
    {
     "name": "stderr",
     "output_type": "stream",
     "text": [
      "[nltk_data] Downloading package punkt to\n",
      "[nltk_data]     C:\\Users\\ASUS\\AppData\\Roaming\\nltk_data...\n",
      "[nltk_data]   Package punkt is already up-to-date!\n"
     ]
    },
    {
     "name": "stdout",
     "output_type": "stream",
     "text": [
      "('Gula Kabung Helly Cen Sampai ke Negeri China, Mulai Menaiki Pohon Sampai Produksi Dilakukan Sendiri', datetime.datetime(2020, 9, 25, 0, 0), [], 'https://bangka.tribunnews.com/2020/09/25/gula-kabung-helly-cen-sampai-ke-negeri-china-mulai-menaiki-pohon-sampai-produksi-dilakukan-sendiri', 'BANGKAPOS.COM, BANGKA -- Gula kabung (gula aren) milik Men Sian tidak hanya diproduksi untuk masyarakat Bangka Belitung, namun juga warga yang ada di luar negeri seperti Singapura, Hongkong, Amerika dan China.\\n\\nMen Sian atau yang akrab disapa Kabung Helly Cen ini memproduksi gula kabungnya di Dusun Merengkan, Desa Benteng, Kecamatan Pangkalanbaru, Bangka Tengah. Helly menceritakan sejak tahun 1986 sudah mengenal gula kabung saat acara Bincang UMKM Bangka Pos Group, Jumat (25/9/2020).\\n\\nNamun pada 1993 Helly mulai menekuni pekerjaan ini dan sampai sekarang.\\n\\n\"Tertarik menekuni jualan gula kabung karena melihat tetangga yang mampu mencukupi kebutuhan sehari-hari,\" terang Helly.\\n\\nBatang kabung di tempat tinggalnya memang banyak, sehingga Helly memutuskan untuk belajar diam-diam melihat orang memanjat dan proses pengambilan air gula kabung.\\n\\n\"Dari muda belajar diam-diam atau ngintip orang manjat dan proses ambil air gula kabung, setelah itu baru bertanya kepada orang yang lebih tahu,\" ucapnya.\\n\\nSetiap hari Helly pria 53 tahun memanjat pohon kabung yang tingginya mencapai 17 meter menggunakan bambu sebagai tangga untuk mengambil air kabung kemudian batang kabung dipukul dan dilakukan setiap hari.\\n\\nDiakuinya, membutuhkan waktu hampir satu bulan baru bisa mengambil air gula aren dan untuk berapa liter hasilnya tidak menentu.\\n\\nDalam satu hari ia memukul, menggoyangkan dan memanen air gula kabung sekitar 20 batang lebih.\\n\\nIa dapat mengetahui apakah batang kabung tersebut sudah siap dipanen dapat dilihat dari kelopak mulai membuka dan lebah yang hinggap.')\n"
     ]
    },
    {
     "name": "stderr",
     "output_type": "stream",
     "text": [
      "[nltk_data] Downloading package punkt to\n",
      "[nltk_data]     C:\\Users\\ASUS\\AppData\\Roaming\\nltk_data...\n",
      "[nltk_data]   Package punkt is already up-to-date!\n"
     ]
    },
    {
     "name": "stdout",
     "output_type": "stream",
     "text": [
      "('Siapa Sebenarnya Gatot Nurmantyo, Diangkat Jokowi Jadi Panglima TNI, Kini Berbalik Jadi Mengkritik', datetime.datetime(2020, 9, 25, 0, 0), [], 'https://bangka.tribunnews.com/2020/09/25/siapa-sebenarnya-gatot-nurmantyodiangkat-jokowi-jadi-panglima-tni-kini-berbalik-jadi-mengkritik', 'BANGKAPOS.COM, JAKARTA - Nama Gatot Nurmantyo mulai dikenal luas sejak diangkat oleh Presiden Joko Widodo sebagai Panglima TNI.\\n\\nPeriode pertama Jokowi menjabat sebagai presiden, Gatot Nurmantyo cukup getol membela pimpinannya itu.\\n\\nNamun periode kedua menjadi Presiden, Gatot Nurmantyo pun tak lagi mendapatkan jabatannya sebagai panglima TNI.\\n\\nSetelah itu, Gatot yang merupakan purnawirawan Jendral itu belakangan ini kerap melontarkan kritik pedas kepada pemerintahan.\\n\\nGatot melakukannya tak sembunyi-sembunyi lagi. Mungkin karena memang mantan tentara, kritik pun dilontarkannya secara terbuka.\\n\\nSetelah menyinggung soal adanya RUU HIP (Haluan Ideologi Pancasila), baru-baru ini Gatot mengungkap bahwa pencopotan dari jabatan Panglima TNI karena sempat mengeluarkan perintah menonton film G30S/PKI.\\n\\nHal ini ia ucapkan dalam sebuah video Youtube milik Harsubeno Point.\\n\\n\"Saat itu salah seorang sahabat dari Partai Demokrasi Indonesia Perjuangan (PDIP) memberikan peringatan. Ia meminta agar menghentikan perintah tersebut apabila tidak ingin dicopot dari jabatan sebagai Panglima TNI,\" ujarnya.\\n\\n\"Saya bilang terima kasih, tapi di situ saya gas karena ini adalah benar-benar berbahaya. Dan memang benar-benar saya diganti,\" ujar Gatot.\\n\\nPernyataan ini sontak membuat heboh, meski belakangan Gatot sendiri membantah bahwa dirinya dicopot karena nobar film PKI tersebut.')\n"
     ]
    },
    {
     "name": "stderr",
     "output_type": "stream",
     "text": [
      "[nltk_data] Downloading package punkt to\n",
      "[nltk_data]     C:\\Users\\ASUS\\AppData\\Roaming\\nltk_data...\n",
      "[nltk_data]   Package punkt is already up-to-date!\n"
     ]
    },
    {
     "name": "stdout",
     "output_type": "stream",
     "text": [
      "('Deklarasi Pilkada Damai, Korari Pastikan Junjung Tinggi Persatuan Bangsa', datetime.datetime(2020, 9, 25, 0, 0), [], 'https://bangka.tribunnews.com/2020/09/25/deklarasi-pilkada-damai-korari-pastikan-junjung-tinggi-persatuan-bangsa', 'BANGKAPOS.COM, BANGKA - Calon Wakil Bupati Kabupaten Bangka Tengah, Korari Suwondo memastikan bakal menjunjung tinggi persatuan dan kesatuan bangsa menjelang Pemilihan Kepala Daerah (Pilkada) bulan Desember mendatang.\\n\\nHal ini diungkapkan ketika melakukan deklarasi Pilkada Damai yang digelar di Kantor Gubernur Provinsi Kepulauan Bangka Belitung.\\n\\nH.Korari Bersama dengan Para Paslon pilkada (Ist)\\n\\nKorari mengatakan, pesta demokrasi ini merupakan ajang adu gagasan dari putta terbaik untuk membangun bangsa dan negara.\\n\\nOleh sebab itu, upaya tersebut tidak boleh dinodai dengan adanya provokasi-provokasi yang memecah belah masyarakat.\\n\\n\"Mari kita manfaatkan Pilkada yang akan digelar pada tanggal 9 Desember 2020 sebagai momentum untuk memperkuat persatuan dan kesatuan. Jangan ada kampanye hitam yang saling menjatuhkan apalagi membawa unsur-unsuru suku, agama dan ras (Sara),\" kata Korari, Jumat (25/9/2020).\\n\\nMenurut dia, untuk menjaga kondusivitas di saat masa-masa kampanye, masyarakat diimbau agar tidak mudah percaya berita-berita yang belum diketahui sumbernya. Sebab, berita tersebut berpotensi mengandung unsur-unsur yang menjatuhkan lawan politik.\\n\\nJika menemukan berita yang melanggar aturan, Korari meminta agar berani melaporkan kepada pihak yang berwajib untuk ditindak sesuai dengan aturan hukum yang berlaku. \"Kita tidak mau ada berita bohong atau hoaks saat kampanye, ini menjadi tanggung jawab semua pihak,\" kata dia.\\n\\nSementara itu, Gubernur Provinsi Kepulauan Bangka Belitung Erzaldi Rosman meminta semua pihak untuk mengutamakan kesehatan di tengah merebaknya pandemi virus corona saat ini. Semua kegiatan yang bersifat mengumpulkan massa dalam jumlah banyak harus menaati protokol kesehatan.\\n\\nSelain itu, pasangan calon bupati dan wakil bupati juga wajib menaati semua aturan-aturan yang telah ditetapkan baik dari sisi kesehatan maupun aturan lainnya. \"Kita harus menjaga protokol kesehatan dan tidak ada pasangan yang saling menjatuhkan. Semoga setelah pemilihan nanti tidak ada dendam di hati,\" ujarnya.\\n\\nSebagai informasi, H. Korari Suwondo telah resmi ditetapkan oleh Partai Demokrasi Indonesia (PDI) Perjuangan sebagai Bakal Calon Wakil Bupati Kabupaten Bangka Tengah mendampingi Bakal Calon Bupati Didit Srigusjaya. Mereka pun mendapatkan dukungan dari empat partai koalisi yakni Partai Demokrat, Partai Solidaritas Indonesia (PSI), Partai Gelora Indonesia dan Partai Bulan Bintang (PBB). (*)')\n"
     ]
    },
    {
     "name": "stderr",
     "output_type": "stream",
     "text": [
      "[nltk_data] Downloading package punkt to\n",
      "[nltk_data]     C:\\Users\\ASUS\\AppData\\Roaming\\nltk_data...\n",
      "[nltk_data]   Package punkt is already up-to-date!\n"
     ]
    },
    {
     "name": "stdout",
     "output_type": "stream",
     "text": [
      "('Ini Penjelasan BMKG Soal Potensi Tsunami 20 Meter di Wilayah Selatan Jawa', datetime.datetime(2020, 9, 25, 0, 0), [], 'https://banyumas.tribunnews.com/2020/09/25/ini-penjelasan-bmkg-soal-potensi-tsunami-20-meter-di-wilayah-selatan-jawa', 'TRIBUNBANYUMAS.COM, JAKARTA - Belum lama ini, peneliti dari Institut Teknologi Bandung (ITB) merilis hasil riset dan tak pelak, itu membuat masyarakat khususnya di wilayah selatan Pulau Jawa menjadi resah.\\n\\nHasil riset para peneliti ITB terkait adanya potensi tsunami 20 meter di selatan Pulau Jawa.\\n\\nHasil riset yang telah diterbitkan dalam jurnal Nature Scientific Report pada 17 September 2020 tersebut dianggap mengkhawatirkan jika benar-benar terjadi nantinya.\\n\\n• Saya Minta Maaf Atas Kekhilafan Ini, Begini Cerita Keluarga Penyelenggara Konser Dangdut di Tegal\\n\\n• Layanan Tatap Muka Disetop, Operator Dispendukcapil Kabupaten Semarang Meninggal Karena Covid-19\\n\\n• Santri Ponpes Positif Covid-19 Jalani Isolasi di Baturraden Banyumas\\n\\n• Klaster Ziarah di Banyumas, Kades Cikembulan: Itu Agenda Rutin Tahunan Warga, Rombongan ke Kebumen\\n\\nLantas, bagaimana tanggapan Badan Meteorologi Klimatologi dan Geofisika (BMKG) dengan hasil kajian peneliti ITB tersebut?\\n\\nSesuai yang dilansir dari Kompas.com, Jumat (25/9/2020), Kepala Bidang Mitigasi Gempabumi dan Tsunami BMKG, Dr Daryono mengapresiasi hasil tersebut.\\n\\nDia menjelaskan, BMKG mengapresiasi penelitian tersebut karena kajian ilmiah yang dilakukan ini mampu menentukan potensi magnitudo maksimum gempa megathrust dan skenario terburuk.\\n\\nAkan tetapi, hingga saat ini, teknologi yang ada belum mampu memprediksi dengan tepat dan akurat kapan dan di mana gempa akan terjadi.\\n\\n\"Skenario model yang dihasilkan merupakan gambaran terburuk (worst case).\"\\n\\n\"Ini dapat dijadikan acuan dalam upaya mitigasi guna mengurangi risiko bencana gempa dan tsunami,\" ujarnya.\\n\\nOleh karena itu, menanggapi ketidakpastian ini, yang perlu dilakukan adalah upaya mitigasi dengan menyiapkan langkah-langkah konkrit.')\n"
     ]
    },
    {
     "name": "stderr",
     "output_type": "stream",
     "text": [
      "[nltk_data] Downloading package punkt to\n",
      "[nltk_data]     C:\\Users\\ASUS\\AppData\\Roaming\\nltk_data...\n",
      "[nltk_data]   Package punkt is already up-to-date!\n"
     ]
    },
    {
     "name": "stdout",
     "output_type": "stream",
     "text": [
      "('Daftar Harga Mobil Bekas Toyota Kijang Innova untuk Periode September 2020, Paling Murah Rp 110 Juta', datetime.datetime(2020, 9, 25, 0, 0), [], 'https://jatim.tribunnews.com/2020/09/25/daftar-harga-mobil-bekas-toyota-kijang-innova-untuk-periode-september-2020-paling-murah-rp-110-juta', 'Harga mobil bekas Toyota Kijang Innova kini makin terjangkau.\\n\\nTRIBUNJATIM.COM - Berikut ini daftar harga mobil bekas Toyota Kijang Innova untuk Anda.\\n\\nHarga mobil bekas Toyota Kijang Innova kini makin terjangkau.\\n\\nData pricelist di GridOto.com menunjukkan harga mobil bekas Toyota Kijang Innova termurah kini Rp 110 juta periode September 2020.\\n\\nHarga mobil baru Toyota Kijang Innova saat rilis yakni Rp 350 juta untuk tipe tertinggi di tahun 2011.\\n\\nBesaran harga tersebut bersaing dengan seri Multi Purpose Vehicle (MPV) kelas menengah lainnya, seperti Mitsubishi Pajero dan Isuzu Panther.\\n\\nToyota Kijang Innova merupakan pembaruan pertama sejak dirilis di tahun 2004.\\n\\n• Daftar Harga Mobil Bekas Nissan Grand Livina September 2020, Budget 60 Juta Bisa Bawa Keluaran 2007\\n\\n• Daftar Harga Mobil Bekas dengan Harga Rp 30 Jutaan Akhir September 2020, Bisa Dapat Timor hingga BMW\\n\\n• Daftar Harga 4 Mobil Bekas Honda Jazz 2014 & Spesifikasinya, dari Rp 160 Jutaan, Banyak Penggemarnya\\n\\nJika Anda mencari mobil bekas Toyota Kijang Innova patutnya mengecek lebih detail setiap fitur. Pastikan mobil bekas Toyota Kijang Innova tersebut dalam kondisi yang prima.\\n\\nBerikut ini beberapa harga mobil bekas Toyota Kijang Innova di situs mobil bekas GridOto.com periode September 2020.\\n\\nWilayah penjualan mobil bekas Toyota Kijang Innova tersebut berada di Jakarta dan sekitarnya.\\n\\nDaftar harga mobil bekas Toyota Kijang Innova sebagai berikut:')\n"
     ]
    },
    {
     "name": "stderr",
     "output_type": "stream",
     "text": [
      "[nltk_data] Downloading package punkt to\n",
      "[nltk_data]     C:\\Users\\ASUS\\AppData\\Roaming\\nltk_data...\n",
      "[nltk_data]   Package punkt is already up-to-date!\n"
     ]
    },
    {
     "name": "stdout",
     "output_type": "stream",
     "text": [
      "('Geger Mayat Pria Tergeletak di Pantai Watu Pecak, Kondisi Tak Utuh: Tubuh Bagian Atas Tinggal Tulang', datetime.datetime(2020, 9, 25, 0, 0), [], 'https://jatim.tribunnews.com/2020/09/25/geger-mayat-pria-tergeletak-dipantai-watu-pecak-kondisi-tak-utuh-tubuh-bagian-atas-tinggal-tulang', 'Pihak polisi saat melakukan evakuasi mayat Mr X yang ditemukan tergeletak di bibir Pantai Watu Pecak, Kabupaten Lumajang, digegerkan dengan penemuan mayat, Jumat (25/9/2020).\\n\\nTRIBUNJATIM.COM, LUMAJANG - Warga sekitar Pantai Watu Pecak, Kabupaten Lumajang digegerkan dengan penemuan mayat, Jumat (25/9/2020).\\n\\nSesosok mayat berjenis kelamin pria ditemukan warga di tepi Pantai Watu Pecak.\\n\\nKondisi mayat tak utuh, sejak pertama kali ditemukan.\\n\\nTubuh korban dari pinggang hingga kepala tinggal tulang.\\n\\n• Begal Payudara di Surabaya Tertangkap, Ngaku Dapat Bisikan Gaib, Polisi: Stres Pacarnya Nikah\\n\\n• 3 Pemuda Blitar Tewas Gegara Pesta Miras Oplosan, 1 Tak Selamat Saat Dirawat di RSUD Mardi Waluyo\\n\\nCiri-ciri yang hanya bisa dikenali, jenazah mengenakan celana pendek berwarna abu-abu yang terdapat kombinasi biru dan garis merah.\\n\\n\"Perkiraan saya, mayat sudah mengombang-ambing di laut sekitar satu bulan lebih, terus terbawa arus sampai dan baru ketemu tadi,\" kata Iptu Agus Sugiharto, Kapolsek Pasirian, Jumat (25/9/2020).\\n\\nKata Agus, dari hasil otopsi mayat tersebut sebelumnya tidak mengalami tindakan kekerasan.\\n\\n• Hasil Oplas Nenek 60 Tahun Sukses Buat Utang Rp 86 M Hilang Sementara, Kini Buronan, Lihat Nasibnya\\n\\n• Layanan Oltek Pikat Ratusan Warga Jatim, Klik Order: Konsumen yang Tentukan Lokasi Servis Motor\\n\\n\"Kesimpulan hasil otopsi tubuh mayat tidak menjurus adanya kekerasan,\" ungkapnya.\\n\\nNamun hingga kini, polisi masih kesulitan mengidentifikasi identitasnya. Terlebih dalam beberapa minggu terakhir tidak ada laporan warga hilang.\\n\\n\"Tidak ada laporan. Dulu ada 3 bulan lalu laporan orang hilang di Pantai Dampar, sudah kami datangkan sama yang merasa kehilangan tapi ternyata bukan keluarganya. Jadi bagi siapapun yang merasa kehilangan bisa menghubungi Polres Kabupaten Lumajang atau Polsek Pasirian,\" pungkasnya.\\n\\nPenulis: Tony Hermawan\\n\\nEditor: Heftys Suud')\n"
     ]
    },
    {
     "name": "stderr",
     "output_type": "stream",
     "text": [
      "[nltk_data] Downloading package punkt to\n",
      "[nltk_data]     C:\\Users\\ASUS\\AppData\\Roaming\\nltk_data...\n",
      "[nltk_data]   Package punkt is already up-to-date!\n"
     ]
    },
    {
     "name": "stdout",
     "output_type": "stream",
     "text": [
      "('Detik-detik Gudang Pabrik di PT Indosar Gresik Terbakar, Karyawan Sampai Alami Luka Bakar', datetime.datetime(2020, 9, 25, 0, 0), [], 'https://jatim.tribunnews.com/2020/09/25/detik-detik-gudang-pabrik-di-pt-indosar-gresik-terbakar-karyawan-sampai-alami-luka-bakar', 'TRIBUNJATIM.COM, GRESIK - Inilah detik-detik gudang pabrik di Gresik terbakar.\\n\\nAkibat kejadian itu, seorang karyawan sampai alami luka bakar.\\n\\nSimak kronologi lengkapnya di sini!\\n\\nSebuah gudang pabrik di Kabupaten Gresik terbakar hebat pada Kamis (24/9/2020) kemarin.\\n\\nSi jago merah melahap bangunan gudang pabrik PT Indosar yang berada di Desa Gempolkurung, Kecamatan Menganti.\\n\\nSatu orang karyawan yang sedang bekerja mengalami luka bakar.\\n\\n• Kebakaran Hebat di Bandarharjo Semarang, Warga Takjub Alquran dan Tasbih Masih Utuh: Mukjizat Allah\\n\\nKepala UPT Pemadam Kebakaran Gresik Eka Prapangasta mengatakan baru mendapati laporan sekitar pukul 17.02 wib dan langsung bergerak menuju lokasi.\\n\\nBerdasarkan informasi yang dihimpun, pabrik yang memproduksi plester koyo itu terbakar sekitar pukul 16.30 wib.\\n\\nApi muncul pertama kali di gudang produksi coating.\\n\\nDengan cepat, si jago merah melalap gudang berukuran 25 x 50 meter yang berisi gulungan kain, mesin coating koyo dan mesin coating plester.')\n"
     ]
    },
    {
     "name": "stderr",
     "output_type": "stream",
     "text": [
      "[nltk_data] Downloading package punkt to\n",
      "[nltk_data]     C:\\Users\\ASUS\\AppData\\Roaming\\nltk_data...\n",
      "[nltk_data]   Package punkt is already up-to-date!\n"
     ]
    },
    {
     "name": "stdout",
     "output_type": "stream",
     "text": [
      "('Ahmad Dhani Ditunjuk Jadi Wasekjen Partai Gerindra Begini Kata Suami Mulan Jameela Sosok Prabowo', datetime.datetime(2020, 9, 25, 0, 0), [], 'https://palembang.tribunnews.com/2020/09/25/ahmad-dhani-ditunjuk-jadi-wasekjen-partai-gerindra-begini-kata-suami-mulan-jameela-sosok-prabowo', 'SRIPOKU.COM -- Secara mengejutkan suami Mulan Jameela yang merupakan musisi tanah air Ahmad Dhani ditunjuk sebagai wakil sekertaris jenderal (Wasekjen) Partai Gerindra.\\n\\nMantan suami Maia Estianty ini langsung ditunjuk oleh Ketua Umum Partai Gerindra Prabowo Subianto untuk menduduki jabatan Wasekjen.\\n\\nWakil Ketua Umum bidang Hukum dan Advokasi DPP Partai Gerindra Habiburokhman saat dihubungi Tribunnews, Jakarta, Kamis (24/9/2020) menginformasikan formasi baru di susunan organisasi di partainya.\\n\\nHabiburokhman menyebut nama Ahmad Dhani diantara sederet nama pemangku jabatan baru di Gerindra.\\n\\nNama Ahmad Dhani dianggap layak jadi Wasekjen karena ia masuk dalam jajaran yang setia berjuang dengan Partai Gerindra.\\n\\n\"Ada Ahmad Dhani, Sang Alang, dan Vasco Ruseimy. Mereka memang sudah lama berjuang bersama kami dan mereka memang bersedia menjadi pengurus,\" papar Habiburokhman.\\n\\nSaat ini posisi sekretaris jenderal masih diduduki Ahmad Muzani.\\n\\nPrabowo Ibarat Jenderal, Ahmad Dhani Prajurit yang Patuh Lantas, bagaimana pandangan Ahmad Dhani pada pimpinan tertinggi Prabowo yang telah memberinya amanah sebagai Wasekjen?\\n\\n• Syarat Daftar Kartu Prakerja di www.prakerja.go.id, Pendaftaran Prakerja Gelombang 10?\\n\\nPada video podcast berjudul \"Hampir Dibunuh Thn 2003, Ahmad Dhani Not Hoax?!\". Video itu diunggah di akun Youtube Deddy Corbuzier pada Rabu (8/7/2020), Ahmad Dhani, mengibaratkan ketua umum Prabowo Subianto sebagai jenderal di partai yang kata-katanya adalah titah yang harus dipatuhi.\\n\\nSementara itu, kata dia, dirinya saat ini masih belajar menjadi prajurit yang patuh dengan perintah pimpinan.\\n\\nMulanya, Dhani berbicara soal kondisi Indonesia saat ini yang dianggapnya mengalami anomali.')\n"
     ]
    },
    {
     "name": "stderr",
     "output_type": "stream",
     "text": [
      "[nltk_data] Downloading package punkt to\n",
      "[nltk_data]     C:\\Users\\ASUS\\AppData\\Roaming\\nltk_data...\n",
      "[nltk_data]   Package punkt is already up-to-date!\n"
     ]
    },
    {
     "name": "stdout",
     "output_type": "stream",
     "text": [
      "('Regulasi Kehadiran Suporter Buat Klub Kalah Belum Jelas, PT LIB Tunggu Keputusan Final dari PSSI', datetime.datetime(2020, 9, 25, 0, 0), [], 'https://jakarta.tribunnews.com/2020/09/25/regulasi-kehadiran-suporter-buat-klub-kalah-belum-jelas-pt-lib-tunggu-keputusan-final-dari-pssi', 'Laporan Wartawan TribunJakarta.com, Wahyu Septiana\\n\\nTRIBUNJAKARTA.COM, JAKARTA - Para pecinta sepak bola di Indonesia sedang dibuat bingung dengan adanya rencana penerapan hukuman klub kalah, pada saat suporter memaksakan hadir ke venue pertandingan Liga 1 2020.\\n\\nKabar tersebut pertama kali terungkap setelah klub Liga 1 melakukan manager meeting sebelum kompetisi berlangsung.\\n\\nKomisaris Persib Bandung, Umuh Muchtar, menginformasikan klubnya bisa kalah jika dalam pertandingan terdapat suporter yang hadir ke area stadion.\\n\\nBerbeda dengan pernyataan dari Umuh Muchtar, Plt Sekjen PSSI, Yunus Nusi mengabarkan pihaknya tidak pernah merancang dan ada pembahasan dalam penyusunan regulasi tersebut.\\n\\nKondisi tersebut membuat publik sepak bola Indonesia bertanya-tanya kebijakan dan regulasi terbaru yang akan diterapkan pada pelaksanaan Liga 1 2020.\\n\\nDirektur Utama PT Liga Indonesia Baru (LIB), Akhmad Hadian Lukita, mengaku tidak mau banyak berkomentar terkait perdebatan yang terjadi dalam munculnya regulasi tersebut.\\n\\nLukita mengatakan, semua keputusan terkait penyusunan regulasi merupakan wewenang dari PSSI.\\n\\nDalam hal ini, PT LIB hanya operator pelaksana kompetisi sepak bola di Indonesia.\\n\\n\"Kalau untuk masalah ini saya tidak mau banyak berkomentar,\" kata Akhmad Hadian saat dihubungi awak media, pada Jumat (25/9/2020).')\n"
     ]
    },
    {
     "name": "stderr",
     "output_type": "stream",
     "text": [
      "[nltk_data] Downloading package punkt to\n",
      "[nltk_data]     C:\\Users\\ASUS\\AppData\\Roaming\\nltk_data...\n",
      "[nltk_data]   Package punkt is already up-to-date!\n"
     ]
    },
    {
     "name": "stdout",
     "output_type": "stream",
     "text": [
      "('Putus Akibat Longsor, Kini Jalan Poros Palopo', datetime.datetime(2020, 9, 25, 0, 0), [], 'https://makassar.tribunnews.com/2020/09/25/putus-akibat-longsor-kini-jalan-poros-palopo-toraja-dapat-dilalui-kendaraan-roda-dua', 'Jalan putus akibat longsor di Poros Palopo - Toraja, Kelurahan Battang Barat, Kecamatan Wara Barat, akhirnya bisa dilalui\\n\\nTRIBUNPALOPO.COM, WARA - Jalan putus akibat longsor di Poros Palopo - Toraja, Kelurahan Battang Barat, Kecamatan Wara Barat, akhirnya bisa dilalui.\\n\\nJalan yang amblas ini hanya bisa dilalui oleh kendaraan roda dua saja.\\n\\nBalai Besar Pelaksanaan Jalan Nasional (BBPJN) meembangun jembatan gantung sepanjang 84 meter dengan lebar 1.8 meter.\\n\\nKepala BBPNJ Sulsel, Insal Gunawan mengatakan, jembatan gantung ini merupakan jalur transportasi sementara yang hanya bisa dilalaui pejalan kaki dan pengendara roda dua.\\n\\n\"Memang jembatan ini bersifat sementara. Nantinya akan dibangun jembatan permanen yang dapat dilalui mobil dan kendaraan lainnya,\" jelasnya.\\n\\nDibukanya jembatan gantung ini ditandai dengan peresmian yang dilakukan Wakil Wali Kota Palopo, Rahmat Masri Bandaso (RMB).\\n\\nRMB meminta agar masyarakat menjaga jembatan ini sebab jembatan punya kapasitas maksimal.\\n\\n\"Kita semua meminta agar masyarakat agar kerja sama dalam menjaga jembatan tersebut. Diharapkan lurah dan camat serta dibantu Babinsa dan Bhabinkamtibmas dapat membuat aturan untuk mengatur penggunaan jembatan tersebut,\" jelasnya.\\n\\nSebelumnya Longsor di Jl Poros Palopo - Toraja KM 24 Battang Barat, Kecamatan Wara Barat, Kota Palopo menyebabkan delapan rumah ambruk, Jumat (26/6/2020).\\n\\nTidak ada korban jiwa dalam bencana alam ini. Rumah yang ambruk telah ditinggalkan oleh penghuninya.\\n\\nMereka mengungsi karena sebelumnya di lokasi ini juga terjadi longsor yang mengakibatkan jalan retak.\\n\\nAkibat bencana ini jalan poros Palopo- Toraja putus, tak dapat dilalui.\\n\\nLaporan Wartawan TribunPalopo.Com, @hamdansoeharto_')\n"
     ]
    },
    {
     "name": "stderr",
     "output_type": "stream",
     "text": [
      "[nltk_data] Downloading package punkt to\n",
      "[nltk_data]     C:\\Users\\ASUS\\AppData\\Roaming\\nltk_data...\n",
      "[nltk_data]   Package punkt is already up-to-date!\n"
     ]
    },
    {
     "name": "stdout",
     "output_type": "stream",
     "text": [
      "('Selena Gomez Percaya Diri Pamerkan Tubuh Seksi Selepas Transplantasi Ginjal, Ada Bekas Luka Operasi', datetime.datetime(2020, 9, 25, 0, 0), [], 'https://suryamalang.tribunnews.com/2020/09/25/selena-gomez-percaya-diri-pamerkan-tubuh-seksi-selepas-transplantasi-ginjal-ada-bekas-luka-operasi', 'SURYAMALANG.COM - Selepas menjalani transplantasi ginjal, Selena Gomez sempat diselmuti ketidak-nyamanan tentang bekas luka operasi.\\n\\nDia merasa kurang percaya diri saat berpakaian agak terbuka yang memperlihatkan bekas luka tersebut.\\n\\nNamun, kini Selena Gomez kembali menemukan kepercayaan diri di tengah-tengah bekas luka operasi yang ada di tubuhnya.\\n\\nSelena Gomez pun berbicara terbuka tentang ketidaknyamanan soal citra tubuh yang dia alami pasca operasi transplantasi ginjal.\\n\\nDi samping foto diri yang berpose dengan pakaian renang biru, penyanyi berusia 28 tahun itu menulis tentang bagaimana dia tumbuh mencintai tubuh, termasuk bekas luka operasinya.\\n\\n\"Ketika saya mendapat transplantasi ginjal, saya ingat di masa awal tentang betapa sulitnya untuk menunjukkan bekas luka tersebut.\"\\n\\nBegitu kalimat yang dia bubuhkan pada unggahan di akun Instagram-nya tersebut.\\n\\n\"Saya tidak ingin bekas luka ini ada di foto, jadi saya selalu mengenakan pakaian yang bakal menutupinya,\" sebut dia.\\n\\n\"Tapi sekarang tidak begitu lagi. Saya sudah merasa yakin dengan siapa saya, dan apa yang saya alami.\"\\n\\n\"Malah saya bangga akan hal itu,\" lanjut dia.')\n"
     ]
    },
    {
     "name": "stderr",
     "output_type": "stream",
     "text": [
      "[nltk_data] Downloading package punkt to\n",
      "[nltk_data]     C:\\Users\\ASUS\\AppData\\Roaming\\nltk_data...\n",
      "[nltk_data]   Package punkt is already up-to-date!\n"
     ]
    },
    {
     "name": "stdout",
     "output_type": "stream",
     "text": [
      "('Tag: Sinopsis Putri untuk Pangeran Jumat 25 September 2', None, [], 'https://suryamalang.tribunnews.com/tag/sinopsis-putri-untuk-pangeran-jumat-25-september-2020', 'TAG Sinopsis Putri untuk Pangeran Jumat 25 September 2')\n"
     ]
    },
    {
     "name": "stderr",
     "output_type": "stream",
     "text": [
      "[nltk_data] Downloading package punkt to\n",
      "[nltk_data]     C:\\Users\\ASUS\\AppData\\Roaming\\nltk_data...\n",
      "[nltk_data]   Package punkt is already up-to-date!\n"
     ]
    },
    {
     "name": "stdout",
     "output_type": "stream",
     "text": [
      "('Tag: sinetron Putri untuk Pangeran Jumat 25 September 2', None, [], 'https://suryamalang.tribunnews.com/tag/sinetron-putri-untuk-pangeran-jumat-25-september-2020', 'TAG sinetron Putri untuk Pangeran Jumat 25 September 2')\n"
     ]
    },
    {
     "name": "stderr",
     "output_type": "stream",
     "text": [
      "[nltk_data] Downloading package punkt to\n",
      "[nltk_data]     C:\\Users\\ASUS\\AppData\\Roaming\\nltk_data...\n",
      "[nltk_data]   Package punkt is already up-to-date!\n"
     ]
    },
    {
     "name": "stdout",
     "output_type": "stream",
     "text": [
      "('Tag: fakta seorang driver ojol wanita ditemukan tewas', None, [], 'https://suryamalang.tribunnews.com/tag/fakta-seorang-driver-ojol-wanita-ditemukan-tewas', 'TAG fakta seorang driver ojol wanita ditemukan tewas')\n"
     ]
    },
    {
     "name": "stderr",
     "output_type": "stream",
     "text": [
      "[nltk_data] Downloading package punkt to\n",
      "[nltk_data]     C:\\Users\\ASUS\\AppData\\Roaming\\nltk_data...\n",
      "[nltk_data]   Package punkt is already up-to-date!\n"
     ]
    },
    {
     "name": "stdout",
     "output_type": "stream",
     "text": [
      "('Mandiri Syariah Jadikan Literasi dan Digitalisasi Kunci Perkembangan Perbankan Syariah Nasional', datetime.datetime(2020, 9, 25, 0, 0), [], 'https://banjarmasin.tribunnews.com/2020/09/25/mandiri-syariah-jadikan-literasi-dan-digitalisasi-kunci-perkembangan-perbankan-syariah-nasional', 'Toni E.B. Subari, ketua umum perkumpulan bank syariah indonesia dan Dirut Bank Syariah Mandiri, Workshop virtual, Jumat (25/9/2020).\\n\\nEditor : Hari Widodo\\n\\nBANJARMASINPOST.CO.ID - Sebagai bank syariah terbesar di Indonesia, PT Bank Syariah Mandiri (Mandiri Syariah) berkomitmen untuk terus meningkatkan literasi perbankan syariah.\\n\\nKomitmen tersebut sebagai salah satu upaya mendukung perkembangan ekonomi syariah di Indonesia, selain terus mengembangkan inovasi layanan dan produk digital.\\n\\nKeuangan dan perbankan syariah terbukti dapat bertahan di tengah situasi pandemi Covid19.\\n\\nIni membuktikan bahwa perbankan syariah bisa menjadi penopang ekonomi nasional bersama dengan perbankan konvensional.\\n\\nSaat ini perbankan syariah masih memiliki potensi yang lebih besar di Indonesia. Indeks literasi bank syariah sebesar 8,11 persen, sedangkan indeks inklusi sebesar 11,06 persen.\\n\\n• Mandiri Syariah Raih Penghargaan The Asset Triple A Islamic Finance Awards 2020\\n\\n• Mandiri Syariah Raih Penghargaan Market Leadership Award dari Global Islamic Finance\\n\\n• Mandiri Syariah dan Mandiri Utama Finance Bersinergi Perluas Layanan Pembiayaan Otomotif Syariah\\n\\nSementara itu, indeks literasi bank nasional sebesar 29,66 persen, sedangkan indeks inklusi 67,82 persen.\\n\\nDi sisi lain, market share perbankan syariah terus menunjukkan peningkatan, yakni dari sebesar 5,78 persen pada 2017 menjadi 6,18 persen pada Juni 2020.\\n\\nKarena itu, peningkatan literasi perbankan syariah menjadi tantangan bagi Mandiri Syariah di masa pandemi ini.\\n\\nPeningkatan literasi ini diharapkan akan berbanding lurus dengan inklusi perbankan syariah kedepannya.')\n"
     ]
    },
    {
     "name": "stderr",
     "output_type": "stream",
     "text": [
      "[nltk_data] Downloading package punkt to\n",
      "[nltk_data]     C:\\Users\\ASUS\\AppData\\Roaming\\nltk_data...\n",
      "[nltk_data]   Package punkt is already up-to-date!\n"
     ]
    },
    {
     "name": "stdout",
     "output_type": "stream",
     "text": [
      "('AHM Tambah Varian Warna Baru Skutik Penjelajah Honda ADV150', datetime.datetime(2020, 9, 25, 0, 0), [], 'https://jateng.tribunnews.com/2020/09/25/ahm-tambah-varian-warna-baru-skutik-penjelajah-honda-adv150', 'TRIBUNJATENG.COM, SEMARANG - PT Astra Honda Motor (AHM) memperkenalkan varian warna baru pada skutik penjelajah Honda ADV150.\\n\\nMemiliki desain bodi yang futuristik dan manly, pilihan warna baru pada Honda ADV150 semakin menggambarkan karakter pengendara yang tangguh dan menyukai petualang.\\n\\nMenjawab kebutuhan dan harapan masyarakat yang memilki aktivitas tinggi dalam melintasi berbagai kondisi jalan raya, skutik penjelajah jalanan Honda ADV150 menawarkan dua pilihan warna matte terbaru pada tipe ABS yaitu Tough White Gold dengan dominasi warna putih dan Tough Matte Black Gold yang menghadirkan aura tangguh pada dominasi warna hitam.\\n\\nHonda ADV150 (IST)\\n\\nSelain itu, disematkan emblem 3D serta velg berwarna gold yang menghadirkan kombinasi kesan mewah dan tangguh.\\n\\nHadirnya dua pilihan warna baru ini sekaligus melengkapi warna Advance Red yang juga mendapatkan tambahan emblem 3D.\\n\\nSedangkan untuk tipe CBS, warna terbaru Advance White Black hadir dengan dominasi warna putih yang dikombinasikan dengan desain stripe terbaru pada body serta penyematan emblem 3D.\\n\\nPilihan warna terbaru ini hadir melengkapi tiga varian warna terdahulu yaitu Matte Black, Tough Red, dan Matte Brown.\\n\\nHonda ADV150 (IST)\\n\\nDirektur Marketing AHM Thomas Wijaya mengatakan untuk memenuhi permintaan para pecinta skutik adventure yang menyukai kebebasan dalam berkendara, AHM memperkenalkan varian warna baru sebagai upaya memberikan beragam pilihan untuk konsumen.\\n\\nPenyegaran ini juga merupakan bagian dari upaya perusahaan untuk terus berinovasi menghadirkan partner berkendara terbaik dalam aktualisasi diri di jalan raya maupun penyaluran hobi.\\n\\n“AHM berusaha menemani konsumen agar dapat menikmati kondisi beragam jalan yang ada di Indonesia dengan berkendara yang menyenangkan. Dengan menghadirkan pilihan warna baru pada Honda ADV150, kami ingin semakin memberikan kebanggaan bagi para pengendaranya ditemani desain terbaik dan beragam fitur canggih yang kami sematkan pada model ini,” ujar Thomas Wijaya.')\n"
     ]
    },
    {
     "name": "stderr",
     "output_type": "stream",
     "text": [
      "[nltk_data] Downloading package punkt to\n",
      "[nltk_data]     C:\\Users\\ASUS\\AppData\\Roaming\\nltk_data...\n",
      "[nltk_data]   Package punkt is already up-to-date!\n"
     ]
    },
    {
     "name": "stdout",
     "output_type": "stream",
     "text": [
      "('Petani Keluhkan Irigasi, Bupati dan Dandim 0302 Inhu Ikut Tanam Padi untuk Ketahanan Pangan', datetime.datetime(2020, 9, 25, 0, 0), [], 'https://pekanbaru.tribunnews.com/2020/09/25/petani-keluhkan-irigasi-bupati-dan-dandim-0302-inhu-ikut-tanam-padi-untuk-ketahanan-pangan', 'TRIBUNPEKANBARU.COM, RENGAT - Penanaman padi di Desa Teluk Sejuah, Kecamatan Kelayang, Kabupaten Inhu, Kamis (24/9/2020) berlangsung istimewa.\\n\\nSebab kegiatan tersebut dihadiri Bupati Indragiri Hulu (Inhu) Yopi Arianto bersama dengan Dandim 0302 Inhu, Letkol Czi Eko S Setiawan.\\n\\nBahkan Bupati dan Dandim Inhu ikut bertanam padi.\\n\\nTurut mendampingi Kepala Dinas Pertanian dan Perikanan (Disnakan) Paino dan Plt Kadis PUPR Inhu Boby.\\n\\n• MAKIN PEDAS, Harga Cabe Merah di Rengat Riau Naik Lagi ke Harga Rp 35 Ribu Per Kilogram\\n\\n• KEREN, Ada Lima Perlintasan Gajah di Sepanjang Tol Pekanbaru-Dumai, Dapat Dilintasi 100 Ekor Gajah\\n\\n• Kampanye Mulai Sabtu, Berikut Zona dan Jadwal Paslon Pilkada Kepulauan Meranti\\n\\nKegiatan bertanam padi juga dihadiri oleh Kabid Tanaman Pangan Dinas Tanaman Pangan dan Hortikultura Provinsi Riau, Wisnu Handana.\\n\\nPenanaman padi di Desa Teluk Sejuah tersebut sudah memasuki periode tanam kedua kali.\\n\\nPemerintah Kabupaten Inhu melalui instansi terkait terus mendorong agar petani melanjutkan penanaman guna menunjang ketahanan pangan di Kabupaten Inhu.\\n\\nSesuai dengan data Disnakan Inhu, di Kecamatan Kelayang, Inhu terdapat 155,71 hektare lahan pertanian padi.\\n\\nLahan pertanian yang paling luas di Kecamatan Kelayang terdapat di Desa Teluk Sejuah dengan luasan mencapai 76,05 hektare.\\n\\nSelain melakukan penanaman padi, Yopi Arianto juga menyempatkan berdialog dan menampung aspirasi dari para petani terkait persoalan yang dihadapi petani.')\n"
     ]
    },
    {
     "name": "stderr",
     "output_type": "stream",
     "text": [
      "[nltk_data] Downloading package punkt to\n",
      "[nltk_data]     C:\\Users\\ASUS\\AppData\\Roaming\\nltk_data...\n",
      "[nltk_data]   Package punkt is already up-to-date!\n"
     ]
    },
    {
     "name": "stdout",
     "output_type": "stream",
     "text": [
      "('Ingat Biduan Cantik Ini, Lama Tak Ada Kabar Setelah Hidup Jadi Istri Kedua, Sadar Diri: Ini Takdir', datetime.datetime(2020, 9, 25, 0, 0), [], 'https://pekanbaru.tribunnews.com/2020/09/25/ingat-biduan-cantik-ini-lama-tak-ada-kabar-setelah-hidup-jadi-istri-kedua-sadar-diri-ini-takdir', 'TRIBUNPEKANBARU.COM - Yang suka lagu dangdut, pasti sudah tidak asing lagi dengan sosok biduan cantik yang satu ini.\\n\\nDia adalah pedangdut cantik Nita Thalia.\\n\\nKini sang biduan kembali terekspos setelah jarang muncul lagi di layar kaca televisi tanah air.\\n\\nNita Thalia menjadi sorotan setelah perceraian Meggy Wulandari yang kini menjadi bahan perbincangan.\\n\\nistri kedua dari komedian setelah hidup berumah tangga sebagaiistrikeduadari komedian Kiwil\\n\\nDiketahui, Nita Thalia merupakan istri kedua dari sosok pria sejak 20 tahun lalu.\\n\\nTerkait hal poligami itu, Nita Thalia bercerita sepenggal kisah hidupnya yang hidupa sebagai istri kedua.\\n\\nMemang, kandasnya rumah tangga Kiwil dan Meggy Wulandari sempat menjadi sorotan beberapa waktu lalu.\\n\\nKini keduanya resmi bercerai.\\n\\nSebulan bercerai dari Kiwil, Meggy Wulandari pun sudah menikah siri dengan seorang duda beranak dua.')\n"
     ]
    },
    {
     "name": "stderr",
     "output_type": "stream",
     "text": [
      "[nltk_data] Downloading package punkt to\n",
      "[nltk_data]     C:\\Users\\ASUS\\AppData\\Roaming\\nltk_data...\n",
      "[nltk_data]   Package punkt is already up-to-date!\n"
     ]
    },
    {
     "name": "stdout",
     "output_type": "stream",
     "text": [
      "('Dua Siswi SMP Diperkosa Bergilir 7 Pria Mabuk, Harus Jalan 10 Kilometer Cari Bantuan', datetime.datetime(2020, 9, 25, 0, 0), [], 'https://pekanbaru.tribunnews.com/2020/09/25/dua-siswi-smp-diperkosa-bergilir-7-pria-mabuk-harus-jalan-10-kilometer-cari-bantuan', 'TRIBUNPEKANBARU.COM - Dua siswi SMP FA dan N jadi korban pemerkosaan oleh tujuh pria yang mabuk di sebuah Kecamatan Bandung, Kabupaten Serang, Banten.\\n\\nDua siswi SMP terus berjalan sekitar 10 kilometer untuk mencari bantuan.\\n\\n\"Korban itu usai diperkosa jalan sekitar 10 kilomter untuk meminta bantuan kepada warga,\" kata Kapolres Serang AKBP Mariyono kepada wartawan, Jumat (25/9/2020).\\n\\nDiceritakan Mariyono, peristiwa yang dialami korban terjadi pada tanggal 21 Agustus 2020 lalu sekitar pukul 18.00 WIB.\\n\\nSaat itu, korban dalam perjalanan pulang sehabis membeli makanan kucing.\\n\\nKemudian, mereka bertemu dengan para pelaku yang saat itu dalam kondisi mabuk. Kemudian para pelaku menawarkan kedua korban untuk mengantarkan pulang ke rumahnya.\\n\\nNamun, di tengah perjalanan.\\n\\n• Usai Memperkosa dan Tembak Perawat, eks Tentara Ini Tulis Kalimat Tolong Maafkan Saya Joanne\\n\\n• Usai Pesta Miras, Gadis Belasan Tahun Diperkosa 4 Pria di Sebuah Gubuk\\n\\n• 7 Pria Rebutan Perkosa Mahasiswi Makassar, Korban Diajak Tidur di Hotel Dalam Kondisi Setengah Sadar\\n\\nOleh pelaku, kedua korban bukannya diantar ke rumah, mereka justru dibawa pelaku ke sebuah kebun yang jauh dari pemukiman warga.\\n\\n\"Di kebun itu korban di perkosa oleh para pelaku secara bergiliran, ada yang pegangin tangannya kakinya, ada juga yang bukain celana sama bajunya,\" ujarnya.\\n\\n\"Pelaku semua ini dalam kondisi mabuk, kemudian dia merasa tertarik dengan dua korban yang masih umur 14 tahun untuk diperkosa bersama-sama,\" sambungnya.')\n"
     ]
    },
    {
     "name": "stderr",
     "output_type": "stream",
     "text": [
      "[nltk_data] Downloading package punkt to\n",
      "[nltk_data]     C:\\Users\\ASUS\\AppData\\Roaming\\nltk_data...\n",
      "[nltk_data]   Package punkt is already up-to-date!\n"
     ]
    },
    {
     "name": "stdout",
     "output_type": "stream",
     "text": [
      "('Debat Pihak Perludem soal Pilkada di Tengah Covid-19, Ali Ngabalin Potong Pembicaraan: UU Mana?', datetime.datetime(2020, 9, 25, 0, 0), [], 'https://wow.tribunnews.com/2020/09/25/debat-pihak-perludem-soal-pilkada-di-tengah-covid-19-ali-ngabalin-potong-pembicaraan-uu-mana', 'Perdebatan terjadi antara Tenaga Ahli KSP Ali Mochtar Ngabalin dengan Dewan Pembina Perludem Titi Anggraeni, dalam Apa Kabar Indonesia, Kamis (24/9/2020).\\n\\nTRIBUNWOW.COM - Perdebatan terjadi antara Tenaga Ahli Kantor Staf Presiden (KSP) Ali Mochtar Ngabalin dengan Dewan Pembina Perkumpulan untuk Pemilu dan Demokrasi (Perludem) Titi Anggraeni.\\n\\nSaat itu keduanya membahas wacana pengunduran pilkada mengingat situasi pandemi Covid-19 di Indonesia semakin memburuk.\\n\\nDilansir TribunWow.com, hal itu terungkap dalam tayangan Apa Kabar Indonesia di TvOne, Kamis (24/9/2020).\\n\\nIlustrasi Pemilu (Tribun Jogja/ Suluh Pamungkas)\\n\\n• Ini Kata Sederet Calon soal Pilkada di Tengah Covid, dari Putri Maruf Amin sampai Keponakan Prabowo\\n\\nAwalnya Titi Anggraeni mengungkapkan alasan pilkada tidak masalah ditunda dengan alasan faktor kesehatan.\\n\\nIa menjelaskan pilkada bukan satu-satunya instrumen demokrasi yang perlu diperhatikan.\\n\\n\"Pemilu itu salah satu saja instrumen kita berdemokrasi. Ada elemen-elemen lain yang harus dipenuhi, antara lain bagaimana kita bisa mempunyai tata kelola pemerintahan yang akuntabel dengan pelibatan masyarakat dalam proses pelaksanaannya,\" papar Titi.\\n\\nIa memberi contoh pada aspek legislasi yang dapat menjadi satu bentuk komitmen berdemokrasi.\\n\\nTiti memberi contoh pada pembahasan undang-undang (UU) yang tertutup dan tanpa partisipasi masyarakat.\\n\\nMenurut dia, hal ini justru jauh lebih memberi pertanyaan pada komitmen pemerintah akan praktek demokrasi.\\n\\n\"Jadi saya ingin mengatakan, Pak Ngabalin, berdemokrasi tidak cukup hanya instrumen pemilu. Pemilu penting, tapi juga tata kelola pemerintahan,\" jelas Titi.')\n"
     ]
    },
    {
     "name": "stderr",
     "output_type": "stream",
     "text": [
      "[nltk_data] Downloading package punkt to\n",
      "[nltk_data]     C:\\Users\\ASUS\\AppData\\Roaming\\nltk_data...\n",
      "[nltk_data]   Package punkt is already up-to-date!\n"
     ]
    },
    {
     "name": "stdout",
     "output_type": "stream",
     "text": [
      "('Tidak Merasa Tua, Angel Di Maria: Saya Masih Sama Hebatnya dengan Kylian Mbappe dan Neymar', datetime.datetime(2020, 9, 25, 0, 0), [], 'https://jabar.tribunnews.com/2020/09/25/tidak-merasa-tua-angel-di-maria-saya-masih-sama-hebatnya-dengan-kylian-mbappe-dan-neymar', 'TRIBUNJABAR.ID - Pemain sayap Paris Saint-Germain (PSG), Angel di Maria, sesumbar bahwa level permainannya masih setara Kylian Mbappe dan Neymar.\\n\\nAngel di Maria masih kesal lantaran tidak masuk skuad terbaru tim nasional Argentina.\\n\\nPelatih timnas Argentina, Lionel Scaloni, memang tidak memasukkan Di Maria ke dalam skuadnya.\\n\\n• Tak Sehebat Ayahnya, Anak Zinedine Zidane Pindah-pindah Klub, Kini Gabung Wydad Casablanca, Maroko\\n\\nDi Maria pun dibuat terkejut karena ia merasa masih layak membela Argentina.\\n\\n\"Kalau usia 32 tahun dibilang tua dan butuh diganti, harusnya berlaku untuk semua pemain,\" kata Di Maria seperti dilansir BolaSport.com dari Marca.\\n\\n\"Di setiap laga, saya selalu menunjukkan level saya masih setara Kylian Mbappe dan Neymar,\" ucap Di Maria.\\n\\n• Aaron Ramsey: Para Pemain Juventus Merasa Lebih Bahagia bersama Andrea Pirlo\\n\\nDi Maria pun beranggapan bahwa Argentina tidak lagi menginginkan jasanya.\\n\\nKondisi tersebut tidak langsung membuat Di Maria patah semangat saat ini.\\n\\nSang pemain sayap berjanji untuk terus memperjuangkan tempatnya di timnas Argentina.\\n\\n• KABAR HARIONO Mantan Persib Bandung, Sahabat Bobotoh, Kesibukannya Diceritakan Teco, Menguras Tenaga\\n\\nYang membuat Di Maria semakin kesal, penolakan Argentina terjadi saat ia sedang bugar.\\n\\nDi Maria tengah tidak berurusan dengan cedera sehingga seharusnya bisa bermain.\\n\\nKomitmen Di Maria selama membela klub seolah tidak dihargai saat ia tidak dipanggil oleh tim nasional. (bolasport.com)')\n"
     ]
    },
    {
     "name": "stderr",
     "output_type": "stream",
     "text": [
      "[nltk_data] Downloading package punkt to\n",
      "[nltk_data]     C:\\Users\\ASUS\\AppData\\Roaming\\nltk_data...\n",
      "[nltk_data]   Package punkt is already up-to-date!\n"
     ]
    },
    {
     "name": "stdout",
     "output_type": "stream",
     "text": [
      "('VIDEO-Tiga Peracik dan Pengedar Tembakau Sintetis Ditangkap Polres Cimahi, Dibuntuti Satu Bulan', datetime.datetime(2020, 9, 25, 0, 0), [], 'https://jabar.tribunnews.com/2020/09/25/video-tiga-peracik-dan-pengedar-tembakau-sintetis-ditangkap-polres-cimahi-dibuntuti-satu-bulan', 'Laporan Wartawan Tribun Jabar Daniel Andreand Damanik\\n\\nTRIBUNJABAR.ID, CIMAHI - Tersangka RM (20), AR (21), dan TB (25) merupakan kelompok peracik hingga pengedar tembakau sintetis yang ditangkap jajaran Satuan Reserse Narkoba Polres Cimahi.\\n\\nBukan main, peredaran tembakau sintetis tersebut tidak hanya dilakukan di wilayah hukum Polres Cimahi, melainkan hingga lintas pulau dan provinsi di Indonesia yaitu hingga ke Kalimantan.\\n\\n\"Kami membuntuti kelompok ini selama satu bulan. Hasilnya, setelah kami tangkap, mereka mengaku sudah beraksi selama satu tahun. Lokasi memproduksi ya berpindah-pindah, tapi umumnya menggunakan rumah kontrakan atau apartemen,\" kata Kasat Res Narkoba Polres Cimahi AKP Nasrudin.\\n\\n\\n\\n\\n\\nPenjualan dan pemasaran tembakau sintetis tersebut dilakukan melalui media sosial dan dipasarkan secara online.\\n\\nTugas dari ketiga orang tersebut adalah sama, meracik hingga memasarkan.\\n\\nSebagai barang bukti, Polisi juga menyita berbagai alat produksi dan label (hologram ) yang digunakan sebagai penanda bahwa tembakau merupakan produksi ketiga orang tersebut.\\n\\n\\n\\n\\n\\nAda dua lokasi penangkapan, keduanya berada di Kabupaten Bandung.\\n\\nKetiga tersangka ditangkap pada 17 September 2020 di dua lokasi tersebut.\\n\\n\"Total tembakau sintetis yang kami sita dari tangan tersangka ialah seberat 13.2 gram. Masih ada dua orang yang kami cari (DPO) yaitu TB dan BM,\" katanya.\\n\\nAkibat perbuatannya, ketiga tersangka dijerat pasal 114 dan 112 dengan ancaman hukuman penjara paling singkat 5 tahun dan maksimal 20 tahun hingga hukuman mati.(*)\\n\\n\\n\\nArtikel ini telah tayang di tribunjabar.id dengan judul Tiga Peracik dan Pengedar Tembakau Sintetis Ditangkap Polres Cimahi, Dibuntuti Satu Bulan, https://jabar.tribunnews.com/2020/09/25/tiga-peracik-dan-pengedar-tembakau-sintetis-ditangkap-polres-cimahi-dibuntuti-satu-bulan.\\n\\n\\n\\nPenulis: Daniel Andreand Damanik\\n\\nEditor: taufik ismail\\n\\nVideo Editor: Edwin Tk')\n"
     ]
    },
    {
     "name": "stderr",
     "output_type": "stream",
     "text": [
      "[nltk_data] Downloading package punkt to\n",
      "[nltk_data]     C:\\Users\\ASUS\\AppData\\Roaming\\nltk_data...\n",
      "[nltk_data]   Package punkt is already up-to-date!\n"
     ]
    },
    {
     "name": "stdout",
     "output_type": "stream",
     "text": [
      "('Semua Postingan Nathalie Holscher Mendadak Hilang, tapi Ada 1 yang Tersisa, Ada Sule di Fotonya', datetime.datetime(2020, 9, 25, 0, 0), [], 'https://jabar.tribunnews.com/2020/09/25/semua-postingan-nathalie-holscher-mendadak-hilang-tapi-ada-1-yang-tersisa-ada-sule-di-fotonya', 'TRIBUNJABAR.ID - Ada yang mengejutkan dari akun Instagram wanita cantik yang dekat dengan Sule, yaitu Nathalie Holscher.\\n\\nSemua postingan foto dan video Nathalie Holscher kini menghilang.\\n\\nSebelumnya, banyak koleksi potret cantik dan seksi Nathalie Holscher di akun Instagram-nya.\\n\\nMulai dari potret selfie atau swafoto hingga aktivitasnya sebagai DJ. Namun, kini semuanya sudah tidak ada.\\n\\nDi akunnya, hanya ada satu postingan yang tersisa, sebuah foto yang baru-baru ini viral.\\n\\nFoto tersebut ketika Nathalie Holscher mengabarkan telah menjadi mualaf.\\n\\nPada foto itu, ada juga komedian, Sule yang menjadi saksi saat ia menjadi mualaf.\\n\\n• Cantiknya Nathalie Holscher Menutup Aurat, Sule Bersenandung: Maukah Dirimu Jadi Teman Hidupku\\n\\nNathalie terlihat cantik berhijab sambil tersenyum lebar mengenakan busana serba putih.\\n\\nTak hanya itu, perubahan lain dari akun Instagram adalah foto profilnya.\\n\\nNathalie Holscher menggantinya menggunakan potret cantiknya yang mengenakan hijab.')\n"
     ]
    },
    {
     "name": "stderr",
     "output_type": "stream",
     "text": [
      "[nltk_data] Downloading package punkt to\n",
      "[nltk_data]     C:\\Users\\ASUS\\AppData\\Roaming\\nltk_data...\n",
      "[nltk_data]   Package punkt is already up-to-date!\n"
     ]
    },
    {
     "name": "stdout",
     "output_type": "stream",
     "text": [
      "('Tiga Perempuan Tengah Duduk di Tepi Jalan Disambar Mobil di Kota Tasik, Satu Orang Tewas', datetime.datetime(2020, 9, 25, 0, 0), [], 'https://jabar.tribunnews.com/2020/09/25/tiga-perempuan-tengah-duduk-di-tepi-jalan-disambar-mobil-di-kota-tasik-satu-orang-tewas', 'Jasad korban Dede Esti (39) diangkut ke Kamar Mayat RSU dr Soekardjo, Kota Tasikmalaya, untuk dipulasara, Jumat (25/9) petang\\n\\nLaporan Wartawan Tribun Jabar Firman Suryaman\\n\\nTRIBUNJABAR. ID, TASIKMALAYA - Tiga perempuan diduga keluarga pengemis yang tengah duduk di tepi Jalan Terusa Situ Gede, Kota Tasikmalaya, diseruduk sebuah mobil, Jumat (25/9/2020) siang.\\n\\nAkibat peristiwa itu, seorang perempuan bernama Dede Esti (39) tewas di tempat. Sedang dua lagi, Mumun (50) dan Resti (24) mengalami luka parah. Ketiganya segera dilarikan ke RSU dr Soekardjo.\\n\\nKanit Laka Satlantas Polresta Tasikmalaya, Ipda Zezen Zaenal M, mengungkapkan, kecelakaan itu terjadi setelah sebuah mobil KIA New Rio warna putih D 1807 BM tiba-tiba oleng ke kiri dan menabrak tiga perempuan tersebut.\\n\\n• KABAR HARIONO Mantan Persib Bandung, Sahabat Bobotoh, Kesibukannya Diceritakan Teco, Menguras Tenaga\\n\\nMobil KIA yang dikemudikan seorang perempuan muda, WL (29), warga Jalan Riung Asih, itu datang dari arah Jalan Balong Kanyun (Jalan Letkol Jaelani) lalu belok kiri masuk Jalan Terusan Situ Gede.\\n\\n\"Beberapa puluh meter berjalan, entah kenapa mobil oleng ke kiri dan langsung menabrak ketiga perempuan tersebut. Mobil baru berhenti setelah menabrak pohon,\" kata Zezen.\\n\\nPengemudi mobil berikut kendaraannya yang mengalami kerusakan di bagian depan, langsung diamankan ke Mapolresta.\\n\\nSementara suami korban meninggal, Ujang Iwan (45), sudah ada di RSU.\\n\\n\"Saya diberi tahu warga bahwa istri, kakak dan anak perempuan saya tertabrak mobil. Ternyata istri saya sudah tiada. Lukanya parah di kepala,\" ujarnya bernada sendu.\\n\\nUjang bersama keluarganya tinggal di Singaparna, Kabupaten Tasikmalaya. Sedangkan Dede, istrinya, berasal dari Jalan Padasuka, Kota Tasikmalaya.\\n\\n• Aaron Ramsey: Para Pemain Juventus Merasa Lebih Bahagia bersama Andrea Pirlo')\n"
     ]
    },
    {
     "name": "stderr",
     "output_type": "stream",
     "text": [
      "[nltk_data] Downloading package punkt to\n",
      "[nltk_data]     C:\\Users\\ASUS\\AppData\\Roaming\\nltk_data...\n",
      "[nltk_data]   Package punkt is already up-to-date!\n"
     ]
    },
    {
     "name": "stdout",
     "output_type": "stream",
     "text": [
      "('Tag: setiap jemaah akan diberi waktu tiga jam', None, [], 'https://jabar.tribunnews.com/tag/setiap-jemaah-akan-diberi-waktu-tiga-jam', 'TAG setiap jemaah akan diberi waktu tiga jam')\n"
     ]
    },
    {
     "name": "stderr",
     "output_type": "stream",
     "text": [
      "[nltk_data] Downloading package punkt to\n",
      "[nltk_data]     C:\\Users\\ASUS\\AppData\\Roaming\\nltk_data...\n",
      "[nltk_data]   Package punkt is already up-to-date!\n"
     ]
    },
    {
     "name": "stdout",
     "output_type": "stream",
     "text": [
      "('Kapan GWK Cultural Park Dibuka Kembali? Begini Penjelasan Manajemen', datetime.datetime(2020, 9, 25, 0, 0), [], 'https://bali.tribunnews.com/2020/09/25/kapan-gwk-cultural-park-dibuka-kembali-begini-penjelasan-manajemen', 'Laporan Wartawan Tribun Bali, Zaenal Nur Arifin\\n\\nTRIBUN-BALI.COM, BADUNG - Sejumlah objek wisata di Bali sudah beroperasi kembali dan dibuka untuk umum di tengah pandemi Covid-19 dengan menerapkan protokol kesehatan ketat.\\n\\nNamun tidak dengan landmark Bali, yakni Garuda Wisnu Kencana (GWK) Cultural Park yang hingga saat ini masih ditutup untuk umum.\\n\\nKapan GWK Cultural Park kembali dibuka untuk umum, apakah dalam waktu dekat atau tidak?\\n\\nMarcomm Manager GWK Cultural Park, Oktaviano Pratomo menyampaikan, saat ini manajemen memutuskan melanjutkan penutupan sementara GWK Cultural Park.\\n\\n\"Saat ini GWK Cultural Park masih ditutup untuk umum, sesuai dengan keputusan yang diambil manajemen beberapa waktu lalu. Langkah penutupan ini juga sebagai dukungan terhadap upaya pemerintah menekan laju persebaran Covid-19 di Bali,\" ungkap Oktaviano, Jumat (25/9/2020), saat dikonfirmasi tribun-bali.com.\\n\\nGWK Cultural Park sendiri telah lolos uji dan memenuhi standar penerapan protokol kesehatan berbasis CHSE dari pemerintah daerah.\\n\\nPenerapan protokol kesehatan di GWK Cultural Park dilakukan mulai dari area parkir kedatangan, lokasi pembelian tiket, gerbang masuk kawasan GWK, restoran hingga fasilitas publik, seperti toilet dan mushola.\\n\\nUntuk menunjang lancarnya pemberlakuan protokol kesehatan itu, pihaknya juga memasang sejumlah papan petunjuk dan informasi yang ditempatkan di berbagai titik strategis.\\n\\nMeskipun penutupan sementara masih diberlakukan, pihak manajemen tetap melakukan perawatan dan pemeliharaan terhadap kawasan GWK Cultural Park demi menjaga kebersihan dan kenyamanan pengunjung nanti begitu dibuka kembali.')\n"
     ]
    },
    {
     "name": "stderr",
     "output_type": "stream",
     "text": [
      "[nltk_data] Downloading package punkt to\n",
      "[nltk_data]     C:\\Users\\ASUS\\AppData\\Roaming\\nltk_data...\n",
      "[nltk_data]   Package punkt is already up-to-date!\n"
     ]
    },
    {
     "name": "stdout",
     "output_type": "stream",
     "text": [
      "('Disinggung Soal Penyesalan Gisel Bercerai dari Gading Marten, Ayah Gempi: Setan Didengerin!', datetime.datetime(2020, 9, 25, 0, 0), [], 'https://madura.tribunnews.com/2020/09/25/disinggung-soal-penyesalan-gisel-bercerai-dari-gading-marten-ayah-gempi-setan-didengerin', 'TRIBUNMADURA.COM - Gading Marten memberikan tanggapan terkait penuturan Gisella Anastasia yang mengaku menyesal bercerai.\\n\\nBeberapa waktu lalu, Gisel blak-blakan soal keputusannya bercerai dari Gading Marten.\\n\\nIbu satu anak ini mengaku kalau ia salah dalam mengambil keputusan untuk bercerai.\\n\\nGisella Anastasia menyadari kesalahan tersebut lantaran tak melibatkan Tuhan dalam mengambil keputusan besar di hidapinya termasuk soal bercerai.\\n\\nPerceraian Gisella Anastasia dan Gading Marten kala itu memang cukup mengejutkan.\\n\\nRumah tangga yang selalu terlihat romantis dan adem ayem justru berakhir dengan perpisahan.\\n\\nPadahal Gisella Anastasia dan Gading Marten selalu tampil mesra.\\n\\nNamun tak disangka, tiba-tiba Gisella Anastasia dan Gading Marten mengumumkan perceraian mereka.\\n\\nMelalui kanal Youtube Daniel Mananta, ibunda Gempita Nora Marten ini blak-blakan soal keputusannya bercerai dulu.\\n\\nGisella Anastasia juga mengungkap pergulatan batin dan pikiran sebelum bercerai.\\n\\n• Dana BLT BPJS Ketenagakerjaan Tahap IV Telah Disalurkan ke 2,65 Juta Pekerja, Segera Cek Nama Anda\\n\\n• Pemkot Surabaya Bentuk Tim Penilaian dan Identifikasi Risiko Covid-19 Tingkat Kecamatan & Kelurahan\\n\\n• Download Lagu MP3 Making A Lover - SS501, Viral di Tik Tok 2020, Sesange Sori Jilleo I Love You')\n"
     ]
    },
    {
     "name": "stderr",
     "output_type": "stream",
     "text": [
      "[nltk_data] Downloading package punkt to\n",
      "[nltk_data]     C:\\Users\\ASUS\\AppData\\Roaming\\nltk_data...\n",
      "[nltk_data]   Package punkt is already up-to-date!\n"
     ]
    },
    {
     "name": "stdout",
     "output_type": "stream",
     "text": [
      "('LEBIH MURAH, Cek Harga Fortuner, Pajero Sport Dakar dan CRV Jika Pajak Mobil 0 Persen Berlaku', datetime.datetime(2020, 9, 25, 0, 0), ['Https', 'Bangkok-Motorshow.Com', 'Toyota Thailand'], 'https://batam.tribunnews.com/2020/09/25/lebih-murah-cek-harga-fortuner-pajero-sport-dakar-dan-crv-jika-pajak-mobil-0-persen-berlaku', 'TRIBUNBATAM.id - Kementerian Perindustrian mengusulkan pajak mobil nol persen sampai bulan Desember 2020.\\n\\nJika usulan pajak mobil baru dihapus diterima, maka harga mobil langsung menjadi murah.\\n\\nMasyarakat tampak antusias menanggapi kebijakan tersebut.\\n\\nPublik beranggapan langkah ini dapat memacu tumbuhnya ekonomi di sektor industri Otomotif.\\n\\nHal ini dikarenakan jika relaksasi pajak nol persen untuk mobil baru ini benar akan diterapkan, otomatis harganya akan jauh lebih murah hingga lebih kurang 50 persen dibandingkan sebelumnya.\\n\\nDengan harga yang lebih murah tersebut diyakini akan mampu menggeliatkan pasar otomotif di Indonesia layaknya sejumlah negara yang sudah menerapkannya.\\n\\n• Agar Ban Mobil Selalu Optimal, Cek Tips Ini\\n\\nhttps://bangkok-motorshow.com/ Honda CR-V Facelift meluncur di Thailand Honda CR-V Facelift meluncur di Thailand\\n\\nRelaksasi pajak juga pernah digulirkan oleh sejumlah negara di Asia dan hasilnya cukup membantu untuk mendongkrak penjualan mobil baru.\\n\\nJika terealisasi, pajak nol persen ini akan berlaku untuk semua tipe mobil baru mulai dari MPV, LCGC, sedan, city car, hingga SUV.\\n\\nToyota Thailand New Toyota Fortuner Legender New Toyota Fortuner Legender\\n\\nUntuk para pencinta mobil SUV medium, tentunya jika ada penghapusan pajak mobil baru bisa menjadi kesempatan untuk membeli.\\n\\nMengingat, harganya akan menjadi sangat murah atau setara dengan harga mobil LSUV atau SUV murah.')\n"
     ]
    },
    {
     "name": "stderr",
     "output_type": "stream",
     "text": [
      "[nltk_data] Downloading package punkt to\n",
      "[nltk_data]     C:\\Users\\ASUS\\AppData\\Roaming\\nltk_data...\n",
      "[nltk_data]   Package punkt is already up-to-date!\n"
     ]
    },
    {
     "name": "stdout",
     "output_type": "stream",
     "text": [
      "('Dzikir dan Doa Setelah Sholat Maghrib Dalam Bahasa Arab Latin Artinya, Doa Setelah Sholat Wajib', datetime.datetime(2020, 9, 25, 0, 0), [], 'https://kupang.tribunnews.com/2020/09/25/dzikir-dan-doa-setelah-sholat-maghrib-dalam-bahasa-arab-latin-artinya-doa-setelah-sholat-wajib', 'Dzikir dan Doa Setelah Sholat Maghrib Dalam Bahasa Arab Latin Artinya, Doa Setelah Sholat Wajib\\n\\nDzikir dan Doa Setelah Sholat Magrib Dalam Bahasa Arab Latin dan Artinya, Bisa Dibaca Sholat Wajib Lain\\n\\nPOS-KUPANG.COM - Berikut ini doa setelah sholat lima waktu, Subuh, Dzuhur, Ashar, sholat Maghrib & Isya, Bacaan Latin, Bahasa Arab dan Artinya\\n\\nAmalan doa dan dzikir yang dilantunkan setelah Shalat Wajib itu bisa menambah pahala bagi orang yang melaksanakannya.\\n\\nBerikut ini doa setelah sholat bacaan latin, Bahasa Arab dan artinya dilengkapi dzikir yang dikutip dari Buku Panduan Risalah Tuntunan Shalat Lengkap Kementrian Agama :\\n\\nDoa sholat (Kemenag)\\n\\nLatin :\\n\\n\"BISMILLAHIRRAHMAANIRRAHIIM.\\n\\nALHAMDU LILLAAHI RABBIL \\'AALAMIIN, HAMDAN YUWAAFII NI\\'AMAHU WAYUKAAFII MAZIIDAHU. YA RABBANAA LAKAL HAMDU KAMAA YAN BAGHII LIJALAALI WAJHIKAWAAZHIIMI SULTHAANIKA. ALLAHUMMA SHALLI \\'AL A A SAYYIDINAA MUHAMMADIN WA\\'ALAA AALI SAYYIDINAA MUHAMMAD\".\\n\\nArtinya :\\n\\n\"Dengan nama Allah Pengasih dan Penyayang.\\n\\nSegala puji bagi Allah Tuhan seru sekalian alam. Dengan puji yang sebanding dengan nikmat-Nya dan menjamin tambahannya. Ya Allah Tuhan Kami, bagi-Mu segala puji dan segala apa yang patut atas keluhuran DzatMu dan Keagungan kekuasaanMu. \"Ya Allah! Limpahkanlah rahmat dan salam atas junjungan kita Nabi Muhammad dan sanak keluarganya.\"')\n"
     ]
    },
    {
     "name": "stderr",
     "output_type": "stream",
     "text": [
      "[nltk_data] Downloading package punkt to\n",
      "[nltk_data]     C:\\Users\\ASUS\\AppData\\Roaming\\nltk_data...\n",
      "[nltk_data]   Package punkt is already up-to-date!\n"
     ]
    },
    {
     "name": "stdout",
     "output_type": "stream",
     "text": [
      "('Suasana Dalam Lembaga KPK tak Kondusif, Febri Diansyah Memilih Mundur Terlebih Firli Jadi Ketua KPK', datetime.datetime(2020, 9, 25, 0, 0), [], 'https://medan.tribunnews.com/2020/09/25/suasana-dalam-lembaga-kpk-tak-kondusif-febri-diansyah-memilih-mundur-terlebih-firli-jadi-ketua-kpk', 'KPK TERKINI - Setelah Janji Jokowi, Sinyal Keluarkan Perppu UU KPK, Febri Diansyah Jawab Posisi KPK\\n\\nTR I B U N-M E D A N.com - MUNDURnya, Febri Diansyah dari Komisi Pemberantasan Korupsi (KPK) menjadi sorotan masyarakat. Seperti, kalangan pengiat anti korupsi.\\n\\nDi antaranya, Saor Siagian, aktivis anti korupsi.\\n\\nMenurutnya, ada beberapa hal yang menyebabkan Febri melepaskan jabatannya sebagai Kepala Biro Humas KPK tersebut.\\n\\nSaor Siagian dan Fahri Hamzah. (Capture/Kolase TribunWow.com) (Capture/Kolase TribunWow.com)\\n\\n\"Prosesnya saya kira mulai saat revisi UU KPK. Kemudian nama Firli muncul (menjabat Ketua KPK),\" kata Saor kepada Tribunnnews, Jumat (24/9/2020).\\n\\nSaor menduga suasana di dalam lembaga antirasuah tersebut sudah tidak kondusif lagi.\\n\\nTerlebih, saat Febri tak lagi menjabat Juru Bicara dan dipindahkan ke Biro Humas KPK.\\n\\n\"Kawan-kawannya sempat mendorong cobalah untuk bertahan. Waktu itu Novel juga sama. Dia kan aktivis antikorupsi kan, mungkin daripada dia enggak maksimal, ya sudahlah (mengundurkan diri),\" lanjut Saor.\\n\\nSebagai kawan, Saor prihatin saat mendengar Febri mundur dari KPK, tetapi keputusan pribadi Febri itu harus tetap dihormati.\\n\\nJuru bicara KPK, Febri Diansyah ((KOMPAS.com/AMBARANIE NADIA))\\n\\n\"Kawan-kawan tidak ada yang dikasih tahu. Diam-diam saja, mungkin ya pergumulan batinnya, karena kan kita ada grup WA,\" kata Saor.\\n\\n\"Saya pikir mungkin dia butuh kontemplasi. Kita prihatin, tapi di satu sisi saya sih menghormati,\" pungkasnya.')\n"
     ]
    },
    {
     "name": "stderr",
     "output_type": "stream",
     "text": [
      "[nltk_data] Downloading package punkt to\n",
      "[nltk_data]     C:\\Users\\ASUS\\AppData\\Roaming\\nltk_data...\n",
      "[nltk_data]   Package punkt is already up-to-date!\n"
     ]
    },
    {
     "name": "stdout",
     "output_type": "stream",
     "text": [
      "('Bawa Keliling Peti Mati Covid-19 di Titik Keramaian, Ini Kata Wakapolsek Medan Timur', datetime.datetime(2020, 9, 25, 0, 0), [], 'https://medan.tribunnews.com/2020/09/25/bawa-keliling-peti-mati-covid-19-di-titik-keramaian-ini-kata-wakapolsek-medan-timur', 'TRIBUN-MEDAN.com, MEDAN - Polsek Medan Timur menyita banyak perhatian warga yang tengah berada di Pasar Cahaya, Kelurahan Durian, Kecamatan Medan Timur pada Jumat (25/9/2020).\\n\\nMengapa tidak, Polisi membawa peti mati Covid-19 yang ditaruh di atas mobil patroli dan masyarakat bisa melihatnya, secara khusus tulisan yang ditempel pada sisi luar peti tersebut.\\n\\nTerkait perarakan peti jenazah Covid-19 tersebut, Wakapolsek Medan Timur Iptu Edisman Purba menuturkan bahwa setiap orang yang tidak menggunakan masker akan dipanggil ke atas mobil dan melihat apa yang ada di dalam peti jenazah tersebut.\\n\\n\"Memang ada beberapa warga yang sengaja kami panggil karena mereka tidak menggunakan masker, lalu kami tanya, \\'Kamu tahu gimana kalau jadi korban Covid-19, bagaiamana posisinya kalau sudah mayat, ayo kita lihat, saya minta dia ke atas dan memang bentuknya seperti mayat,\" ujar Wakapolsek Medan Timur Iptu Edisman Purba saat dikonfirmasi pada Jumat (25/9/2020).\\n\\nPETI mati diperlihatkan bagi masyarakat saat sosialisasi protokol kesehatan agar semakin sadar akan bahaya Covid-19. (TRIBUN MEDAN/HO)\\n\\nDia lebih lanjut menguraikan apa yang ada dalam peti tersebut.\\n\\nDia menyampaikan bahwa orang yang melihatnya terkejut, sehingga menjadi sebuah upaya membuat shock therapy bagi pelanggar protokol kesehatan.\\n\\n\"Dibungkus dengan plastik, dia pun terkejut, tujuannya supaya kau tahu kalau kena Covid-19 nanti begini kondisinya dikubur,\" lanjutnya.\\n\\nSetelah diminta melihat apa yang ada dalam peti tersebut, pihak kepolisian juga memberikan edukasi bagi pelanggar protokol kesehatan tersebut.\\n\\n\"Untuk tidak menjadi korban Covid, gunakan masker, cuci tangan, jaga jarak, inilah tujuannya, supaya dia ada shock therapy,\" lanjutnya.\\n\\nDengan demikian, dia berharap orang yang melihatnya mendapatkan pelajaran dan orang-orang yang melihatnya juga termotivasi tidak melanggar protokol kesehatan.\\n\\n\"Ada hal yang diingatnya, begitu menyeramkan dan ini juga memotivasi bagi yang lain, bagi masyarakat yang melihat dan membaca tulisan yang ada dalam peti tersebut,\" pungkasnya.\\n\\n(cr3/tribun-medan.com)')\n"
     ]
    },
    {
     "name": "stderr",
     "output_type": "stream",
     "text": [
      "[nltk_data] Downloading package punkt to\n",
      "[nltk_data]     C:\\Users\\ASUS\\AppData\\Roaming\\nltk_data...\n",
      "[nltk_data]   Package punkt is already up-to-date!\n"
     ]
    },
    {
     "name": "stdout",
     "output_type": "stream",
     "text": [
      "('Puting Beliung di Medan Labuhan, Belasan Atap Rumah Ambruk, Korban Buat Posko Sumbangan', datetime.datetime(2020, 9, 25, 0, 0), [], 'https://medan.tribunnews.com/2020/09/25/puting-beliung-di-medan-labuhan-belasan-atap-rumah-ambruk-korban-buat-posko-sumbangan', 'TRIBUN-MEDAN.com, MEDAN - Bencana puting beliung di Jalan Rawe III, Lingkungan IV, Lorong Bengkel, Kelurahan Tangkahan, Kecamatan Medan Labuhan mengakibatkan puluhan rumah rusak berat. Kerugian diperkirakan cukup besar.\\n\\nUntuk menanggulangi hal tersebut, belasan KK yang tertimpa musibah berinisiatif untuk membuat posko donasi dengan membuat kotak sumbangan di tepi jalan di sekitar lokasi kejadian.\\n\\nKorban puting beliung, Legiman mengungkapkan bahwa aksi sumbangan ini dilakukan untuk turut meringankan beban dalam pembelian bahan bangunan.\\n\\n\"Pagi tadi kita buka pukul 8 pagi, namanya inikan bencana. Kitapun tidak bisa menduga juga. Kalau bantuan dari pemerintah daerah kan juga tidak bisa langsung, jadi dari sumbangan ini hitung-hitung bantu untuk membeli kayu atau seng, jadi meringankan beban juga,\" ungkap Legiman, Jumat (25/9/2020).\\n\\nKondisi rumah warga setelah dihantam puting beliung di Jalan Rawe III, Lingkungan IV, Lorong Bengkel, Kelurahan Tangkahan, Kecamatan Medan Labuhan, Jumat (25/9/2020). (T R IBUN-MEDAN.com/Kartika Sari)\\n\\nDilihat dari segi bangunan, kerusakan dapat dilihat cukup besar dengan runtuhnya seluruh asbes dan seng yang terbang. Legiman sendiri memprediksi kerugian yang diakibatkan angin puting beliung ini mencapai seratusan juta rupiah.\\n\\n\"Kalau paling berat itu rumah ini, tempat tidur ini entah bisa dipakai lagi atau enggak, kerusakan yang besar ya pasti dari bangunan ya. Kita anggap isi rumah itu ringan, cuma ini dari bangunan harganya tinggi kayak seng apalagi kayu ini,\" ujarnya.\\n\\nMisdi, warga yang turut menjadi korban bangunan yang hancur ini mengatakan posko ini akan tetap dibuka selama masih membutuhkan bantuan untuk perbaikan.\\n\\n\"Kalau perbaikan ini belum selesai akan tetap kita buat gini aja. Kalau bantuan dari pemerintah kan pake proses, kalau seperti inikan entah ada donatur yang memberi kita terima berapa pun yang diberi. Bisa dibelanjakan untuk beli kayu atau seng ataupun kebutuhan lainnya, jadi gak berlarut-larut,\" kata Misdi.\\n\\n(cr13/tribun-medan.com)')\n"
     ]
    },
    {
     "name": "stderr",
     "output_type": "stream",
     "text": [
      "[nltk_data] Downloading package punkt to\n",
      "[nltk_data]     C:\\Users\\ASUS\\AppData\\Roaming\\nltk_data...\n",
      "[nltk_data]   Package punkt is already up-to-date!\n"
     ]
    },
    {
     "name": "stdout",
     "output_type": "stream",
     "text": [
      "('Siapa Sebenarnya Youtuber Jambi Glenn Julifer, Parkir Satu Menit Bayar Satu Juta Terviral', datetime.datetime(2020, 9, 25, 0, 0), [], 'https://jambi.tribunnews.com/2020/09/25/siapa-sebenarnya-youtuber-jambi-glenn-julifer-parkir-satu-menit-bayar-satu-juta-terviral', 'Glenn Julifer, adalah seorang gamers yang juga Youtuber Jambi dengan 3.34 juta subscriber. Ia telah mengupload 729 video.\\n\\nSosok Youtuber Jambi Glenn Julifer menjadi pembicaraan gara-gara konten parkir satu menit bayar satu juta. Siapa sebenarnya Glenn Julifer?\\n\\nTRIBUNJAMBI.COM, JAMBI - Glenn Julifer, Youtuber Jambi ini berusia 22 tahun, namun telah mendapat penghargaan.\\n\\nAnak muda ini telah mendapat penghargaan silver play button pada 2017 dan gold play button pada 2018.\\n\\nBanyak yang tidak tahu kan siapa sebenarnya Glenn Julifer?\\n\\nGlenn berprestasi sejak kecil. Prestasi yang diraihnya, yaitu juara 1 fashion show saat TK 2004, juara 1 lomba drum se-Provinsi Jambi 2013, dan mewakili Provinsi Jambi ke tingkat wilayah pada saat itu.\\n\\n• One Piece Live Action Akan Tayang di Netflix, Tapi Produksi Film Dihentikan Sesaat, Efek Covid-19?\\n\\n• Bocoran One Piece Chapter 991, Page One dan Ulti Muncul Serang Kelompok Topi Jerami\\n\\n• Honda ADV150 Punya Dua Warna Baru, Gambaran Karakter Pengendara yang Tangguh\\n\\nSaat SMA, Glenn juara story telling Bahasa Inggris se-Sumatera bagian selatan tahun 2014 dan juara speech Bahasa Inggris tahun 2015.\\n\\nKonten paling ramai apa?\\n\\nGlenn mengatakan, konten yang memiliki respon paling besar yaitu video ia parkir satu menit dan membayar satu juta kepada tukang parkirnya.\\n\\n“Video yang responnya paling gede kayaknya waktu aku parkir satu menit, tapi aku bayar satu juta ke tukang parkirnya,” ungkapnya.\\n\\nGlenn Julifer, adalah seorang gamers yang menjadi youtuber dengan 3.34 juta subscriber, dan telah mengupload 729 video. (Istimewa)\\n\\nCita-cita berubah-ubah')\n"
     ]
    },
    {
     "name": "stderr",
     "output_type": "stream",
     "text": [
      "[nltk_data] Downloading package punkt to\n",
      "[nltk_data]     C:\\Users\\ASUS\\AppData\\Roaming\\nltk_data...\n",
      "[nltk_data]   Package punkt is already up-to-date!\n"
     ]
    },
    {
     "name": "stdout",
     "output_type": "stream",
     "text": [
      "('Kawanan Begal di Jerambah Bolong Tikam Korban Sebelas Kali, Honda Scoopy Raib Dibawa Kabur', datetime.datetime(2020, 9, 25, 0, 0), [], 'https://jambi.tribunnews.com/2020/09/25/kawanan-begal-di-jerambah-bolong-tikam-korban-sebelas-kali-honda-scoopy-raib-dibawa-kabur', 'TRIBUNJAMBI.COM,JAMBI- Kawanan begal di Kota Jambi kembali beraksi, seorang laki-laki bernama Andre (20), mengalami 11 luka bacok dan dilarikan ke Rumah Sakit Siloam.\\n\\nDari keterangan Andre, saat itu dirinya beserta tiga orang rekannya, yakni, Raden Ade (23), Indra (21) dan Madon (20) melintas di kawasan Simpang Tiga Trafick Light, Jerambah Bolong, Kota Jambi.\\n\\n\"Kami mau mancing bang, tiba-tiba dibegal,\" kata Andre, Jumat (25/9) sore.\\n\\nSaat kejadian, tiga rekan Andre berhasil melarikan diri, sementara dirinya dihajar pelaku yang diduga berjumlah empat orang.\\n\\nAksi pembegalan tersebut terjadi pada Rabu (23/9), sekitar pukul 01.00 dini hari, saat itu dirinya bersama tiga orang rekannya diberhentikan oleh sekelompok orang yang tidak dikenal di jalan.\\n\\n• Kasus Covid-19 di Jambi Tembus 409 Kasus, Dinas Kebudayaan dan Pariwisata Ditutup\\n\\n• VIDEO 10 Ribu Orang Meninggal akibat Covid-19, Ahli Sebut Angka Sebenarnya Bisa 3 Kali Lipat\\n\\nSetelah itu, Andre bersama temannya berhenti sekelompok pria pelaku begal tersebut mengatakan \"kau ini dak orangnyo\" berkali-kali, lalu pelaku langsung memulai aksinya dengan mengores-goreskan badan korban menggunakan badik, samurai dan parang.\\n\\n\\n\\nKorban juga sempat dipukuli dan dilindas menggunakan motor pelaku. Aksi ini sendiri dilakukan oleh 4 orang pelaku begal dan 4 orang lainnya hanya melihat kejadian tersebut.\\n\\nSelain melukai korban, pelaku juga membawa lari sepeda motor Honda Scoopy.\\n\\nSementara itu, Kanit Reskrim Polsek Jambi Selatan, Ipda Putu Gede Ega Purwita membenarkan terkait kejadian aksi pembegalan tersebut dan saat ini pihaknya sedang melakukan proses penyelidikan.\\n\\n\"Ya, benar korban sudah buat laporan di Polsek dan kasus ini dalam penyelidikan,\" kata Ega.')\n"
     ]
    },
    {
     "name": "stderr",
     "output_type": "stream",
     "text": [
      "[nltk_data] Downloading package punkt to\n",
      "[nltk_data]     C:\\Users\\ASUS\\AppData\\Roaming\\nltk_data...\n",
      "[nltk_data]   Package punkt is already up-to-date!\n"
     ]
    },
    {
     "name": "stdout",
     "output_type": "stream",
     "text": [
      "('Bocoran Spoiler One Piece Chapter 991, Jack Dihajar Nekomamushi, Kinemon Mati di Tangan Kaido?', datetime.datetime(2020, 9, 25, 0, 0), [], 'https://jambi.tribunnews.com/2020/09/25/bocoran-spoiler-one-piece-chapter-991-jack-dihajar-nekomamushi-kinemon-mati-di-tangan-kaido', \"TRIBUNJAMBI.COM - Pecinta anime dan juga manga One Piece dari Jepang pastinya menanti setiap seri yang akan rilis.\\n\\nKhusus untuk Manga One Piece akan segera rilis chapter 991. Cerita bakal melanjutkan peperangan antara aliansi Monkey D Luffy dengan aliansi Kaido di Pulau Onigashima.\\n\\nLalu untuk anime One Piece 943 melanjutkan aksi Bajak Laut Topi Jerami yang ingin menyelamatkan O-Toko di Rasetsu.\\n\\nBerikut spoiler manga One Piece chapter 991 dan anime One Piece 943 beserta jadwal rilisnya.\\n\\n• One Piece Live Action Akan Tayang di Netflix, Tapi Produksi Film Dihentikan Sesaat, Efek Covid-19?\\n\\n• LINK Situs Baca Manga One Piece Chapter 991 Sub Indonesia, Bajak Laut Topi Jerami Vs King dan Queen\\n\\n• Bocoran One Piece Chapter 991, Page One dan Ulti Muncul Serang Kelompok Topi Jerami\\n\\nPenantian para penggemar manga One Piece chapter 991 harus tertunda pada pekan lalu.\\n\\nPasalnya manga One Piece chapter 991 harus libur pekan lalu, baru akan tayang pada akhir pekan ini.\\n\\nSejumlah spoiler bermunculan terkait manga One Piece chapter 991 yang berjudul 'Biarkan Aku Mati'.\\n\\nUntuk cover-nya masih akan menceritakan Found yang akhirnya merangkul Lola dan Chiffon setelah 26 tahun.\\n\\nLalu masuk ke bagian cerita dimana X-Drake mengingat percakapannya dengan Coby yang mengatakan keunikan Monkey D Luffy.\\n\\nCoby menyebut Monkey D Luffy memiliki kekuatan yang membuat orang-orang di sekitarnya dapat ditariknya menjadi teman.\")\n"
     ]
    },
    {
     "name": "stderr",
     "output_type": "stream",
     "text": [
      "[nltk_data] Downloading package punkt to\n",
      "[nltk_data]     C:\\Users\\ASUS\\AppData\\Roaming\\nltk_data...\n",
      "[nltk_data]   Package punkt is already up-to-date!\n"
     ]
    },
    {
     "name": "stdout",
     "output_type": "stream",
     "text": [
      "('Hari Kontrasepsi Sedunia, BKKBN Provinsi Jambi Gelar Senam Sajojo', datetime.datetime(2020, 9, 25, 0, 0), [], 'https://jambi.tribunnews.com/2020/09/25/hari-kontrasepsi-sedunia-bkkbn-provinsi-jambi-gelar-senam-sajojo', 'TRIBUNJAMBI.COM, JAMBI – Ratusan peserta terlihat mengikuti senam sajojo yang diadakan di halaman parkir BKKBN provinsi jambi, dalam rangka memperingati Hari Kontrasepsi sedunia, Jumat (25/9).\\n\\nSenam sajojo ini digelar serentak diseluruh Indonesia, untuk di bkkbn provinsi jambi, hadir Asisten 1 Setda provinsi jambi H.Apani Saharudin, Kepala Biro Umum dan Humas BKKBN Pusat, Putut Riyatno, Kepala BKKBN Provinsi Jambi Munawar Ibrahim, Kepala Biro Kesramas Provinsi Jambi, serta dari Dinas Kesehatan Provinsi Jambi, Korem 042/Gapu, OPD KB kota dan kabupaten, MUI, IDI, IBI, Forum GenRe.\\n\\nBertajuk \"Bersama Mitra Tingkatkan Akses dan Kualitas Pelayanan KB dan Kesehatan Reproduksi pada Adaptasi Kebiasaan Baru\", BKKBN Provinsi Jambi berupaya untuk menyosialisasikan perubahan sikap dan perilaku.\\n\\n“Pencapaian program KB sangat ditentukan oleh kesertaan masyarakat, terutama pasangan usia subur (PUS) dalam ber-KB, tentunya berkat dukungan sarana dan prasarana KB yang memadai serta tenaga pelayanan KB yang kompeten,\" ujar Munawar Ibrahim.\\n\\nSebagian besar orang mengindentikkan program Keluarga Berencana dengan kontrasepsi. Padahal gagasan utama yang ditawarkan dalam program Keluarga Berencana adalah perencanaan keluarga, yaitu perencanaan dalam membangun dan menjalankan seluruh tahapan kehidupan berkeluarga.\\n\\nSambutan Gubernur Jambi yang dibacakan Asisten 1 H Apani, mengapresiasi gelaran peringatan Hari Kontrasepsi Sedunia ini.\\n\\nHari Kontrasepsi Sedunia, BKKBN Provinsi Jambi Gelar Senam Sajojo (ISTIMEWA)\\n\\n“Peringatan World Contraception Day (WCD) 2020 penting untuk mengarahkan masyarakat tentang kontrasepsi menjadi lebih dari sekadar alat untuk mencegah terjadinya kehamilan, tetapi untuk mewujudkan kehidupan reproduksi yang sehat agar terhindar dari kehamilan tidak diinginkan serta kesakitan dan kematian karena kehamilan terlalu muda, terlalu tua, terlalu rapat/dekat, dan terlalu sering/banyak,\" kata gubernur.\\n\\nPada kesempatan ini, gubernur menyampaikan apresiasi dan terima kasih kepada kabupaten kota se-Provinsi Jambi yang telah berjuang melaksanakan pelayanan KB dalam rangka memperingati Hari Kontrasepsi Sedunia dengan capaian yang sangat memuaskan dimana dari total target yang diberikan pusat sebanyak 1.880 akseptor sudah tercapai/terlayani 5.000 akseptor KB Metode Kontrasepsi Jangka Panjang (MKJP) (266%) dari target yang sudah ditetapkan. (adv)')\n"
     ]
    },
    {
     "name": "stderr",
     "output_type": "stream",
     "text": [
      "[nltk_data] Downloading package punkt to\n",
      "[nltk_data]     C:\\Users\\ASUS\\AppData\\Roaming\\nltk_data...\n",
      "[nltk_data]   Package punkt is already up-to-date!\n"
     ]
    },
    {
     "name": "stdout",
     "output_type": "stream",
     "text": [
      "('Kasus Covid-19 di Jambi Tembus 409 Kasus, Dinas Kebudayaan dan Pariwisata Ditutup', datetime.datetime(2020, 9, 25, 0, 0), [], 'https://jambi.tribunnews.com/2020/09/25/kasus-covid-19-di-jambi-tembus-409-kasus-dinas-kebudayaan-dan-pariwisata-ditutup', 'Kasus positif covid-19 di Provinsi Jambi bertambah 10 orang, pada Jumat (25/9/2020).\\n\\nTRIBUNJAMBI.COM, JAMBI - Jumlah pasien positif Covid-19 di Provinsi Jambi bertambah 10 orang, pada Jumat (25/9/2020). Total kasus positif corona kini berjumlah 409 orang.\\n\\nPasien hari ini lima di antaranya dari Kota Jambi yakni pasien 400, 401, 407, 408, dan 409. Tiga dari Kabupaten Kerinci, yaitu pasien 402, 403, 404. Serta satu dari Kabupaten Bungo yakni pasien 406.\\n\\nLagi-lagi satu di antara pasien tersebut merupakan ASN di Lingkup Pemprov Jambi dari Dinas Kebudayaan dan Pariwisata.\\n\\nPasien tersebut adalah pasien 409, inisial MAN merupakan ASN Dinas Budpar Provinsi Jambi. Akibatnya Kantor Disbudpar akan ditutup selama 3 hari.\\n\\n• Pengajar Universitas Jambi Terpapar Covid-19, Pihak Kampus Akan Lakukan Rapid Test Massal Besok\\n\\n• Tak Pakai Masker Akan Didenda, Maulana Sarankan Warga Tak Melawan Petugas\\n\\n\"Maka mulai Senin 28 September sampai Rabu 30 September Dinas Budpar ditutup 3 hari,\" kata Juru Bicara Tim Gugus Tugas Covid-19 Provinsi Jambi Johansyah.\\n\\nLanjut dia, tentunya akan dilakukan tracking melalui test rapit test terhadap semua ASN dan PTT Dinas Budpar. \"Pihak keluarga pasien 409 juga akan diswab,\" jelasnya.\\n\\nSedangkan pasien sembuh hari ini bertambah 1 orang, yakni pasien 306 asal Kabupaten Kerinci. Secara total pasien sembuh kini berjumlah 263 orang.')\n"
     ]
    },
    {
     "name": "stderr",
     "output_type": "stream",
     "text": [
      "[nltk_data] Downloading package punkt to\n",
      "[nltk_data]     C:\\Users\\ASUS\\AppData\\Roaming\\nltk_data...\n",
      "[nltk_data]   Package punkt is already up-to-date!\n"
     ]
    },
    {
     "name": "stdout",
     "output_type": "stream",
     "text": [
      "('Satu Korban Kecelakaan di Gunung Kutu Babi Lumbis Masih Kritis, Warga Desa Galang Donasi', datetime.datetime(2020, 9, 25, 0, 0), [], 'https://kaltara.tribunnews.com/2020/09/25/satu-korban-kecelakaan-di-gunung-kutu-babi-lumbis-masih-kritis-warga-desa-galang-donasi', 'TRIBUNKALTARA.COM, MALINAU - Satu korban kecelakaan di Gunung Kutu Babi, Lumbis, Nunukan masih kritis, warga desa galang donasi.\\n\\nKorban Kecelakaan Lalu Lintas yang terjadi di Gunung Kutu Babi, Lumbis, Selasa sore (21/9/2020) lalu kini mulai membaik.\\n\\nDari 30 orang Korban, 3 orang meninggal dunia, 23 orang dibawa ke Rumah Sakit Umum Daerah ( RSUD ) Malinau untuk penanganan medis, sementara dua lainnya dirujuk ke RSUD Tarakan karena dalam kondisi kritis.\\n\\n• Si Penyoal Kata Anjay Lutfi Agizal Buat Trending Topic di Twitter, Populerkan Kosa Kata Anjayani\\n\\n• Hasil Swab Nasir Sempat Negatif dan Kini Kembali Dinyatakan Positif, Nasir Mohon Doa\\n\\n• Kapal Dompeng di Anggana Kukar Meledak Usai Mengisi BBM di APMS, Api Hampir Merembet ke Rumah Warga\\n\\nKondisi terbaru korban Kecelakaan Gunung Kutu Babi\\n\\nDi RSUD Tarakan, satu korban telah menjalani pembedahan, sedangkan satu lagi masih kritis, Kamis (25/9/2020).\\n\\nDari 23 orang korban yang dirawat di RSUD Malinau, semua sudah diperbolehkan pulang.\\n\\nKordinator penanganan korban kecelakaan kelompok kalampising, Aslon mengungkapkan, saat ini pihaknya sedang mengumpulkan donasi untuk memenuhi biaya perawatan, penanganan dan pemakaman korban.\\n\\n\"Korban berasal dari Kelompok Kalampising. Mereka adalah warga dari Desa Sasibu, Desa Sedongon, dan Desa Nainsid,\" jelas Aslon.\\n\\nSetelah peristiwa tersebut, Masyarakat Desa Sedongon dan Desa Sasibu menggalang donasi untuk meringankan penderitaan yang dialami korban.\\n\\nAlson berharap Pemerintah Daerah Nunukan dapat membantu meringankan beban yang ditanggung korban, khususnya terkait biaya perawatan Rumah Sakit.')\n"
     ]
    },
    {
     "name": "stderr",
     "output_type": "stream",
     "text": [
      "[nltk_data] Downloading package punkt to\n",
      "[nltk_data]     C:\\Users\\ASUS\\AppData\\Roaming\\nltk_data...\n",
      "[nltk_data]   Package punkt is already up-to-date!\n"
     ]
    },
    {
     "name": "stdout",
     "output_type": "stream",
     "text": [
      "('KRONOLOGI, Suami Tusuk Selingkuhan Istri hingga Tewas, Terkapar dengan Penuh Luka', datetime.datetime(2020, 9, 25, 0, 0), [], 'https://manado.tribunnews.com/2020/09/25/kronologi-suami-tusuk-selingkuhan-istri-hingga-tewas-terkapar-dengan-penuh-luka', 'Ilustrasi Pembunuhan teman ke teman\\n\\nTRIBUNMANADO.CO.ID - Kasus pembunuhan lagi kembali terjadi.\\n\\nKali ini seorang pria berinsial RS (28) ditemukan tewas bersimbah darah di Jalur Trans Sulawesi Dusun Lassangtene, Desa Rumbia, Kecamatan Rumbia, Kabupaten Jeneponto pada Selasa (22/9/2020).\\n\\nTak jauh dari RS tergeletak sebuah sepeda motor.\\n\\nRS ternyata dibunuh MR yang kalap saat tahu korban berboncengan dengan istri MR.\\n\\nMayat RS ditemukan pertama kalo oleh salah seorang pengguna jalan yang meminta pertolongan saat melihat pria terkapar penuh luka.\\n\\nAwalnya RS diduga sebagai korban tabrak lalu lintas. Namun RS ternyata tewas dengan 12 tusukan di tubuhnya.\\n\\n\"Setelah dilakukan olah tempat kejadian perkara (TKP) oleh anggota di lapangan menemukan fakta bahwa korban diduga merupakan korban pembunuhan dengan dua belas luka tikaman badik di sejumlah bagian tubuh korban\" kata AKBP Yudha Kesit Dwijiyanto, Kapolres Jeneponto melalui pesan singkat pada Kamis, (24/9/2020).\\n\\nPisah ranjang selama tiga bulan\\n\\nAKBP Yudha Kesit mengatakan dari hasil penyelidikan terungkap motif pembunuhan tersebut adalah asmara.\\n\\nMenurut keterangan pelaku, ia dan istrinya sudah pisah selama tiga bulan. Lalu sang istri menjalin hubungan dengan korban.')\n"
     ]
    },
    {
     "name": "stderr",
     "output_type": "stream",
     "text": [
      "[nltk_data] Downloading package punkt to\n",
      "[nltk_data]     C:\\Users\\ASUS\\AppData\\Roaming\\nltk_data...\n",
      "[nltk_data]   Package punkt is already up-to-date!\n"
     ]
    },
    {
     "name": "stdout",
     "output_type": "stream",
     "text": [
      "('Bupati Minsel Tunaikan Tugas Terakhir Sebelum Ambil Cuti Kampanye', datetime.datetime(2020, 9, 25, 0, 0), [], 'https://manado.tribunnews.com/2020/09/25/bupati-minsel-tunaikan-tugas-terakhir-sebelum-ambil-cuti-kampanye', 'Bupati Christiany Eugenia Paruntu akan menjalani masa cuti kampanye\\n\\nTRIBUNMANADO.CO.ID. AMURANG - Tanggal 26 September Kabupaten Minahasa Selatan (Minsel) akan dipimpin oleh seorang penjabat bupati.\\n\\nHal ini dikarenakan Bupati Christiany Eugenia Paruntu akan menjalani masa cuti kampanye.\\n\\nTetty Paruntu akan memanfaatkan cuti kampanye selama kurang lebih tiga bulan untuk melakukan sosialisasi di tengah masyarakat dalam pencalonannya sebagai Calon Gubernur Sulawesi Utara (Sulut).\\n\\n• Tunjang Program Desa Digital, JG-KWL Janji Sediakan Internet Gratis di Kampung\\n\\n• Polresta Manado Terus Selidiki Kasus Penganiayaan Sopir dan Pengrusakan Ambulans RS Kandou\\n\\n• Tugu Pers Kawangkoan, Mengenang Jasa Pahlawan Jurnalistik Mendur Bersaudara\\n\\nDi hari terakhir tugasnya sebagai kepala daerah definitif, bupati perempuan dua periode ini, melaksanakan tugasnya dengan mengikuti rapat Penetapan Program Pembentukan Peraturan\\n\\nDaerah (Propemperda) Kabupaten Minsel 2020, Jumat (25/9/2020).\\n\\nKepala Bagian Humas dan Protokoler Setdakab Minsel Ysis Mangindaan mengatakan, selain itu Bupati Tetty Paruntu juga mengikuti Pembicaraan Tingkat Kedua Terhadap Rancangan\\n\\nPeraturan Daerah Kabupaten Minsel Tentang APBD Perubahan bersama DPRD Minsel.\\n\\n\"Dua agenda ini berlangsung secara virtual di Rumah Dinas Bupati Minsel,\" ujar mantan Sekcam Amurang Timur ini.\\n\\n• Cerita Polwan Cantik di Manado, Aipda Yunetha Lontoh Wanita Hebat dan Tangguh\\n\\n• Pemerintah Desa Bersama Tokoh Masyarakat Tiniawangko Gaungkan Pesan Kamtibmas\\n\\nRapat paripurna dibuka oleh Wakil Ketua DPRD Kabupaten Minsel Paulman Runtuwene.\\n\\nHadir juga dalam rapat online itu Wakil Bupati Franky Donny Wongkar, Ketua DPRD Jenny Johana Tumbuan, Wakil Ketua DPRD Stevanus D N Lumowa dan anggota DPRD Kabupaten Minsel.\\n\\nKemudian Unsur Forkopimda Minsel serta sejumlah kepala satuan kerja perangkat daerah.\\n\\n• BPJamsostek Lindungi 13 Ribu Pekerja Bukan Penerima Upah di Kota Manado\\n\\nSUBSCRIBE YOUTUBE TRIBUN MANADO:')\n"
     ]
    },
    {
     "name": "stderr",
     "output_type": "stream",
     "text": [
      "[nltk_data] Downloading package punkt to\n",
      "[nltk_data]     C:\\Users\\ASUS\\AppData\\Roaming\\nltk_data...\n",
      "[nltk_data]   Package punkt is already up-to-date!\n"
     ]
    },
    {
     "name": "stdout",
     "output_type": "stream",
     "text": [
      "(\"GuyonWaton, Kunci C, 'Perlahan engkaupun Menjauh dari diriku'\", datetime.datetime(2020, 9, 25, 0, 0), [], 'https://manado.tribunnews.com/2020/09/25/chord-gitar-dan-lirik-perlahan-guyonwaton-kunci-c-perlahan-engkaupun-menjauh-dari-diriku', 'TRIBUNMANADO.CO.ID - Lirik dan Chord gitar Perlahan - GuyunWaton.\\n\\nKunci Dasar C.\\n\\nIntro : C F G Em Am Dm G\\n\\nC G Am G\\n\\nMemang salahku\\n\\nF C\\n\\nTerlalu dingin denganmu\\n\\nDm G\\n\\nTerlalu mendiamkanmu\\n\\nC G Am G\\n\\nKau yang.. selalu..\\n\\nF\\n\\nMemperhatikanku\\n\\nFm G\\n\\nDan sebenarnya aku juga begitu..\\n\\nF Em Am\\n\\nMaafkanku.. yang selalu membuatmu')\n"
     ]
    },
    {
     "name": "stderr",
     "output_type": "stream",
     "text": [
      "[nltk_data] Downloading package punkt to\n",
      "[nltk_data]     C:\\Users\\ASUS\\AppData\\Roaming\\nltk_data...\n",
      "[nltk_data]   Package punkt is already up-to-date!\n"
     ]
    },
    {
     "name": "stdout",
     "output_type": "stream",
     "text": [
      "('Penjualan dan Produksi Mobil Diprediksi Sulit Pulih Tahun Ini', datetime.datetime(2020, 9, 25, 0, 0), [], 'https://jogja.tribunnews.com/2020/09/25/penjualan-dan-produksi-mobil-diprediksi-sulit-pulih-tahun-ini', 'TRIBUNJOGJA.COM -- Penjualan dan produksi mobil tanah air diprediksi sulit untuk segera pulih di tahun ini. Karenanya, Agen Pemegang Merek (APM) mobil tak menargetkan perolehan penjualan yang muluk-muluk.\\n\\nAmelia Tjandra, Direktur Marketing PT Astra Daihatsu Motor (ADM), mengaku belum melihat tanda-tanda pemulihan pasar mobil sampai akhir bulan nanti. Baik penjualan domestik maupun ekspor diperkirakan masih akan menurun lantaran terpengaruh pandemi Covid-19.\\n\\nApalagi, katanya, ia berkaca pada data penjualan Gabungan Industri Kendaraan Bermotor Indonesia (Gaikindo) sampai dengan Agustus untuk penjualan wholesales turun hingga 51% secara tahunan menjadi 323.507 unit.\\n\\nMelihat pasar yang masih lesu, Daihatsu hanya fokus mempertahankan perolehan pangsa pasar penjualan sama seperti tahun lalu.\\n\\n\"Iya target kami jaga market share 17% di tahun ini,\" kata Amelia, dikutip dari Kontan, Jumat (25/9/2020).\\n\\nAdapun akumulasi penjualan ritel Daihatsu di sepanjang Januari - Agustus 2020 mencapai 65.767 unit, setara dengan kurang lebih 18,1% dari total penjualan ritel nasional. Angka market share tersebut lebih besar bila dibanding market share penjualan ritel Daihatsu yang hanya mencapai 16,9% pada periode sama tahun lalu.\\n\\nNamun perolehan penjualan ritel Daihatsu di delapan bulan pertama tahun ini masih anjlok 43% dibandingkan perolehan penjualan ritel periode yang sama tahun lalu 114.527 unit. Anjloknya penjualan dibarengi dengan pelemahan kapasitas produksi.\\n\\nMenurut Amelia, tahun ini kemungkinan hasil produksi mobil Daihatsu bakal berkurang 50% dibandingkan tahun lalu. Sampai dengan bulan Agustus tahun ini saja produksi mobil Daihatsu hanya sebanyak 57.681 unit atau susut 54% dibandingkan capaian produksi Januari-Agustus tahun lalu 124.984 unit.\\n\\nKondisi yang sama juga dialami Isuzu, di mana pada periode Januari-Agustus tahun ini volume penjualan ritel APM tersebut hanya mencapai 10.488 unit atau turun 32% secara tahunan. Sedangkan produksi mobil Isuzu tercatat sebanyak 11.451 unit sampai dengan Agustus tahun lalu atau susut 24% dibandingkan periode yang sama tahun lalu 15.043 unit.\\n\\nErnando Demily, Presiden Direktur PT Isuzu Astra Motor Indonesia, mengatakan pihaknya masih berupaya mendorong penjualan produknya di pasaran. Salah satunya dengan menawarkan berbagai program penjualan yang menarik.\\n\\n\"Untuk program di bulan ini ada program untuk membantu meringankan beban customer kami yang sebagian besar adalah pengusaha dengan memberikan gratis asuransi sampai dengan 4 tahun,\" katanya.\\n\\nManajemen Isuzu belum dapat membeberkan soal target penjualan di tahun ini. Namun dalam pemberitaan sebelumnya diketahui Isuzu berusaha mempertahankan perolehan pangsa pasarnya yang kebanyakan berada pada segmen mobil komersial. (*)')\n",
      "('Jumlah Tempat Tidur Rumah Sakit di Magelang Masih Mencukupi', datetime.datetime(2020, 9, 25, 0, 0), [], 'https://jogja.tribunnews.com/2020/09/25/jumlah-tempat-tidur-rumah-sakit-di-magelang-masih-mencukupi', 'Laporan Reporter Tribun Jogja, Rendika Ferri K\\n\\nTRIBUNJOGJA.COM, MAGELANG - Ketersediaan tempat tidur di rumah sakit di Kabupaten Magelang masih mencukupi.\\n\\nPemkab Magelang telah menyiapkan rumah sakit umum daerah, didukung rumah sakit swasta, dan rumah sakit di Kota Magelang sendiri.\\n\\nKoordinator Bidang Operasi Gugus Tugas Percepatan Penanganan Covid-19 Kabupaten Magelang, Retno Indriastuti, mengatakan, ketersediaan tempat tidur di rumah sakit sejauh ini telah mencukupi.\\n\\n• Gugus Tugas Kabupaten Magelang Gencarkan Tes Swab, Target Seminggu 1.300 Sampel\\n\\nSeperti di RSUD Muntilan yang tersedia 26 tempat tidur.\\n\\nRS Merah Putih sebanyak 80 tempat tidur.\\n\\nJika masih kekurangan, didukung RS swasta dari RS Syubbanul Wathon Tegalrejo maupun RS Aisyiah Muntilan, RSUD Tidar dan RST dr Soedjono di Kota Magelang.\\n\\n\"Daya tampung masih cukup. Ketersedian tempat tidur di RSUD Muntilan tersedia 26. Pasien yg dirawat juga sedikit. RS Merah putih, ada 80, yang dirawat juga sedikit. Juga didukung rumah sakit yang lain. Jumlah pasien seperti sekarang masih terlayani dengan baik,\" ujar Retno, Jumat (25/9/2020), saat Jumpa Pers Penanganan Covid-19 di Command Center Pemkab Magelang.\\n\\n• Kabupaten Magelang Masuk Zona Merah Covid-19\\n\\nAlat Pelindung Diri (APD) juga telah tercukupi baik dari Pemerintah Provinsi Jawa Tengah maupun dari Kementerian.\\n\\nSebagaimana diketahui, terjadi peningkatan kasus yang signifikan beberapa waktu terakhir di Kabupaten Magelang.\\n\\nKabupaten Magelang juga masuk ke dalam zona merah.\\n\\nGugus tugas pun melakukan upaya pencegahan dan penanganan secara intensif. (TRIBUNJOGJA.COM)')\n"
     ]
    },
    {
     "name": "stderr",
     "output_type": "stream",
     "text": [
      "[nltk_data] Downloading package punkt to\n",
      "[nltk_data]     C:\\Users\\ASUS\\AppData\\Roaming\\nltk_data...\n",
      "[nltk_data]   Package punkt is already up-to-date!\n"
     ]
    }
   ],
   "source": [
    "import newspaper\n",
    "import nltk\n",
    "import pandas as pd\n",
    "import numpy as np\n",
    "from newspaper import Article\n",
    "from newspaper import fulltext\n",
    "\n",
    "def scrap_data(tribun_news: str) -> tuple:\n",
    "    article = Article(tribun_news)\n",
    "    article.download()\n",
    "    article.parse()\n",
    "    nltk.download('punkt')\n",
    "    article.nlp()\n",
    "    title = article.title\n",
    "    publish = article.publish_date\n",
    "    author = article.authors\n",
    "    link = article.url\n",
    "    data = article.text\n",
    "    # raw_text = views.result(data)\n",
    "    return title, publish, author, link, data\n",
    "\n",
    "tribun_news = newspaper.build('https://www.tribunnews.com/')\n",
    "for article in tribun_news.articles:\n",
    "    data = scrap_data(article.url)\n",
    "    print (data)"
   ]
  },
  {
   "cell_type": "code",
   "execution_count": 13,
   "metadata": {},
   "outputs": [],
   "source": [
    "df = pd.DataFrame(hasil)\n",
    "df.to_csv('tribunn2.csv', index=False, encoding=\"utf-8\")"
   ]
  },
  {
   "cell_type": "code",
   "execution_count": 14,
   "metadata": {},
   "outputs": [
    {
     "data": {
      "text/html": [
       "<div>\n",
       "<style scoped>\n",
       "    .dataframe tbody tr th:only-of-type {\n",
       "        vertical-align: middle;\n",
       "    }\n",
       "\n",
       "    .dataframe tbody tr th {\n",
       "        vertical-align: top;\n",
       "    }\n",
       "\n",
       "    .dataframe thead th {\n",
       "        text-align: right;\n",
       "    }\n",
       "</style>\n",
       "<table border=\"1\" class=\"dataframe\">\n",
       "  <thead>\n",
       "    <tr style=\"text-align: right;\">\n",
       "      <th></th>\n",
       "      <th>0</th>\n",
       "    </tr>\n",
       "  </thead>\n",
       "  <tbody>\n",
       "    <tr>\n",
       "      <th>0</th>\n",
       "      <td>Alasan Kenapa Pemain Top Pilih City atau Liver...</td>\n",
       "    </tr>\n",
       "    <tr>\n",
       "      <th>1</th>\n",
       "      <td>2020-09-25 00:00:00</td>\n",
       "    </tr>\n",
       "    <tr>\n",
       "      <th>2</th>\n",
       "      <td>[]</td>\n",
       "    </tr>\n",
       "    <tr>\n",
       "      <th>3</th>\n",
       "      <td>https://jogja.tribunnews.com/2020/09/25/alasan...</td>\n",
       "    </tr>\n",
       "    <tr>\n",
       "      <th>4</th>\n",
       "      <td>Tribunjogja.com Inggris -- Mantan penyerang Ma...</td>\n",
       "    </tr>\n",
       "  </tbody>\n",
       "</table>\n",
       "</div>"
      ],
      "text/plain": [
       "                                                   0\n",
       "0  Alasan Kenapa Pemain Top Pilih City atau Liver...\n",
       "1                                2020-09-25 00:00:00\n",
       "2                                                 []\n",
       "3  https://jogja.tribunnews.com/2020/09/25/alasan...\n",
       "4  Tribunjogja.com Inggris -- Mantan penyerang Ma..."
      ]
     },
     "execution_count": 14,
     "metadata": {},
     "output_type": "execute_result"
    }
   ],
   "source": [
    "df"
   ]
  },
  {
   "cell_type": "code",
   "execution_count": 25,
   "metadata": {},
   "outputs": [
    {
     "data": {
      "text/html": [
       "<div>\n",
       "<style scoped>\n",
       "    .dataframe tbody tr th:only-of-type {\n",
       "        vertical-align: middle;\n",
       "    }\n",
       "\n",
       "    .dataframe tbody tr th {\n",
       "        vertical-align: top;\n",
       "    }\n",
       "\n",
       "    .dataframe thead th {\n",
       "        text-align: right;\n",
       "    }\n",
       "</style>\n",
       "<table border=\"1\" class=\"dataframe\">\n",
       "  <thead>\n",
       "    <tr style=\"text-align: right;\">\n",
       "      <th></th>\n",
       "      <th>0</th>\n",
       "    </tr>\n",
       "  </thead>\n",
       "  <tbody>\n",
       "    <tr>\n",
       "      <th>0</th>\n",
       "      <td>Kronologi Rombongan Polisi Ditembaki KKB Papua...</td>\n",
       "    </tr>\n",
       "    <tr>\n",
       "      <th>1</th>\n",
       "      <td>2020-09-25 00:00:00</td>\n",
       "    </tr>\n",
       "    <tr>\n",
       "      <th>2</th>\n",
       "      <td>[]</td>\n",
       "    </tr>\n",
       "    <tr>\n",
       "      <th>3</th>\n",
       "      <td>https://jogja.tribunnews.com/2020/09/25/kronol...</td>\n",
       "    </tr>\n",
       "    <tr>\n",
       "      <th>4</th>\n",
       "      <td>TRIBUNJOGJA.COM, JAYAPURA - Rombongan polisi y...</td>\n",
       "    </tr>\n",
       "  </tbody>\n",
       "</table>\n",
       "</div>"
      ],
      "text/plain": [
       "                                                   0\n",
       "0  Kronologi Rombongan Polisi Ditembaki KKB Papua...\n",
       "1                                2020-09-25 00:00:00\n",
       "2                                                 []\n",
       "3  https://jogja.tribunnews.com/2020/09/25/kronol...\n",
       "4  TRIBUNJOGJA.COM, JAYAPURA - Rombongan polisi y..."
      ]
     },
     "execution_count": 25,
     "metadata": {},
     "output_type": "execute_result"
    }
   ],
   "source": [
    "data = dict = {'title': [article.title], \n",
    "               'publish': [article.publish_date], \n",
    "               'author': [article.authors], \n",
    "               'link': [article.url], \n",
    "               'data': [article.text]}\n",
    "df.to_csv('tribun_news2.csv', index=False)\n",
    "df.head()"
   ]
  },
  {
   "cell_type": "code",
   "execution_count": null,
   "metadata": {},
   "outputs": [],
   "source": []
  }
 ],
 "metadata": {
  "kernelspec": {
   "display_name": "Python 3",
   "language": "python",
   "name": "python3"
  },
  "language_info": {
   "codemirror_mode": {
    "name": "ipython",
    "version": 3
   },
   "file_extension": ".py",
   "mimetype": "text/x-python",
   "name": "python",
   "nbconvert_exporter": "python",
   "pygments_lexer": "ipython3",
   "version": "3.8.6"
  }
 },
 "nbformat": 4,
 "nbformat_minor": 4
}
